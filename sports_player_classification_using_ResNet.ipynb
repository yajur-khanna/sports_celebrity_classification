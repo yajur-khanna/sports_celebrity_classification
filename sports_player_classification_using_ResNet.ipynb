{
 "cells": [
  {
   "cell_type": "code",
   "execution_count": 1,
   "metadata": {
    "execution": {
     "iopub.execute_input": "2024-04-13T09:27:48.583862Z",
     "iopub.status.busy": "2024-04-13T09:27:48.583521Z",
     "iopub.status.idle": "2024-04-13T09:28:27.810434Z",
     "shell.execute_reply": "2024-04-13T09:28:27.809424Z",
     "shell.execute_reply.started": "2024-04-13T09:27:48.583827Z"
    }
   },
   "outputs": [
    {
     "name": "stdout",
     "output_type": "stream",
     "text": [
      "Collecting torchsampler\n",
      "  Downloading torchsampler-0.1.2-py3-none-any.whl.metadata (4.7 kB)\n",
      "Requirement already satisfied: torch>=1.3 in /opt/conda/lib/python3.10/site-packages (from torchsampler) (2.1.2)\n",
      "Requirement already satisfied: torchvision>=0.5 in /opt/conda/lib/python3.10/site-packages (from torchsampler) (0.16.2)\n",
      "Requirement already satisfied: pandas in /opt/conda/lib/python3.10/site-packages (from torchsampler) (2.1.4)\n",
      "Requirement already satisfied: filelock in /opt/conda/lib/python3.10/site-packages (from torch>=1.3->torchsampler) (3.13.1)\n",
      "Requirement already satisfied: typing-extensions in /opt/conda/lib/python3.10/site-packages (from torch>=1.3->torchsampler) (4.9.0)\n",
      "Requirement already satisfied: sympy in /opt/conda/lib/python3.10/site-packages (from torch>=1.3->torchsampler) (1.12)\n",
      "Requirement already satisfied: networkx in /opt/conda/lib/python3.10/site-packages (from torch>=1.3->torchsampler) (3.2.1)\n",
      "Requirement already satisfied: jinja2 in /opt/conda/lib/python3.10/site-packages (from torch>=1.3->torchsampler) (3.1.2)\n",
      "Requirement already satisfied: fsspec in /opt/conda/lib/python3.10/site-packages (from torch>=1.3->torchsampler) (2024.2.0)\n",
      "Requirement already satisfied: numpy in /opt/conda/lib/python3.10/site-packages (from torchvision>=0.5->torchsampler) (1.26.4)\n",
      "Requirement already satisfied: requests in /opt/conda/lib/python3.10/site-packages (from torchvision>=0.5->torchsampler) (2.31.0)\n",
      "Requirement already satisfied: pillow!=8.3.*,>=5.3.0 in /opt/conda/lib/python3.10/site-packages (from torchvision>=0.5->torchsampler) (9.5.0)\n",
      "Requirement already satisfied: python-dateutil>=2.8.2 in /opt/conda/lib/python3.10/site-packages (from pandas->torchsampler) (2.9.0.post0)\n",
      "Requirement already satisfied: pytz>=2020.1 in /opt/conda/lib/python3.10/site-packages (from pandas->torchsampler) (2023.3.post1)\n",
      "Requirement already satisfied: tzdata>=2022.1 in /opt/conda/lib/python3.10/site-packages (from pandas->torchsampler) (2023.4)\n",
      "Requirement already satisfied: six>=1.5 in /opt/conda/lib/python3.10/site-packages (from python-dateutil>=2.8.2->pandas->torchsampler) (1.16.0)\n",
      "Requirement already satisfied: MarkupSafe>=2.0 in /opt/conda/lib/python3.10/site-packages (from jinja2->torch>=1.3->torchsampler) (2.1.3)\n",
      "Requirement already satisfied: charset-normalizer<4,>=2 in /opt/conda/lib/python3.10/site-packages (from requests->torchvision>=0.5->torchsampler) (3.3.2)\n",
      "Requirement already satisfied: idna<4,>=2.5 in /opt/conda/lib/python3.10/site-packages (from requests->torchvision>=0.5->torchsampler) (3.6)\n",
      "Requirement already satisfied: urllib3<3,>=1.21.1 in /opt/conda/lib/python3.10/site-packages (from requests->torchvision>=0.5->torchsampler) (1.26.18)\n",
      "Requirement already satisfied: certifi>=2017.4.17 in /opt/conda/lib/python3.10/site-packages (from requests->torchvision>=0.5->torchsampler) (2024.2.2)\n",
      "Requirement already satisfied: mpmath>=0.19 in /opt/conda/lib/python3.10/site-packages (from sympy->torch>=1.3->torchsampler) (1.3.0)\n",
      "Downloading torchsampler-0.1.2-py3-none-any.whl (5.6 kB)\n",
      "Installing collected packages: torchsampler\n",
      "Successfully installed torchsampler-0.1.2\n",
      "Requirement already satisfied: torchmetrics in /opt/conda/lib/python3.10/site-packages (1.3.2)\n",
      "Requirement already satisfied: numpy>1.20.0 in /opt/conda/lib/python3.10/site-packages (from torchmetrics) (1.26.4)\n",
      "Requirement already satisfied: packaging>17.1 in /opt/conda/lib/python3.10/site-packages (from torchmetrics) (21.3)\n",
      "Requirement already satisfied: torch>=1.10.0 in /opt/conda/lib/python3.10/site-packages (from torchmetrics) (2.1.2)\n",
      "Requirement already satisfied: lightning-utilities>=0.8.0 in /opt/conda/lib/python3.10/site-packages (from torchmetrics) (0.11.2)\n",
      "Requirement already satisfied: setuptools in /opt/conda/lib/python3.10/site-packages (from lightning-utilities>=0.8.0->torchmetrics) (69.0.3)\n",
      "Requirement already satisfied: typing-extensions in /opt/conda/lib/python3.10/site-packages (from lightning-utilities>=0.8.0->torchmetrics) (4.9.0)\n",
      "Requirement already satisfied: pyparsing!=3.0.5,>=2.0.2 in /opt/conda/lib/python3.10/site-packages (from packaging>17.1->torchmetrics) (3.1.1)\n",
      "Requirement already satisfied: filelock in /opt/conda/lib/python3.10/site-packages (from torch>=1.10.0->torchmetrics) (3.13.1)\n",
      "Requirement already satisfied: sympy in /opt/conda/lib/python3.10/site-packages (from torch>=1.10.0->torchmetrics) (1.12)\n",
      "Requirement already satisfied: networkx in /opt/conda/lib/python3.10/site-packages (from torch>=1.10.0->torchmetrics) (3.2.1)\n",
      "Requirement already satisfied: jinja2 in /opt/conda/lib/python3.10/site-packages (from torch>=1.10.0->torchmetrics) (3.1.2)\n",
      "Requirement already satisfied: fsspec in /opt/conda/lib/python3.10/site-packages (from torch>=1.10.0->torchmetrics) (2024.2.0)\n",
      "Requirement already satisfied: MarkupSafe>=2.0 in /opt/conda/lib/python3.10/site-packages (from jinja2->torch>=1.10.0->torchmetrics) (2.1.3)\n",
      "Requirement already satisfied: mpmath>=0.19 in /opt/conda/lib/python3.10/site-packages (from sympy->torch>=1.10.0->torchmetrics) (1.3.0)\n",
      "Collecting split-folders\n",
      "  Downloading split_folders-0.5.1-py3-none-any.whl.metadata (6.2 kB)\n",
      "Downloading split_folders-0.5.1-py3-none-any.whl (8.4 kB)\n",
      "Installing collected packages: split-folders\n",
      "Successfully installed split-folders-0.5.1\n"
     ]
    }
   ],
   "source": [
    "!pip install torchsampler\n",
    "!pip install torchmetrics\n",
    "!pip install split-folders"
   ]
  },
  {
   "cell_type": "code",
   "execution_count": 2,
   "metadata": {
    "execution": {
     "iopub.execute_input": "2024-04-13T09:28:27.812805Z",
     "iopub.status.busy": "2024-04-13T09:28:27.812514Z",
     "iopub.status.idle": "2024-04-13T09:28:41.068121Z",
     "shell.execute_reply": "2024-04-13T09:28:41.067351Z",
     "shell.execute_reply.started": "2024-04-13T09:28:27.812778Z"
    }
   },
   "outputs": [],
   "source": [
    "import torchvision\n",
    "import torch\n",
    "import torch.nn as nn\n",
    "import torch.nn.functional as F\n",
    "import torch.optim as optim\n",
    "import torchvision.transforms as transforms\n",
    "import os\n",
    "import matplotlib.pyplot as plt\n",
    "import numpy as np\n",
    "from tqdm import tqdm\n",
    "from PIL import Image\n",
    "import torchvision.models as models\n",
    "from torch.cuda.amp import autocast, GradScaler\n",
    "from tqdm.autonotebook import tqdm, trange\n",
    "import time\n",
    "from sklearn.metrics import accuracy_score,f1_score,precision_score,recall_score,confusion_matrix, classification_report\n",
    "from torchsampler import ImbalancedDatasetSampler\n",
    "from torch.utils.data.sampler import BatchSampler\n",
    "import pandas as pd\n",
    "import random\n",
    "import torch\n",
    "from torch.autograd import Variable\n",
    "from torch.nn import Linear, ReLU, LeakyReLU, CrossEntropyLoss, Sequential, Conv2d, MaxPool2d, Module, Softmax, BatchNorm2d, Dropout"
   ]
  },
  {
   "cell_type": "code",
   "execution_count": 3,
   "metadata": {
    "execution": {
     "iopub.execute_input": "2024-04-13T09:28:41.069529Z",
     "iopub.status.busy": "2024-04-13T09:28:41.069144Z",
     "iopub.status.idle": "2024-04-13T09:28:44.627593Z",
     "shell.execute_reply": "2024-04-13T09:28:44.626645Z",
     "shell.execute_reply.started": "2024-04-13T09:28:41.069505Z"
    }
   },
   "outputs": [
    {
     "name": "stderr",
     "output_type": "stream",
     "text": [
      "Copying files: 441 files [00:03, 124.66 files/s]\n"
     ]
    }
   ],
   "source": [
    "import splitfolders\n",
    "\n",
    "# Split the dataset into train, test, and val folders\n",
    "splitfolders.ratio('/kaggle/input/sport-celebrity-image-classification/Sports-celebrity images', output=\"data1\", seed=1337, ratio=(.7, 0.2, 0.1))\n",
    "\n",
    "# Define the paths to train, test, and val folders\n",
    "train_folder = \"data1/train\"\n",
    "test_folder = \"data1/test\"\n",
    "val_folder = \"data1/val\""
   ]
  },
  {
   "cell_type": "code",
   "execution_count": 4,
   "metadata": {
    "execution": {
     "iopub.execute_input": "2024-04-13T09:28:44.629891Z",
     "iopub.status.busy": "2024-04-13T09:28:44.629610Z",
     "iopub.status.idle": "2024-04-13T09:28:44.636976Z",
     "shell.execute_reply": "2024-04-13T09:28:44.636083Z",
     "shell.execute_reply.started": "2024-04-13T09:28:44.629867Z"
    }
   },
   "outputs": [],
   "source": [
    "train_transforms = transforms.Compose([\n",
    "                                       transforms.Resize((256,256)),\n",
    "                                       transforms.RandomHorizontalFlip(),\n",
    "                                       transforms.RandomRotation(90),\n",
    "                                       transforms.ToTensor(),\n",
    "                                       \n",
    "])\n",
    "\n",
    "val_transforms = transforms.Compose([\n",
    "                                       transforms.Resize((256,256)),\n",
    "                                       transforms.RandomHorizontalFlip(),\n",
    "                                       transforms.RandomRotation(90),\n",
    "                                       transforms.ToTensor(),\n",
    "                                       \n",
    "])\n",
    "\n",
    "test_transforms = transforms.Compose([\n",
    "                                       transforms.Resize((256,256)),\n",
    "                                       transforms.ToTensor(),\n",
    "                                       \n",
    "])"
   ]
  },
  {
   "cell_type": "code",
   "execution_count": 5,
   "metadata": {
    "execution": {
     "iopub.execute_input": "2024-04-13T09:28:44.638410Z",
     "iopub.status.busy": "2024-04-13T09:28:44.638069Z",
     "iopub.status.idle": "2024-04-13T09:28:44.656724Z",
     "shell.execute_reply": "2024-04-13T09:28:44.655956Z",
     "shell.execute_reply.started": "2024-04-13T09:28:44.638378Z"
    }
   },
   "outputs": [],
   "source": [
    "train_dataset = torchvision.datasets.ImageFolder(root = train_folder, transform=train_transforms)\n",
    "val_dataset = torchvision.datasets.ImageFolder(root = val_folder, transform=val_transforms)\n",
    "test_dataset = torchvision.datasets.ImageFolder(root = test_folder, transform=test_transforms)"
   ]
  },
  {
   "cell_type": "code",
   "execution_count": 6,
   "metadata": {
    "execution": {
     "iopub.execute_input": "2024-04-13T09:28:44.658169Z",
     "iopub.status.busy": "2024-04-13T09:28:44.657901Z",
     "iopub.status.idle": "2024-04-13T09:28:44.718495Z",
     "shell.execute_reply": "2024-04-13T09:28:44.717706Z",
     "shell.execute_reply.started": "2024-04-13T09:28:44.658147Z"
    }
   },
   "outputs": [],
   "source": [
    "train_loader = torch.utils.data.DataLoader(dataset = train_dataset, sampler=ImbalancedDatasetSampler(train_dataset), batch_size=32)\n",
    "val_loader = torch.utils.data.DataLoader(dataset = val_dataset, batch_size=32, shuffle=False)\n",
    "test_loader = torch.utils.data.DataLoader(dataset = test_dataset, batch_size=32, shuffle=False)"
   ]
  },
  {
   "cell_type": "code",
   "execution_count": 7,
   "metadata": {
    "execution": {
     "iopub.execute_input": "2024-04-13T09:28:44.719981Z",
     "iopub.status.busy": "2024-04-13T09:28:44.719653Z",
     "iopub.status.idle": "2024-04-13T09:28:44.780835Z",
     "shell.execute_reply": "2024-04-13T09:28:44.779864Z",
     "shell.execute_reply.started": "2024-04-13T09:28:44.719951Z"
    }
   },
   "outputs": [
    {
     "name": "stdout",
     "output_type": "stream",
     "text": [
      "cuda:0\n"
     ]
    }
   ],
   "source": [
    "device = torch.device(\"cuda:0\" if torch.cuda.is_available() else \"cpu\")\n",
    "print(device)"
   ]
  },
  {
   "cell_type": "code",
   "execution_count": 8,
   "metadata": {
    "execution": {
     "iopub.execute_input": "2024-04-13T09:28:44.782343Z",
     "iopub.status.busy": "2024-04-13T09:28:44.782038Z",
     "iopub.status.idle": "2024-04-13T09:28:45.625392Z",
     "shell.execute_reply": "2024-04-13T09:28:45.624184Z",
     "shell.execute_reply.started": "2024-04-13T09:28:44.782317Z"
    }
   },
   "outputs": [
    {
     "name": "stderr",
     "output_type": "stream",
     "text": [
      "/opt/conda/lib/python3.10/site-packages/torchvision/models/_utils.py:208: UserWarning: The parameter 'pretrained' is deprecated since 0.13 and may be removed in the future, please use 'weights' instead.\n",
      "  warnings.warn(\n",
      "/opt/conda/lib/python3.10/site-packages/torchvision/models/_utils.py:223: UserWarning: Arguments other than a weight enum or `None` for 'weights' are deprecated since 0.13 and may be removed in the future. The current behavior is equivalent to passing `weights=ResNet18_Weights.IMAGENET1K_V1`. You can also use `weights=ResNet18_Weights.DEFAULT` to get the most up-to-date weights.\n",
      "  warnings.warn(msg)\n",
      "Downloading: \"https://download.pytorch.org/models/resnet18-f37072fd.pth\" to /root/.cache/torch/hub/checkpoints/resnet18-f37072fd.pth\n",
      "100%|██████████| 44.7M/44.7M [00:00<00:00, 126MB/s] \n"
     ]
    },
    {
     "name": "stdout",
     "output_type": "stream",
     "text": [
      "ResNet(\n",
      "  (conv1): Conv2d(3, 64, kernel_size=(7, 7), stride=(2, 2), padding=(3, 3), bias=False)\n",
      "  (bn1): BatchNorm2d(64, eps=1e-05, momentum=0.1, affine=True, track_running_stats=True)\n",
      "  (relu): ReLU(inplace=True)\n",
      "  (maxpool): MaxPool2d(kernel_size=3, stride=2, padding=1, dilation=1, ceil_mode=False)\n",
      "  (layer1): Sequential(\n",
      "    (0): BasicBlock(\n",
      "      (conv1): Conv2d(64, 64, kernel_size=(3, 3), stride=(1, 1), padding=(1, 1), bias=False)\n",
      "      (bn1): BatchNorm2d(64, eps=1e-05, momentum=0.1, affine=True, track_running_stats=True)\n",
      "      (relu): ReLU(inplace=True)\n",
      "      (conv2): Conv2d(64, 64, kernel_size=(3, 3), stride=(1, 1), padding=(1, 1), bias=False)\n",
      "      (bn2): BatchNorm2d(64, eps=1e-05, momentum=0.1, affine=True, track_running_stats=True)\n",
      "    )\n",
      "    (1): BasicBlock(\n",
      "      (conv1): Conv2d(64, 64, kernel_size=(3, 3), stride=(1, 1), padding=(1, 1), bias=False)\n",
      "      (bn1): BatchNorm2d(64, eps=1e-05, momentum=0.1, affine=True, track_running_stats=True)\n",
      "      (relu): ReLU(inplace=True)\n",
      "      (conv2): Conv2d(64, 64, kernel_size=(3, 3), stride=(1, 1), padding=(1, 1), bias=False)\n",
      "      (bn2): BatchNorm2d(64, eps=1e-05, momentum=0.1, affine=True, track_running_stats=True)\n",
      "    )\n",
      "  )\n",
      "  (layer2): Sequential(\n",
      "    (0): BasicBlock(\n",
      "      (conv1): Conv2d(64, 128, kernel_size=(3, 3), stride=(2, 2), padding=(1, 1), bias=False)\n",
      "      (bn1): BatchNorm2d(128, eps=1e-05, momentum=0.1, affine=True, track_running_stats=True)\n",
      "      (relu): ReLU(inplace=True)\n",
      "      (conv2): Conv2d(128, 128, kernel_size=(3, 3), stride=(1, 1), padding=(1, 1), bias=False)\n",
      "      (bn2): BatchNorm2d(128, eps=1e-05, momentum=0.1, affine=True, track_running_stats=True)\n",
      "      (downsample): Sequential(\n",
      "        (0): Conv2d(64, 128, kernel_size=(1, 1), stride=(2, 2), bias=False)\n",
      "        (1): BatchNorm2d(128, eps=1e-05, momentum=0.1, affine=True, track_running_stats=True)\n",
      "      )\n",
      "    )\n",
      "    (1): BasicBlock(\n",
      "      (conv1): Conv2d(128, 128, kernel_size=(3, 3), stride=(1, 1), padding=(1, 1), bias=False)\n",
      "      (bn1): BatchNorm2d(128, eps=1e-05, momentum=0.1, affine=True, track_running_stats=True)\n",
      "      (relu): ReLU(inplace=True)\n",
      "      (conv2): Conv2d(128, 128, kernel_size=(3, 3), stride=(1, 1), padding=(1, 1), bias=False)\n",
      "      (bn2): BatchNorm2d(128, eps=1e-05, momentum=0.1, affine=True, track_running_stats=True)\n",
      "    )\n",
      "  )\n",
      "  (layer3): Sequential(\n",
      "    (0): BasicBlock(\n",
      "      (conv1): Conv2d(128, 256, kernel_size=(3, 3), stride=(2, 2), padding=(1, 1), bias=False)\n",
      "      (bn1): BatchNorm2d(256, eps=1e-05, momentum=0.1, affine=True, track_running_stats=True)\n",
      "      (relu): ReLU(inplace=True)\n",
      "      (conv2): Conv2d(256, 256, kernel_size=(3, 3), stride=(1, 1), padding=(1, 1), bias=False)\n",
      "      (bn2): BatchNorm2d(256, eps=1e-05, momentum=0.1, affine=True, track_running_stats=True)\n",
      "      (downsample): Sequential(\n",
      "        (0): Conv2d(128, 256, kernel_size=(1, 1), stride=(2, 2), bias=False)\n",
      "        (1): BatchNorm2d(256, eps=1e-05, momentum=0.1, affine=True, track_running_stats=True)\n",
      "      )\n",
      "    )\n",
      "    (1): BasicBlock(\n",
      "      (conv1): Conv2d(256, 256, kernel_size=(3, 3), stride=(1, 1), padding=(1, 1), bias=False)\n",
      "      (bn1): BatchNorm2d(256, eps=1e-05, momentum=0.1, affine=True, track_running_stats=True)\n",
      "      (relu): ReLU(inplace=True)\n",
      "      (conv2): Conv2d(256, 256, kernel_size=(3, 3), stride=(1, 1), padding=(1, 1), bias=False)\n",
      "      (bn2): BatchNorm2d(256, eps=1e-05, momentum=0.1, affine=True, track_running_stats=True)\n",
      "    )\n",
      "  )\n",
      "  (layer4): Sequential(\n",
      "    (0): BasicBlock(\n",
      "      (conv1): Conv2d(256, 512, kernel_size=(3, 3), stride=(2, 2), padding=(1, 1), bias=False)\n",
      "      (bn1): BatchNorm2d(512, eps=1e-05, momentum=0.1, affine=True, track_running_stats=True)\n",
      "      (relu): ReLU(inplace=True)\n",
      "      (conv2): Conv2d(512, 512, kernel_size=(3, 3), stride=(1, 1), padding=(1, 1), bias=False)\n",
      "      (bn2): BatchNorm2d(512, eps=1e-05, momentum=0.1, affine=True, track_running_stats=True)\n",
      "      (downsample): Sequential(\n",
      "        (0): Conv2d(256, 512, kernel_size=(1, 1), stride=(2, 2), bias=False)\n",
      "        (1): BatchNorm2d(512, eps=1e-05, momentum=0.1, affine=True, track_running_stats=True)\n",
      "      )\n",
      "    )\n",
      "    (1): BasicBlock(\n",
      "      (conv1): Conv2d(512, 512, kernel_size=(3, 3), stride=(1, 1), padding=(1, 1), bias=False)\n",
      "      (bn1): BatchNorm2d(512, eps=1e-05, momentum=0.1, affine=True, track_running_stats=True)\n",
      "      (relu): ReLU(inplace=True)\n",
      "      (conv2): Conv2d(512, 512, kernel_size=(3, 3), stride=(1, 1), padding=(1, 1), bias=False)\n",
      "      (bn2): BatchNorm2d(512, eps=1e-05, momentum=0.1, affine=True, track_running_stats=True)\n",
      "    )\n",
      "  )\n",
      "  (avgpool): AdaptiveAvgPool2d(output_size=(1, 1))\n",
      "  (fc): Linear(in_features=512, out_features=1000, bias=True)\n",
      ")\n"
     ]
    }
   ],
   "source": [
    "model = models.resnet18(pretrained=True)\n",
    "print(model)"
   ]
  },
  {
   "cell_type": "code",
   "execution_count": 9,
   "metadata": {
    "execution": {
     "iopub.execute_input": "2024-04-13T09:28:45.627214Z",
     "iopub.status.busy": "2024-04-13T09:28:45.626873Z",
     "iopub.status.idle": "2024-04-13T09:28:45.634080Z",
     "shell.execute_reply": "2024-04-13T09:28:45.632959Z",
     "shell.execute_reply.started": "2024-04-13T09:28:45.627184Z"
    }
   },
   "outputs": [],
   "source": [
    "for param in model.parameters():\n",
    "    param.requires_grad = False\n",
    "\n",
    "# Replace the final fully connected layer (fc) with a new one for 4 classes\n",
    "num_ftrs = model.fc.in_features  # Get the number of input features to the existing fc layer\n",
    "num_classes = 4  # Assuming you want to classify 4 image types\n",
    "model.fc = nn.Linear(num_ftrs, num_classes)  # Replace the fc layer with a new Linear layer for 4 classes"
   ]
  },
  {
   "cell_type": "code",
   "execution_count": 10,
   "metadata": {
    "execution": {
     "iopub.execute_input": "2024-04-13T09:28:45.638647Z",
     "iopub.status.busy": "2024-04-13T09:28:45.637875Z",
     "iopub.status.idle": "2024-04-13T09:28:45.653266Z",
     "shell.execute_reply": "2024-04-13T09:28:45.652272Z",
     "shell.execute_reply.started": "2024-04-13T09:28:45.638612Z"
    }
   },
   "outputs": [
    {
     "name": "stdout",
     "output_type": "stream",
     "text": [
      "ResNet(\n",
      "  (conv1): Conv2d(3, 64, kernel_size=(7, 7), stride=(2, 2), padding=(3, 3), bias=False)\n",
      "  (bn1): BatchNorm2d(64, eps=1e-05, momentum=0.1, affine=True, track_running_stats=True)\n",
      "  (relu): ReLU(inplace=True)\n",
      "  (maxpool): MaxPool2d(kernel_size=3, stride=2, padding=1, dilation=1, ceil_mode=False)\n",
      "  (layer1): Sequential(\n",
      "    (0): BasicBlock(\n",
      "      (conv1): Conv2d(64, 64, kernel_size=(3, 3), stride=(1, 1), padding=(1, 1), bias=False)\n",
      "      (bn1): BatchNorm2d(64, eps=1e-05, momentum=0.1, affine=True, track_running_stats=True)\n",
      "      (relu): ReLU(inplace=True)\n",
      "      (conv2): Conv2d(64, 64, kernel_size=(3, 3), stride=(1, 1), padding=(1, 1), bias=False)\n",
      "      (bn2): BatchNorm2d(64, eps=1e-05, momentum=0.1, affine=True, track_running_stats=True)\n",
      "    )\n",
      "    (1): BasicBlock(\n",
      "      (conv1): Conv2d(64, 64, kernel_size=(3, 3), stride=(1, 1), padding=(1, 1), bias=False)\n",
      "      (bn1): BatchNorm2d(64, eps=1e-05, momentum=0.1, affine=True, track_running_stats=True)\n",
      "      (relu): ReLU(inplace=True)\n",
      "      (conv2): Conv2d(64, 64, kernel_size=(3, 3), stride=(1, 1), padding=(1, 1), bias=False)\n",
      "      (bn2): BatchNorm2d(64, eps=1e-05, momentum=0.1, affine=True, track_running_stats=True)\n",
      "    )\n",
      "  )\n",
      "  (layer2): Sequential(\n",
      "    (0): BasicBlock(\n",
      "      (conv1): Conv2d(64, 128, kernel_size=(3, 3), stride=(2, 2), padding=(1, 1), bias=False)\n",
      "      (bn1): BatchNorm2d(128, eps=1e-05, momentum=0.1, affine=True, track_running_stats=True)\n",
      "      (relu): ReLU(inplace=True)\n",
      "      (conv2): Conv2d(128, 128, kernel_size=(3, 3), stride=(1, 1), padding=(1, 1), bias=False)\n",
      "      (bn2): BatchNorm2d(128, eps=1e-05, momentum=0.1, affine=True, track_running_stats=True)\n",
      "      (downsample): Sequential(\n",
      "        (0): Conv2d(64, 128, kernel_size=(1, 1), stride=(2, 2), bias=False)\n",
      "        (1): BatchNorm2d(128, eps=1e-05, momentum=0.1, affine=True, track_running_stats=True)\n",
      "      )\n",
      "    )\n",
      "    (1): BasicBlock(\n",
      "      (conv1): Conv2d(128, 128, kernel_size=(3, 3), stride=(1, 1), padding=(1, 1), bias=False)\n",
      "      (bn1): BatchNorm2d(128, eps=1e-05, momentum=0.1, affine=True, track_running_stats=True)\n",
      "      (relu): ReLU(inplace=True)\n",
      "      (conv2): Conv2d(128, 128, kernel_size=(3, 3), stride=(1, 1), padding=(1, 1), bias=False)\n",
      "      (bn2): BatchNorm2d(128, eps=1e-05, momentum=0.1, affine=True, track_running_stats=True)\n",
      "    )\n",
      "  )\n",
      "  (layer3): Sequential(\n",
      "    (0): BasicBlock(\n",
      "      (conv1): Conv2d(128, 256, kernel_size=(3, 3), stride=(2, 2), padding=(1, 1), bias=False)\n",
      "      (bn1): BatchNorm2d(256, eps=1e-05, momentum=0.1, affine=True, track_running_stats=True)\n",
      "      (relu): ReLU(inplace=True)\n",
      "      (conv2): Conv2d(256, 256, kernel_size=(3, 3), stride=(1, 1), padding=(1, 1), bias=False)\n",
      "      (bn2): BatchNorm2d(256, eps=1e-05, momentum=0.1, affine=True, track_running_stats=True)\n",
      "      (downsample): Sequential(\n",
      "        (0): Conv2d(128, 256, kernel_size=(1, 1), stride=(2, 2), bias=False)\n",
      "        (1): BatchNorm2d(256, eps=1e-05, momentum=0.1, affine=True, track_running_stats=True)\n",
      "      )\n",
      "    )\n",
      "    (1): BasicBlock(\n",
      "      (conv1): Conv2d(256, 256, kernel_size=(3, 3), stride=(1, 1), padding=(1, 1), bias=False)\n",
      "      (bn1): BatchNorm2d(256, eps=1e-05, momentum=0.1, affine=True, track_running_stats=True)\n",
      "      (relu): ReLU(inplace=True)\n",
      "      (conv2): Conv2d(256, 256, kernel_size=(3, 3), stride=(1, 1), padding=(1, 1), bias=False)\n",
      "      (bn2): BatchNorm2d(256, eps=1e-05, momentum=0.1, affine=True, track_running_stats=True)\n",
      "    )\n",
      "  )\n",
      "  (layer4): Sequential(\n",
      "    (0): BasicBlock(\n",
      "      (conv1): Conv2d(256, 512, kernel_size=(3, 3), stride=(2, 2), padding=(1, 1), bias=False)\n",
      "      (bn1): BatchNorm2d(512, eps=1e-05, momentum=0.1, affine=True, track_running_stats=True)\n",
      "      (relu): ReLU(inplace=True)\n",
      "      (conv2): Conv2d(512, 512, kernel_size=(3, 3), stride=(1, 1), padding=(1, 1), bias=False)\n",
      "      (bn2): BatchNorm2d(512, eps=1e-05, momentum=0.1, affine=True, track_running_stats=True)\n",
      "      (downsample): Sequential(\n",
      "        (0): Conv2d(256, 512, kernel_size=(1, 1), stride=(2, 2), bias=False)\n",
      "        (1): BatchNorm2d(512, eps=1e-05, momentum=0.1, affine=True, track_running_stats=True)\n",
      "      )\n",
      "    )\n",
      "    (1): BasicBlock(\n",
      "      (conv1): Conv2d(512, 512, kernel_size=(3, 3), stride=(1, 1), padding=(1, 1), bias=False)\n",
      "      (bn1): BatchNorm2d(512, eps=1e-05, momentum=0.1, affine=True, track_running_stats=True)\n",
      "      (relu): ReLU(inplace=True)\n",
      "      (conv2): Conv2d(512, 512, kernel_size=(3, 3), stride=(1, 1), padding=(1, 1), bias=False)\n",
      "      (bn2): BatchNorm2d(512, eps=1e-05, momentum=0.1, affine=True, track_running_stats=True)\n",
      "    )\n",
      "  )\n",
      "  (avgpool): AdaptiveAvgPool2d(output_size=(1, 1))\n",
      "  (fc): Linear(in_features=512, out_features=4, bias=True)\n",
      ")\n"
     ]
    }
   ],
   "source": [
    "print(model)"
   ]
  },
  {
   "cell_type": "code",
   "execution_count": 11,
   "metadata": {
    "execution": {
     "iopub.execute_input": "2024-04-13T09:28:45.655129Z",
     "iopub.status.busy": "2024-04-13T09:28:45.654804Z",
     "iopub.status.idle": "2024-04-13T09:28:45.882313Z",
     "shell.execute_reply": "2024-04-13T09:28:45.881394Z",
     "shell.execute_reply.started": "2024-04-13T09:28:45.655098Z"
    }
   },
   "outputs": [],
   "source": [
    "if torch.cuda.is_available() == True:\n",
    "    model = model.cuda()\n",
    "else:\n",
    "    model = model\n",
    "criterion = torch.nn.CrossEntropyLoss()\n",
    "\n",
    "optimizer = torch.optim.Adam(model.parameters(), lr=1e-4)\n",
    "scaler = GradScaler(enabled=True)\n",
    "use_cuda = True"
   ]
  },
  {
   "cell_type": "code",
   "execution_count": 12,
   "metadata": {
    "execution": {
     "iopub.execute_input": "2024-04-13T09:28:45.886058Z",
     "iopub.status.busy": "2024-04-13T09:28:45.883413Z",
     "iopub.status.idle": "2024-04-13T09:28:45.896290Z",
     "shell.execute_reply": "2024-04-13T09:28:45.895415Z",
     "shell.execute_reply.started": "2024-04-13T09:28:45.886031Z"
    }
   },
   "outputs": [],
   "source": [
    "train_accu = []\n",
    "training_loss = []\n",
    "\n",
    "def train(model, iterator, optimizer, criterion, device):\n",
    "\n",
    "    epoch_loss = 0\n",
    "    epoch_acc = 0\n",
    "    image_preds_all = []\n",
    "    image_targets_all = []\n",
    "\n",
    "    model.train()\n",
    "\n",
    "    for (x, y) in tqdm(iterator, desc=\"Training\", leave=False):\n",
    "\n",
    "        x = x.to(device).float()\n",
    "        y = y.to(device).long()\n",
    "\n",
    "        with autocast():\n",
    "\n",
    "            y_pred = model(x)\n",
    "\n",
    "            image_preds_all += [torch.argmax(y_pred, 1).detach().cpu().numpy()]\n",
    "            image_targets_all += [y.detach().cpu().numpy()]\n",
    "\n",
    "            loss = criterion(y_pred, y)\n",
    "\n",
    "            acc = calculate_accuracy(y_pred, y)\n",
    "\n",
    "            scaler.scale(loss).backward()\n",
    "            #torch.nn.utils.clip_grad_norm_(model.parameters(), max_norm=5.0)\n",
    "\n",
    "            scaler.step(optimizer)\n",
    "            scaler.update()\n",
    "            optimizer.zero_grad()\n",
    "\n",
    "            epoch_loss += loss.item()\n",
    "            epoch_acc += acc.item()\n",
    "    image_preds_all = np.concatenate(image_preds_all)\n",
    "    image_targets_all = np.concatenate(image_targets_all)\n",
    "    score = (image_preds_all==image_targets_all).mean()\n",
    "\n",
    "    train_losss = epoch_loss / len(iterator)\n",
    "\n",
    "    train_accu.append(score*100)\n",
    "    training_loss.append(train_losss)\n",
    "\n",
    "    #print(score)\n",
    "    #print(len(train_accu), len(training_loss))\n",
    "\n",
    "    return epoch_loss / len(iterator), epoch_acc / len(iterator), train_accu, training_loss"
   ]
  },
  {
   "cell_type": "code",
   "execution_count": 13,
   "metadata": {
    "execution": {
     "iopub.execute_input": "2024-04-13T09:28:45.897788Z",
     "iopub.status.busy": "2024-04-13T09:28:45.897518Z",
     "iopub.status.idle": "2024-04-13T09:28:45.910610Z",
     "shell.execute_reply": "2024-04-13T09:28:45.909756Z",
     "shell.execute_reply.started": "2024-04-13T09:28:45.897765Z"
    }
   },
   "outputs": [],
   "source": [
    "val_accu = []\n",
    "eval_loss = []\n",
    "\n",
    "def evaluate(model, iterator, criterion, device):\n",
    "\n",
    "    epoch_loss = 0\n",
    "    epoch_acc = 0\n",
    "    image_preds_all = []\n",
    "    image_targets_all = []\n",
    "\n",
    "    model.eval()\n",
    "\n",
    "    with torch.no_grad():\n",
    "\n",
    "        for (x, y) in tqdm(iterator, desc=\"Evaluating\", leave=False):\n",
    "\n",
    "            x = x.to(device).float()\n",
    "            y = y.to(device).long()\n",
    "\n",
    "            y_pred = model(x)\n",
    "\n",
    "            image_preds_all += [torch.argmax(y_pred, 1).detach().cpu().numpy()]\n",
    "            image_targets_all += [y.detach().cpu().numpy()]\n",
    "\n",
    "            loss = criterion(y_pred, y)\n",
    "\n",
    "            acc = calculate_accuracy(y_pred, y)\n",
    "\n",
    "            epoch_loss += loss.item()\n",
    "            epoch_acc += acc.item()\n",
    "\n",
    "    image_preds_all = np.concatenate(image_preds_all)\n",
    "    image_targets_all = np.concatenate(image_targets_all)\n",
    "    score = (image_preds_all==image_targets_all).mean()\n",
    "\n",
    "    val_losss = epoch_loss / len(iterator)\n",
    "\n",
    "    val_accu.append(score*100)\n",
    "    eval_loss.append(val_losss)\n",
    "\n",
    "    performance_matrix(image_targets_all, image_preds_all)\n",
    "\n",
    "    return epoch_loss / len(iterator), epoch_acc / len(iterator), val_accu, eval_loss"
   ]
  },
  {
   "cell_type": "code",
   "execution_count": 14,
   "metadata": {
    "execution": {
     "iopub.execute_input": "2024-04-13T09:28:45.912142Z",
     "iopub.status.busy": "2024-04-13T09:28:45.911872Z",
     "iopub.status.idle": "2024-04-13T09:28:45.927711Z",
     "shell.execute_reply": "2024-04-13T09:28:45.926985Z",
     "shell.execute_reply.started": "2024-04-13T09:28:45.912120Z"
    }
   },
   "outputs": [],
   "source": [
    "def performance_matrix(true,pred):\n",
    "    precision = precision_score(true,pred,average='macro')\n",
    "    recall = recall_score(true,pred,average='macro')\n",
    "    accuracy = accuracy_score(true,pred)\n",
    "    f1_sco = f1_score(true,pred,average='macro')\n",
    "    print('Precision: {:.4f} Recall: {:.4f}, Accuracy: {:.4f}: ,f1_score: {:.4f}'.format(precision,recall,accuracy,f1_sco))\n",
    "    print('Classification Report:\\n',classification_report(true, pred))"
   ]
  },
  {
   "cell_type": "code",
   "execution_count": 15,
   "metadata": {
    "execution": {
     "iopub.execute_input": "2024-04-13T09:28:45.929032Z",
     "iopub.status.busy": "2024-04-13T09:28:45.928771Z",
     "iopub.status.idle": "2024-04-13T09:28:45.939778Z",
     "shell.execute_reply": "2024-04-13T09:28:45.938913Z",
     "shell.execute_reply.started": "2024-04-13T09:28:45.929009Z"
    }
   },
   "outputs": [],
   "source": [
    "def calculate_accuracy(y_pred, y):\n",
    "    top_pred = y_pred.argmax(1, keepdim=True)\n",
    "    correct = top_pred.eq(y.view_as(top_pred)).sum()\n",
    "    acc = correct.float() / y.shape[0]\n",
    "    return acc"
   ]
  },
  {
   "cell_type": "code",
   "execution_count": 16,
   "metadata": {
    "execution": {
     "iopub.execute_input": "2024-04-13T09:28:45.941237Z",
     "iopub.status.busy": "2024-04-13T09:28:45.940846Z",
     "iopub.status.idle": "2024-04-13T09:28:45.951210Z",
     "shell.execute_reply": "2024-04-13T09:28:45.950499Z",
     "shell.execute_reply.started": "2024-04-13T09:28:45.941201Z"
    }
   },
   "outputs": [],
   "source": [
    "def epoch_time(start_time, end_time):\n",
    "    elapsed_time = end_time - start_time\n",
    "    elapsed_mins = int(elapsed_time / 60)\n",
    "    elapsed_secs = int(elapsed_time - (elapsed_mins * 60))\n",
    "    return elapsed_mins, elapsed_secs"
   ]
  },
  {
   "cell_type": "code",
   "execution_count": 17,
   "metadata": {
    "execution": {
     "iopub.execute_input": "2024-04-13T09:28:45.953404Z",
     "iopub.status.busy": "2024-04-13T09:28:45.952546Z",
     "iopub.status.idle": "2024-04-13T09:28:45.963764Z",
     "shell.execute_reply": "2024-04-13T09:28:45.962934Z",
     "shell.execute_reply.started": "2024-04-13T09:28:45.953368Z"
    }
   },
   "outputs": [],
   "source": [
    "def checkpoint_model(epoch, model, opt, best_val_acc, model_path):\n",
    "    model_state_dict = model.state_dict() if (device.type == 'cuda') else model.state_dict()\n",
    "    torch.save({\n",
    "        'epoch': epoch,\n",
    "        'model_state_dict': model_state_dict,\n",
    "        'opt_state_dict': opt.state_dict(),\n",
    "        'best_val_acc': best_val_acc\n",
    "    }, model_path)"
   ]
  },
  {
   "cell_type": "code",
   "execution_count": 18,
   "metadata": {
    "execution": {
     "iopub.execute_input": "2024-04-13T09:28:45.965208Z",
     "iopub.status.busy": "2024-04-13T09:28:45.964855Z",
     "iopub.status.idle": "2024-04-13T09:28:45.981223Z",
     "shell.execute_reply": "2024-04-13T09:28:45.980173Z",
     "shell.execute_reply.started": "2024-04-13T09:28:45.965168Z"
    }
   },
   "outputs": [],
   "source": [
    "def load_ckp(checkpoint_fpath, model, optimizer):\n",
    "    checkpoint = torch.load(checkpoint_fpath)\n",
    "    model.load_state_dict(checkpoint['model_state_dict'])\n",
    "    optimizer.load_state_dict(checkpoint['opt_state_dict'])\n",
    "    return model, optimizer, checkpoint['epoch']"
   ]
  },
  {
   "cell_type": "code",
   "execution_count": 19,
   "metadata": {
    "execution": {
     "iopub.execute_input": "2024-04-13T09:28:45.983424Z",
     "iopub.status.busy": "2024-04-13T09:28:45.982776Z",
     "iopub.status.idle": "2024-04-13T09:32:47.803695Z",
     "shell.execute_reply": "2024-04-13T09:32:47.802760Z",
     "shell.execute_reply.started": "2024-04-13T09:28:45.983384Z"
    }
   },
   "outputs": [
    {
     "name": "stdout",
     "output_type": "stream",
     "text": [
      "The model has 2,052 trainable parameters\n"
     ]
    },
    {
     "data": {
      "application/vnd.jupyter.widget-view+json": {
       "model_id": "2e6386c914f141c4b6696ea47be5f3ac",
       "version_major": 2,
       "version_minor": 0
      },
      "text/plain": [
       "Epochs:   0%|          | 0/100 [00:00<?, ?it/s]"
      ]
     },
     "metadata": {},
     "output_type": "display_data"
    },
    {
     "data": {
      "application/vnd.jupyter.widget-view+json": {
       "model_id": "",
       "version_major": 2,
       "version_minor": 0
      },
      "text/plain": [
       "Training:   0%|          | 0/10 [00:00<?, ?it/s]"
      ]
     },
     "metadata": {},
     "output_type": "display_data"
    },
    {
     "data": {
      "application/vnd.jupyter.widget-view+json": {
       "model_id": "",
       "version_major": 2,
       "version_minor": 0
      },
      "text/plain": [
       "Evaluating:   0%|          | 0/3 [00:00<?, ?it/s]"
      ]
     },
     "metadata": {},
     "output_type": "display_data"
    },
    {
     "name": "stdout",
     "output_type": "stream",
     "text": [
      "Precision: 0.1230 Recall: 0.2451, Accuracy: 0.2442: ,f1_score: 0.1632\n",
      "Classification Report:\n",
      "               precision    recall  f1-score   support\n",
      "\n",
      "           0       0.00      0.00      0.00        23\n",
      "           1       0.24      0.41      0.30        22\n",
      "           2       0.00      0.00      0.00        20\n",
      "           3       0.26      0.57      0.35        21\n",
      "\n",
      "    accuracy                           0.24        86\n",
      "   macro avg       0.12      0.25      0.16        86\n",
      "weighted avg       0.12      0.24      0.16        86\n",
      "\n",
      "Epoch: 01 | Epoch Time: 0m 4s\n",
      "\tTrain Loss: 1.642 | Train Acc: 23.44%\n",
      "\t Val. Loss: 1.585 |  Val. Acc: 27.56%\n"
     ]
    },
    {
     "name": "stderr",
     "output_type": "stream",
     "text": [
      "/opt/conda/lib/python3.10/site-packages/sklearn/metrics/_classification.py:1344: UndefinedMetricWarning: Precision is ill-defined and being set to 0.0 in labels with no predicted samples. Use `zero_division` parameter to control this behavior.\n",
      "  _warn_prf(average, modifier, msg_start, len(result))\n",
      "/opt/conda/lib/python3.10/site-packages/sklearn/metrics/_classification.py:1344: UndefinedMetricWarning: Precision and F-score are ill-defined and being set to 0.0 in labels with no predicted samples. Use `zero_division` parameter to control this behavior.\n",
      "  _warn_prf(average, modifier, msg_start, len(result))\n",
      "/opt/conda/lib/python3.10/site-packages/sklearn/metrics/_classification.py:1344: UndefinedMetricWarning: Precision and F-score are ill-defined and being set to 0.0 in labels with no predicted samples. Use `zero_division` parameter to control this behavior.\n",
      "  _warn_prf(average, modifier, msg_start, len(result))\n",
      "/opt/conda/lib/python3.10/site-packages/sklearn/metrics/_classification.py:1344: UndefinedMetricWarning: Precision and F-score are ill-defined and being set to 0.0 in labels with no predicted samples. Use `zero_division` parameter to control this behavior.\n",
      "  _warn_prf(average, modifier, msg_start, len(result))\n"
     ]
    },
    {
     "data": {
      "application/vnd.jupyter.widget-view+json": {
       "model_id": "",
       "version_major": 2,
       "version_minor": 0
      },
      "text/plain": [
       "Training:   0%|          | 0/10 [00:00<?, ?it/s]"
      ]
     },
     "metadata": {},
     "output_type": "display_data"
    },
    {
     "data": {
      "application/vnd.jupyter.widget-view+json": {
       "model_id": "",
       "version_major": 2,
       "version_minor": 0
      },
      "text/plain": [
       "Evaluating:   0%|          | 0/3 [00:00<?, ?it/s]"
      ]
     },
     "metadata": {},
     "output_type": "display_data"
    },
    {
     "name": "stdout",
     "output_type": "stream",
     "text": [
      "Precision: 0.1995 Recall: 0.2524, Accuracy: 0.2558: ,f1_score: 0.2190\n",
      "Classification Report:\n",
      "               precision    recall  f1-score   support\n",
      "\n",
      "           0       0.22      0.17      0.20        23\n",
      "           1       0.33      0.45      0.38        22\n",
      "           2       0.00      0.00      0.00        20\n",
      "           3       0.24      0.38      0.30        21\n",
      "\n",
      "    accuracy                           0.26        86\n",
      "   macro avg       0.20      0.25      0.22        86\n",
      "weighted avg       0.20      0.26      0.22        86\n",
      "\n",
      "Epoch: 02 | Epoch Time: 0m 2s\n",
      "\tTrain Loss: 1.490 | Train Acc: 20.69%\n",
      "\t Val. Loss: 1.426 |  Val. Acc: 26.70%\n"
     ]
    },
    {
     "data": {
      "application/vnd.jupyter.widget-view+json": {
       "model_id": "",
       "version_major": 2,
       "version_minor": 0
      },
      "text/plain": [
       "Training:   0%|          | 0/10 [00:00<?, ?it/s]"
      ]
     },
     "metadata": {},
     "output_type": "display_data"
    },
    {
     "data": {
      "application/vnd.jupyter.widget-view+json": {
       "model_id": "",
       "version_major": 2,
       "version_minor": 0
      },
      "text/plain": [
       "Evaluating:   0%|          | 0/3 [00:00<?, ?it/s]"
      ]
     },
     "metadata": {},
     "output_type": "display_data"
    },
    {
     "name": "stdout",
     "output_type": "stream",
     "text": [
      "Precision: 0.1941 Recall: 0.1871, Accuracy: 0.1860: ,f1_score: 0.1897\n",
      "Classification Report:\n",
      "               precision    recall  f1-score   support\n",
      "\n",
      "           0       0.17      0.17      0.17        23\n",
      "           1       0.12      0.14      0.13        22\n",
      "           2       0.19      0.20      0.20        20\n",
      "           3       0.29      0.24      0.26        21\n",
      "\n",
      "    accuracy                           0.19        86\n",
      "   macro avg       0.19      0.19      0.19        86\n",
      "weighted avg       0.19      0.19      0.19        86\n",
      "\n",
      "Epoch: 03 | Epoch Time: 0m 2s\n",
      "\tTrain Loss: 1.442 | Train Acc: 23.44%\n",
      "\t Val. Loss: 1.567 |  Val. Acc: 19.03%\n"
     ]
    },
    {
     "data": {
      "application/vnd.jupyter.widget-view+json": {
       "model_id": "",
       "version_major": 2,
       "version_minor": 0
      },
      "text/plain": [
       "Training:   0%|          | 0/10 [00:00<?, ?it/s]"
      ]
     },
     "metadata": {},
     "output_type": "display_data"
    },
    {
     "data": {
      "application/vnd.jupyter.widget-view+json": {
       "model_id": "",
       "version_major": 2,
       "version_minor": 0
      },
      "text/plain": [
       "Evaluating:   0%|          | 0/3 [00:00<?, ?it/s]"
      ]
     },
     "metadata": {},
     "output_type": "display_data"
    },
    {
     "name": "stdout",
     "output_type": "stream",
     "text": [
      "Precision: 0.2559 Recall: 0.2241, Accuracy: 0.2209: ,f1_score: 0.2232\n",
      "Classification Report:\n",
      "               precision    recall  f1-score   support\n",
      "\n",
      "           0       0.20      0.22      0.21        23\n",
      "           1       0.12      0.09      0.10        22\n",
      "           2       0.21      0.35      0.26        20\n",
      "           3       0.50      0.24      0.32        21\n",
      "\n",
      "    accuracy                           0.22        86\n",
      "   macro avg       0.26      0.22      0.22        86\n",
      "weighted avg       0.25      0.22      0.22        86\n",
      "\n",
      "Epoch: 04 | Epoch Time: 0m 2s\n",
      "\tTrain Loss: 1.425 | Train Acc: 26.62%\n",
      "\t Val. Loss: 1.477 |  Val. Acc: 22.63%\n"
     ]
    },
    {
     "data": {
      "application/vnd.jupyter.widget-view+json": {
       "model_id": "",
       "version_major": 2,
       "version_minor": 0
      },
      "text/plain": [
       "Training:   0%|          | 0/10 [00:00<?, ?it/s]"
      ]
     },
     "metadata": {},
     "output_type": "display_data"
    },
    {
     "data": {
      "application/vnd.jupyter.widget-view+json": {
       "model_id": "",
       "version_major": 2,
       "version_minor": 0
      },
      "text/plain": [
       "Evaluating:   0%|          | 0/3 [00:00<?, ?it/s]"
      ]
     },
     "metadata": {},
     "output_type": "display_data"
    },
    {
     "name": "stdout",
     "output_type": "stream",
     "text": [
      "Precision: 0.1808 Recall: 0.1649, Accuracy: 0.1628: ,f1_score: 0.1628\n",
      "Classification Report:\n",
      "               precision    recall  f1-score   support\n",
      "\n",
      "           0       0.12      0.09      0.10        23\n",
      "           1       0.33      0.23      0.27        22\n",
      "           2       0.12      0.25      0.16        20\n",
      "           3       0.14      0.10      0.11        21\n",
      "\n",
      "    accuracy                           0.16        86\n",
      "   macro avg       0.18      0.16      0.16        86\n",
      "weighted avg       0.18      0.16      0.16        86\n",
      "\n",
      "Epoch: 05 | Epoch Time: 0m 2s\n",
      "\tTrain Loss: 1.437 | Train Acc: 26.44%\n",
      "\t Val. Loss: 1.468 |  Val. Acc: 16.00%\n"
     ]
    },
    {
     "data": {
      "application/vnd.jupyter.widget-view+json": {
       "model_id": "",
       "version_major": 2,
       "version_minor": 0
      },
      "text/plain": [
       "Training:   0%|          | 0/10 [00:00<?, ?it/s]"
      ]
     },
     "metadata": {},
     "output_type": "display_data"
    },
    {
     "data": {
      "application/vnd.jupyter.widget-view+json": {
       "model_id": "",
       "version_major": 2,
       "version_minor": 0
      },
      "text/plain": [
       "Evaluating:   0%|          | 0/3 [00:00<?, ?it/s]"
      ]
     },
     "metadata": {},
     "output_type": "display_data"
    },
    {
     "name": "stdout",
     "output_type": "stream",
     "text": [
      "Precision: 0.2028 Recall: 0.2250, Accuracy: 0.2209: ,f1_score: 0.2083\n",
      "Classification Report:\n",
      "               precision    recall  f1-score   support\n",
      "\n",
      "           0       0.07      0.04      0.05        23\n",
      "           1       0.33      0.36      0.35        22\n",
      "           2       0.22      0.35      0.27        20\n",
      "           3       0.19      0.14      0.16        21\n",
      "\n",
      "    accuracy                           0.22        86\n",
      "   macro avg       0.20      0.22      0.21        86\n",
      "weighted avg       0.20      0.22      0.21        86\n",
      "\n",
      "Epoch: 06 | Epoch Time: 0m 2s\n",
      "\tTrain Loss: 1.394 | Train Acc: 27.19%\n",
      "\t Val. Loss: 1.477 |  Val. Acc: 21.69%\n"
     ]
    },
    {
     "data": {
      "application/vnd.jupyter.widget-view+json": {
       "model_id": "",
       "version_major": 2,
       "version_minor": 0
      },
      "text/plain": [
       "Training:   0%|          | 0/10 [00:00<?, ?it/s]"
      ]
     },
     "metadata": {},
     "output_type": "display_data"
    },
    {
     "data": {
      "application/vnd.jupyter.widget-view+json": {
       "model_id": "",
       "version_major": 2,
       "version_minor": 0
      },
      "text/plain": [
       "Evaluating:   0%|          | 0/3 [00:00<?, ?it/s]"
      ]
     },
     "metadata": {},
     "output_type": "display_data"
    },
    {
     "name": "stdout",
     "output_type": "stream",
     "text": [
      "Precision: 0.2829 Recall: 0.2804, Accuracy: 0.2791: ,f1_score: 0.2743\n",
      "Classification Report:\n",
      "               precision    recall  f1-score   support\n",
      "\n",
      "           0       0.28      0.22      0.24        23\n",
      "           1       0.30      0.36      0.33        22\n",
      "           2       0.25      0.35      0.29        20\n",
      "           3       0.31      0.19      0.24        21\n",
      "\n",
      "    accuracy                           0.28        86\n",
      "   macro avg       0.28      0.28      0.27        86\n",
      "weighted avg       0.28      0.28      0.27        86\n",
      "\n",
      "Epoch: 07 | Epoch Time: 0m 2s\n",
      "\tTrain Loss: 1.384 | Train Acc: 30.88%\n",
      "\t Val. Loss: 1.447 |  Val. Acc: 27.37%\n"
     ]
    },
    {
     "data": {
      "application/vnd.jupyter.widget-view+json": {
       "model_id": "",
       "version_major": 2,
       "version_minor": 0
      },
      "text/plain": [
       "Training:   0%|          | 0/10 [00:00<?, ?it/s]"
      ]
     },
     "metadata": {},
     "output_type": "display_data"
    },
    {
     "data": {
      "application/vnd.jupyter.widget-view+json": {
       "model_id": "",
       "version_major": 2,
       "version_minor": 0
      },
      "text/plain": [
       "Evaluating:   0%|          | 0/3 [00:00<?, ?it/s]"
      ]
     },
     "metadata": {},
     "output_type": "display_data"
    },
    {
     "name": "stdout",
     "output_type": "stream",
     "text": [
      "Precision: 0.2453 Recall: 0.2415, Accuracy: 0.2442: ,f1_score: 0.2350\n",
      "Classification Report:\n",
      "               precision    recall  f1-score   support\n",
      "\n",
      "           0       0.28      0.39      0.33        23\n",
      "           1       0.31      0.18      0.23        22\n",
      "           2       0.19      0.25      0.22        20\n",
      "           3       0.20      0.14      0.17        21\n",
      "\n",
      "    accuracy                           0.24        86\n",
      "   macro avg       0.25      0.24      0.23        86\n",
      "weighted avg       0.25      0.24      0.24        86\n",
      "\n",
      "Epoch: 08 | Epoch Time: 0m 2s\n",
      "\tTrain Loss: 1.359 | Train Acc: 33.75%\n",
      "\t Val. Loss: 1.425 |  Val. Acc: 23.77%\n"
     ]
    },
    {
     "data": {
      "application/vnd.jupyter.widget-view+json": {
       "model_id": "",
       "version_major": 2,
       "version_minor": 0
      },
      "text/plain": [
       "Training:   0%|          | 0/10 [00:00<?, ?it/s]"
      ]
     },
     "metadata": {},
     "output_type": "display_data"
    },
    {
     "data": {
      "application/vnd.jupyter.widget-view+json": {
       "model_id": "",
       "version_major": 2,
       "version_minor": 0
      },
      "text/plain": [
       "Evaluating:   0%|          | 0/3 [00:00<?, ?it/s]"
      ]
     },
     "metadata": {},
     "output_type": "display_data"
    },
    {
     "name": "stdout",
     "output_type": "stream",
     "text": [
      "Precision: 0.2392 Recall: 0.2326, Accuracy: 0.2326: ,f1_score: 0.2338\n",
      "Classification Report:\n",
      "               precision    recall  f1-score   support\n",
      "\n",
      "           0       0.24      0.22      0.23        23\n",
      "           1       0.33      0.27      0.30        22\n",
      "           2       0.19      0.25      0.21        20\n",
      "           3       0.20      0.19      0.20        21\n",
      "\n",
      "    accuracy                           0.23        86\n",
      "   macro avg       0.24      0.23      0.23        86\n",
      "weighted avg       0.24      0.23      0.23        86\n",
      "\n",
      "Epoch: 09 | Epoch Time: 0m 2s\n",
      "\tTrain Loss: 1.347 | Train Acc: 33.25%\n",
      "\t Val. Loss: 1.393 |  Val. Acc: 23.20%\n"
     ]
    },
    {
     "data": {
      "application/vnd.jupyter.widget-view+json": {
       "model_id": "",
       "version_major": 2,
       "version_minor": 0
      },
      "text/plain": [
       "Training:   0%|          | 0/10 [00:00<?, ?it/s]"
      ]
     },
     "metadata": {},
     "output_type": "display_data"
    },
    {
     "data": {
      "application/vnd.jupyter.widget-view+json": {
       "model_id": "",
       "version_major": 2,
       "version_minor": 0
      },
      "text/plain": [
       "Evaluating:   0%|          | 0/3 [00:00<?, ?it/s]"
      ]
     },
     "metadata": {},
     "output_type": "display_data"
    },
    {
     "name": "stdout",
     "output_type": "stream",
     "text": [
      "Precision: 0.2463 Recall: 0.2472, Accuracy: 0.2442: ,f1_score: 0.2376\n",
      "Classification Report:\n",
      "               precision    recall  f1-score   support\n",
      "\n",
      "           0       0.25      0.13      0.17        23\n",
      "           1       0.25      0.23      0.24        22\n",
      "           2       0.25      0.25      0.25        20\n",
      "           3       0.24      0.38      0.29        21\n",
      "\n",
      "    accuracy                           0.24        86\n",
      "   macro avg       0.25      0.25      0.24        86\n",
      "weighted avg       0.25      0.24      0.24        86\n",
      "\n",
      "Epoch: 10 | Epoch Time: 0m 2s\n",
      "\tTrain Loss: 1.318 | Train Acc: 31.75%\n",
      "\t Val. Loss: 1.379 |  Val. Acc: 26.14%\n"
     ]
    },
    {
     "data": {
      "application/vnd.jupyter.widget-view+json": {
       "model_id": "",
       "version_major": 2,
       "version_minor": 0
      },
      "text/plain": [
       "Training:   0%|          | 0/10 [00:00<?, ?it/s]"
      ]
     },
     "metadata": {},
     "output_type": "display_data"
    },
    {
     "data": {
      "application/vnd.jupyter.widget-view+json": {
       "model_id": "",
       "version_major": 2,
       "version_minor": 0
      },
      "text/plain": [
       "Evaluating:   0%|          | 0/3 [00:00<?, ?it/s]"
      ]
     },
     "metadata": {},
     "output_type": "display_data"
    },
    {
     "name": "stdout",
     "output_type": "stream",
     "text": [
      "Precision: 0.4062 Recall: 0.3623, Accuracy: 0.3605: ,f1_score: 0.3665\n",
      "Classification Report:\n",
      "               precision    recall  f1-score   support\n",
      "\n",
      "           0       0.25      0.35      0.29        23\n",
      "           1       0.60      0.27      0.37        22\n",
      "           2       0.40      0.40      0.40        20\n",
      "           3       0.38      0.43      0.40        21\n",
      "\n",
      "    accuracy                           0.36        86\n",
      "   macro avg       0.41      0.36      0.37        86\n",
      "weighted avg       0.40      0.36      0.36        86\n",
      "\n",
      "Epoch: 11 | Epoch Time: 0m 2s\n",
      "\tTrain Loss: 1.319 | Train Acc: 35.06%\n",
      "\t Val. Loss: 1.344 |  Val. Acc: 36.55%\n"
     ]
    },
    {
     "data": {
      "application/vnd.jupyter.widget-view+json": {
       "model_id": "",
       "version_major": 2,
       "version_minor": 0
      },
      "text/plain": [
       "Training:   0%|          | 0/10 [00:00<?, ?it/s]"
      ]
     },
     "metadata": {},
     "output_type": "display_data"
    },
    {
     "data": {
      "application/vnd.jupyter.widget-view+json": {
       "model_id": "",
       "version_major": 2,
       "version_minor": 0
      },
      "text/plain": [
       "Evaluating:   0%|          | 0/3 [00:00<?, ?it/s]"
      ]
     },
     "metadata": {},
     "output_type": "display_data"
    },
    {
     "name": "stdout",
     "output_type": "stream",
     "text": [
      "Precision: 0.4606 Recall: 0.3980, Accuracy: 0.3953: ,f1_score: 0.3958\n",
      "Classification Report:\n",
      "               precision    recall  f1-score   support\n",
      "\n",
      "           0       0.30      0.35      0.32        23\n",
      "           1       0.75      0.27      0.40        22\n",
      "           2       0.42      0.40      0.41        20\n",
      "           3       0.38      0.57      0.45        21\n",
      "\n",
      "    accuracy                           0.40        86\n",
      "   macro avg       0.46      0.40      0.40        86\n",
      "weighted avg       0.46      0.40      0.39        86\n",
      "\n",
      "Epoch: 12 | Epoch Time: 0m 2s\n",
      "\tTrain Loss: 1.327 | Train Acc: 34.81%\n",
      "\t Val. Loss: 1.307 |  Val. Acc: 41.57%\n"
     ]
    },
    {
     "data": {
      "application/vnd.jupyter.widget-view+json": {
       "model_id": "",
       "version_major": 2,
       "version_minor": 0
      },
      "text/plain": [
       "Training:   0%|          | 0/10 [00:00<?, ?it/s]"
      ]
     },
     "metadata": {},
     "output_type": "display_data"
    },
    {
     "data": {
      "application/vnd.jupyter.widget-view+json": {
       "model_id": "",
       "version_major": 2,
       "version_minor": 0
      },
      "text/plain": [
       "Evaluating:   0%|          | 0/3 [00:00<?, ?it/s]"
      ]
     },
     "metadata": {},
     "output_type": "display_data"
    },
    {
     "name": "stdout",
     "output_type": "stream",
     "text": [
      "Precision: 0.3253 Recall: 0.3327, Accuracy: 0.3372: ,f1_score: 0.3218\n",
      "Classification Report:\n",
      "               precision    recall  f1-score   support\n",
      "\n",
      "           0       0.33      0.30      0.32        23\n",
      "           1       0.46      0.59      0.52        22\n",
      "           2       0.27      0.15      0.19        20\n",
      "           3       0.23      0.29      0.26        21\n",
      "\n",
      "    accuracy                           0.34        86\n",
      "   macro avg       0.33      0.33      0.32        86\n",
      "weighted avg       0.33      0.34      0.33        86\n",
      "\n",
      "Epoch: 13 | Epoch Time: 0m 2s\n",
      "\tTrain Loss: 1.307 | Train Acc: 39.31%\n",
      "\t Val. Loss: 1.309 |  Val. Acc: 33.52%\n"
     ]
    },
    {
     "data": {
      "application/vnd.jupyter.widget-view+json": {
       "model_id": "",
       "version_major": 2,
       "version_minor": 0
      },
      "text/plain": [
       "Training:   0%|          | 0/10 [00:00<?, ?it/s]"
      ]
     },
     "metadata": {},
     "output_type": "display_data"
    },
    {
     "data": {
      "application/vnd.jupyter.widget-view+json": {
       "model_id": "",
       "version_major": 2,
       "version_minor": 0
      },
      "text/plain": [
       "Evaluating:   0%|          | 0/3 [00:00<?, ?it/s]"
      ]
     },
     "metadata": {},
     "output_type": "display_data"
    },
    {
     "name": "stdout",
     "output_type": "stream",
     "text": [
      "Precision: 0.3711 Recall: 0.3757, Accuracy: 0.3721: ,f1_score: 0.3677\n",
      "Classification Report:\n",
      "               precision    recall  f1-score   support\n",
      "\n",
      "           0       0.36      0.22      0.27        23\n",
      "           1       0.37      0.45      0.41        22\n",
      "           2       0.41      0.45      0.43        20\n",
      "           3       0.35      0.38      0.36        21\n",
      "\n",
      "    accuracy                           0.37        86\n",
      "   macro avg       0.37      0.38      0.37        86\n",
      "weighted avg       0.37      0.37      0.37        86\n",
      "\n",
      "Epoch: 14 | Epoch Time: 0m 2s\n",
      "\tTrain Loss: 1.301 | Train Acc: 40.25%\n",
      "\t Val. Loss: 1.336 |  Val. Acc: 37.59%\n"
     ]
    },
    {
     "data": {
      "application/vnd.jupyter.widget-view+json": {
       "model_id": "",
       "version_major": 2,
       "version_minor": 0
      },
      "text/plain": [
       "Training:   0%|          | 0/10 [00:00<?, ?it/s]"
      ]
     },
     "metadata": {},
     "output_type": "display_data"
    },
    {
     "data": {
      "application/vnd.jupyter.widget-view+json": {
       "model_id": "",
       "version_major": 2,
       "version_minor": 0
      },
      "text/plain": [
       "Evaluating:   0%|          | 0/3 [00:00<?, ?it/s]"
      ]
     },
     "metadata": {},
     "output_type": "display_data"
    },
    {
     "name": "stdout",
     "output_type": "stream",
     "text": [
      "Precision: 0.4099 Recall: 0.4179, Accuracy: 0.4186: ,f1_score: 0.4113\n",
      "Classification Report:\n",
      "               precision    recall  f1-score   support\n",
      "\n",
      "           0       0.37      0.30      0.33        23\n",
      "           1       0.52      0.64      0.57        22\n",
      "           2       0.39      0.35      0.37        20\n",
      "           3       0.36      0.38      0.37        21\n",
      "\n",
      "    accuracy                           0.42        86\n",
      "   macro avg       0.41      0.42      0.41        86\n",
      "weighted avg       0.41      0.42      0.41        86\n",
      "\n",
      "Epoch: 15 | Epoch Time: 0m 2s\n",
      "\tTrain Loss: 1.268 | Train Acc: 43.19%\n",
      "\t Val. Loss: 1.299 |  Val. Acc: 41.76%\n"
     ]
    },
    {
     "data": {
      "application/vnd.jupyter.widget-view+json": {
       "model_id": "",
       "version_major": 2,
       "version_minor": 0
      },
      "text/plain": [
       "Training:   0%|          | 0/10 [00:00<?, ?it/s]"
      ]
     },
     "metadata": {},
     "output_type": "display_data"
    },
    {
     "data": {
      "application/vnd.jupyter.widget-view+json": {
       "model_id": "",
       "version_major": 2,
       "version_minor": 0
      },
      "text/plain": [
       "Evaluating:   0%|          | 0/3 [00:00<?, ?it/s]"
      ]
     },
     "metadata": {},
     "output_type": "display_data"
    },
    {
     "name": "stdout",
     "output_type": "stream",
     "text": [
      "Precision: 0.3952 Recall: 0.3961, Accuracy: 0.3953: ,f1_score: 0.3821\n",
      "Classification Report:\n",
      "               precision    recall  f1-score   support\n",
      "\n",
      "           0       0.40      0.52      0.45        23\n",
      "           1       0.40      0.18      0.25        22\n",
      "           2       0.40      0.50      0.44        20\n",
      "           3       0.38      0.38      0.38        21\n",
      "\n",
      "    accuracy                           0.40        86\n",
      "   macro avg       0.40      0.40      0.38        86\n",
      "weighted avg       0.40      0.40      0.38        86\n",
      "\n",
      "Epoch: 16 | Epoch Time: 0m 2s\n",
      "\tTrain Loss: 1.293 | Train Acc: 36.19%\n",
      "\t Val. Loss: 1.329 |  Val. Acc: 39.68%\n"
     ]
    },
    {
     "data": {
      "application/vnd.jupyter.widget-view+json": {
       "model_id": "",
       "version_major": 2,
       "version_minor": 0
      },
      "text/plain": [
       "Training:   0%|          | 0/10 [00:00<?, ?it/s]"
      ]
     },
     "metadata": {},
     "output_type": "display_data"
    },
    {
     "data": {
      "application/vnd.jupyter.widget-view+json": {
       "model_id": "",
       "version_major": 2,
       "version_minor": 0
      },
      "text/plain": [
       "Evaluating:   0%|          | 0/3 [00:00<?, ?it/s]"
      ]
     },
     "metadata": {},
     "output_type": "display_data"
    },
    {
     "name": "stdout",
     "output_type": "stream",
     "text": [
      "Precision: 0.4426 Recall: 0.4338, Accuracy: 0.4302: ,f1_score: 0.4323\n",
      "Classification Report:\n",
      "               precision    recall  f1-score   support\n",
      "\n",
      "           0       0.41      0.30      0.35        23\n",
      "           1       0.61      0.50      0.55        22\n",
      "           2       0.44      0.55      0.49        20\n",
      "           3       0.31      0.38      0.34        21\n",
      "\n",
      "    accuracy                           0.43        86\n",
      "   macro avg       0.44      0.43      0.43        86\n",
      "weighted avg       0.44      0.43      0.43        86\n",
      "\n",
      "Epoch: 17 | Epoch Time: 0m 2s\n",
      "\tTrain Loss: 1.259 | Train Acc: 43.19%\n",
      "\t Val. Loss: 1.316 |  Val. Acc: 42.80%\n"
     ]
    },
    {
     "data": {
      "application/vnd.jupyter.widget-view+json": {
       "model_id": "",
       "version_major": 2,
       "version_minor": 0
      },
      "text/plain": [
       "Training:   0%|          | 0/10 [00:00<?, ?it/s]"
      ]
     },
     "metadata": {},
     "output_type": "display_data"
    },
    {
     "data": {
      "application/vnd.jupyter.widget-view+json": {
       "model_id": "",
       "version_major": 2,
       "version_minor": 0
      },
      "text/plain": [
       "Evaluating:   0%|          | 0/3 [00:00<?, ?it/s]"
      ]
     },
     "metadata": {},
     "output_type": "display_data"
    },
    {
     "name": "stdout",
     "output_type": "stream",
     "text": [
      "Precision: 0.4214 Recall: 0.4090, Accuracy: 0.4070: ,f1_score: 0.4045\n",
      "Classification Report:\n",
      "               precision    recall  f1-score   support\n",
      "\n",
      "           0       0.36      0.43      0.39        23\n",
      "           1       0.50      0.27      0.35        22\n",
      "           2       0.40      0.50      0.44        20\n",
      "           3       0.43      0.43      0.43        21\n",
      "\n",
      "    accuracy                           0.41        86\n",
      "   macro avg       0.42      0.41      0.40        86\n",
      "weighted avg       0.42      0.41      0.40        86\n",
      "\n",
      "Epoch: 18 | Epoch Time: 0m 2s\n",
      "\tTrain Loss: 1.251 | Train Acc: 46.13%\n",
      "\t Val. Loss: 1.267 |  Val. Acc: 41.19%\n"
     ]
    },
    {
     "data": {
      "application/vnd.jupyter.widget-view+json": {
       "model_id": "",
       "version_major": 2,
       "version_minor": 0
      },
      "text/plain": [
       "Training:   0%|          | 0/10 [00:00<?, ?it/s]"
      ]
     },
     "metadata": {},
     "output_type": "display_data"
    },
    {
     "data": {
      "application/vnd.jupyter.widget-view+json": {
       "model_id": "",
       "version_major": 2,
       "version_minor": 0
      },
      "text/plain": [
       "Evaluating:   0%|          | 0/3 [00:00<?, ?it/s]"
      ]
     },
     "metadata": {},
     "output_type": "display_data"
    },
    {
     "name": "stdout",
     "output_type": "stream",
     "text": [
      "Precision: 0.5461 Recall: 0.5186, Accuracy: 0.5233: ,f1_score: 0.5168\n",
      "Classification Report:\n",
      "               precision    recall  f1-score   support\n",
      "\n",
      "           0       0.46      0.74      0.57        23\n",
      "           1       0.60      0.41      0.49        22\n",
      "           2       0.50      0.45      0.47        20\n",
      "           3       0.62      0.48      0.54        21\n",
      "\n",
      "    accuracy                           0.52        86\n",
      "   macro avg       0.55      0.52      0.52        86\n",
      "weighted avg       0.55      0.52      0.52        86\n",
      "\n",
      "Epoch: 19 | Epoch Time: 0m 2s\n",
      "\tTrain Loss: 1.250 | Train Acc: 44.88%\n",
      "\t Val. Loss: 1.218 |  Val. Acc: 52.08%\n"
     ]
    },
    {
     "data": {
      "application/vnd.jupyter.widget-view+json": {
       "model_id": "",
       "version_major": 2,
       "version_minor": 0
      },
      "text/plain": [
       "Training:   0%|          | 0/10 [00:00<?, ?it/s]"
      ]
     },
     "metadata": {},
     "output_type": "display_data"
    },
    {
     "data": {
      "application/vnd.jupyter.widget-view+json": {
       "model_id": "",
       "version_major": 2,
       "version_minor": 0
      },
      "text/plain": [
       "Evaluating:   0%|          | 0/3 [00:00<?, ?it/s]"
      ]
     },
     "metadata": {},
     "output_type": "display_data"
    },
    {
     "name": "stdout",
     "output_type": "stream",
     "text": [
      "Precision: 0.3966 Recall: 0.3906, Accuracy: 0.3953: ,f1_score: 0.3861\n",
      "Classification Report:\n",
      "               precision    recall  f1-score   support\n",
      "\n",
      "           0       0.45      0.57      0.50        23\n",
      "           1       0.47      0.41      0.44        22\n",
      "           2       0.28      0.35      0.31        20\n",
      "           3       0.38      0.24      0.29        21\n",
      "\n",
      "    accuracy                           0.40        86\n",
      "   macro avg       0.40      0.39      0.39        86\n",
      "weighted avg       0.40      0.40      0.39        86\n",
      "\n",
      "Epoch: 20 | Epoch Time: 0m 2s\n",
      "\tTrain Loss: 1.224 | Train Acc: 49.75%\n",
      "\t Val. Loss: 1.262 |  Val. Acc: 37.78%\n"
     ]
    },
    {
     "data": {
      "application/vnd.jupyter.widget-view+json": {
       "model_id": "",
       "version_major": 2,
       "version_minor": 0
      },
      "text/plain": [
       "Training:   0%|          | 0/10 [00:00<?, ?it/s]"
      ]
     },
     "metadata": {},
     "output_type": "display_data"
    },
    {
     "data": {
      "application/vnd.jupyter.widget-view+json": {
       "model_id": "",
       "version_major": 2,
       "version_minor": 0
      },
      "text/plain": [
       "Evaluating:   0%|          | 0/3 [00:00<?, ?it/s]"
      ]
     },
     "metadata": {},
     "output_type": "display_data"
    },
    {
     "name": "stdout",
     "output_type": "stream",
     "text": [
      "Precision: 0.4188 Recall: 0.4182, Accuracy: 0.4186: ,f1_score: 0.4133\n",
      "Classification Report:\n",
      "               precision    recall  f1-score   support\n",
      "\n",
      "           0       0.43      0.43      0.43        23\n",
      "           1       0.55      0.50      0.52        22\n",
      "           2       0.36      0.50      0.42        20\n",
      "           3       0.33      0.24      0.28        21\n",
      "\n",
      "    accuracy                           0.42        86\n",
      "   macro avg       0.42      0.42      0.41        86\n",
      "weighted avg       0.42      0.42      0.42        86\n",
      "\n",
      "Epoch: 21 | Epoch Time: 0m 2s\n",
      "\tTrain Loss: 1.223 | Train Acc: 50.50%\n",
      "\t Val. Loss: 1.233 |  Val. Acc: 40.34%\n"
     ]
    },
    {
     "data": {
      "application/vnd.jupyter.widget-view+json": {
       "model_id": "",
       "version_major": 2,
       "version_minor": 0
      },
      "text/plain": [
       "Training:   0%|          | 0/10 [00:00<?, ?it/s]"
      ]
     },
     "metadata": {},
     "output_type": "display_data"
    },
    {
     "data": {
      "application/vnd.jupyter.widget-view+json": {
       "model_id": "",
       "version_major": 2,
       "version_minor": 0
      },
      "text/plain": [
       "Evaluating:   0%|          | 0/3 [00:00<?, ?it/s]"
      ]
     },
     "metadata": {},
     "output_type": "display_data"
    },
    {
     "name": "stdout",
     "output_type": "stream",
     "text": [
      "Precision: 0.4295 Recall: 0.4175, Accuracy: 0.4186: ,f1_score: 0.4135\n",
      "Classification Report:\n",
      "               precision    recall  f1-score   support\n",
      "\n",
      "           0       0.38      0.43      0.41        23\n",
      "           1       0.53      0.36      0.43        22\n",
      "           2       0.40      0.30      0.34        20\n",
      "           3       0.40      0.57      0.47        21\n",
      "\n",
      "    accuracy                           0.42        86\n",
      "   macro avg       0.43      0.42      0.41        86\n",
      "weighted avg       0.43      0.42      0.41        86\n",
      "\n",
      "Epoch: 22 | Epoch Time: 0m 2s\n",
      "\tTrain Loss: 1.224 | Train Acc: 48.94%\n",
      "\t Val. Loss: 1.246 |  Val. Acc: 43.18%\n"
     ]
    },
    {
     "data": {
      "application/vnd.jupyter.widget-view+json": {
       "model_id": "",
       "version_major": 2,
       "version_minor": 0
      },
      "text/plain": [
       "Training:   0%|          | 0/10 [00:00<?, ?it/s]"
      ]
     },
     "metadata": {},
     "output_type": "display_data"
    },
    {
     "data": {
      "application/vnd.jupyter.widget-view+json": {
       "model_id": "",
       "version_major": 2,
       "version_minor": 0
      },
      "text/plain": [
       "Evaluating:   0%|          | 0/3 [00:00<?, ?it/s]"
      ]
     },
     "metadata": {},
     "output_type": "display_data"
    },
    {
     "name": "stdout",
     "output_type": "stream",
     "text": [
      "Precision: 0.5258 Recall: 0.5109, Accuracy: 0.5116: ,f1_score: 0.5128\n",
      "Classification Report:\n",
      "               precision    recall  f1-score   support\n",
      "\n",
      "           0       0.46      0.57      0.51        23\n",
      "           1       0.62      0.45      0.53        22\n",
      "           2       0.43      0.50      0.47        20\n",
      "           3       0.58      0.52      0.55        21\n",
      "\n",
      "    accuracy                           0.51        86\n",
      "   macro avg       0.53      0.51      0.51        86\n",
      "weighted avg       0.53      0.51      0.51        86\n",
      "\n",
      "Epoch: 23 | Epoch Time: 0m 2s\n",
      "\tTrain Loss: 1.181 | Train Acc: 50.50%\n",
      "\t Val. Loss: 1.216 |  Val. Acc: 51.04%\n"
     ]
    },
    {
     "data": {
      "application/vnd.jupyter.widget-view+json": {
       "model_id": "",
       "version_major": 2,
       "version_minor": 0
      },
      "text/plain": [
       "Training:   0%|          | 0/10 [00:00<?, ?it/s]"
      ]
     },
     "metadata": {},
     "output_type": "display_data"
    },
    {
     "data": {
      "application/vnd.jupyter.widget-view+json": {
       "model_id": "",
       "version_major": 2,
       "version_minor": 0
      },
      "text/plain": [
       "Evaluating:   0%|          | 0/3 [00:00<?, ?it/s]"
      ]
     },
     "metadata": {},
     "output_type": "display_data"
    },
    {
     "name": "stdout",
     "output_type": "stream",
     "text": [
      "Precision: 0.4915 Recall: 0.4809, Accuracy: 0.4767: ,f1_score: 0.4788\n",
      "Classification Report:\n",
      "               precision    recall  f1-score   support\n",
      "\n",
      "           0       0.39      0.30      0.34        23\n",
      "           1       0.71      0.55      0.62        22\n",
      "           2       0.39      0.55      0.46        20\n",
      "           3       0.48      0.52      0.50        21\n",
      "\n",
      "    accuracy                           0.48        86\n",
      "   macro avg       0.49      0.48      0.48        86\n",
      "weighted avg       0.49      0.48      0.48        86\n",
      "\n",
      "Epoch: 24 | Epoch Time: 0m 2s\n",
      "\tTrain Loss: 1.172 | Train Acc: 54.81%\n",
      "\t Val. Loss: 1.229 |  Val. Acc: 48.39%\n"
     ]
    },
    {
     "data": {
      "application/vnd.jupyter.widget-view+json": {
       "model_id": "",
       "version_major": 2,
       "version_minor": 0
      },
      "text/plain": [
       "Training:   0%|          | 0/10 [00:00<?, ?it/s]"
      ]
     },
     "metadata": {},
     "output_type": "display_data"
    },
    {
     "data": {
      "application/vnd.jupyter.widget-view+json": {
       "model_id": "",
       "version_major": 2,
       "version_minor": 0
      },
      "text/plain": [
       "Evaluating:   0%|          | 0/3 [00:00<?, ?it/s]"
      ]
     },
     "metadata": {},
     "output_type": "display_data"
    },
    {
     "name": "stdout",
     "output_type": "stream",
     "text": [
      "Precision: 0.5217 Recall: 0.5055, Accuracy: 0.5000: ,f1_score: 0.5018\n",
      "Classification Report:\n",
      "               precision    recall  f1-score   support\n",
      "\n",
      "           0       0.39      0.39      0.39        23\n",
      "           1       0.69      0.41      0.51        22\n",
      "           2       0.54      0.65      0.59        20\n",
      "           3       0.46      0.57      0.51        21\n",
      "\n",
      "    accuracy                           0.50        86\n",
      "   macro avg       0.52      0.51      0.50        86\n",
      "weighted avg       0.52      0.50      0.50        86\n",
      "\n",
      "Epoch: 25 | Epoch Time: 0m 2s\n",
      "\tTrain Loss: 1.182 | Train Acc: 54.63%\n",
      "\t Val. Loss: 1.211 |  Val. Acc: 50.95%\n"
     ]
    },
    {
     "data": {
      "application/vnd.jupyter.widget-view+json": {
       "model_id": "",
       "version_major": 2,
       "version_minor": 0
      },
      "text/plain": [
       "Training:   0%|          | 0/10 [00:00<?, ?it/s]"
      ]
     },
     "metadata": {},
     "output_type": "display_data"
    },
    {
     "data": {
      "application/vnd.jupyter.widget-view+json": {
       "model_id": "",
       "version_major": 2,
       "version_minor": 0
      },
      "text/plain": [
       "Evaluating:   0%|          | 0/3 [00:00<?, ?it/s]"
      ]
     },
     "metadata": {},
     "output_type": "display_data"
    },
    {
     "name": "stdout",
     "output_type": "stream",
     "text": [
      "Precision: 0.4700 Recall: 0.4508, Accuracy: 0.4535: ,f1_score: 0.4502\n",
      "Classification Report:\n",
      "               precision    recall  f1-score   support\n",
      "\n",
      "           0       0.41      0.57      0.47        23\n",
      "           1       0.53      0.45      0.49        22\n",
      "           2       0.41      0.45      0.43        20\n",
      "           3       0.54      0.33      0.41        21\n",
      "\n",
      "    accuracy                           0.45        86\n",
      "   macro avg       0.47      0.45      0.45        86\n",
      "weighted avg       0.47      0.45      0.45        86\n",
      "\n",
      "Epoch: 26 | Epoch Time: 0m 2s\n",
      "\tTrain Loss: 1.141 | Train Acc: 57.00%\n",
      "\t Val. Loss: 1.217 |  Val. Acc: 44.41%\n"
     ]
    },
    {
     "data": {
      "application/vnd.jupyter.widget-view+json": {
       "model_id": "",
       "version_major": 2,
       "version_minor": 0
      },
      "text/plain": [
       "Training:   0%|          | 0/10 [00:00<?, ?it/s]"
      ]
     },
     "metadata": {},
     "output_type": "display_data"
    },
    {
     "data": {
      "application/vnd.jupyter.widget-view+json": {
       "model_id": "",
       "version_major": 2,
       "version_minor": 0
      },
      "text/plain": [
       "Evaluating:   0%|          | 0/3 [00:00<?, ?it/s]"
      ]
     },
     "metadata": {},
     "output_type": "display_data"
    },
    {
     "name": "stdout",
     "output_type": "stream",
     "text": [
      "Precision: 0.5807 Recall: 0.5761, Accuracy: 0.5698: ,f1_score: 0.5663\n",
      "Classification Report:\n",
      "               precision    recall  f1-score   support\n",
      "\n",
      "           0       0.55      0.48      0.51        23\n",
      "           1       0.62      0.45      0.53        22\n",
      "           2       0.52      0.80      0.63        20\n",
      "           3       0.63      0.57      0.60        21\n",
      "\n",
      "    accuracy                           0.57        86\n",
      "   macro avg       0.58      0.58      0.57        86\n",
      "weighted avg       0.58      0.57      0.56        86\n",
      "\n",
      "Epoch: 27 | Epoch Time: 0m 2s\n",
      "\tTrain Loss: 1.145 | Train Acc: 57.06%\n",
      "\t Val. Loss: 1.163 |  Val. Acc: 57.20%\n"
     ]
    },
    {
     "data": {
      "application/vnd.jupyter.widget-view+json": {
       "model_id": "",
       "version_major": 2,
       "version_minor": 0
      },
      "text/plain": [
       "Training:   0%|          | 0/10 [00:00<?, ?it/s]"
      ]
     },
     "metadata": {},
     "output_type": "display_data"
    },
    {
     "data": {
      "application/vnd.jupyter.widget-view+json": {
       "model_id": "",
       "version_major": 2,
       "version_minor": 0
      },
      "text/plain": [
       "Evaluating:   0%|          | 0/3 [00:00<?, ?it/s]"
      ]
     },
     "metadata": {},
     "output_type": "display_data"
    },
    {
     "name": "stdout",
     "output_type": "stream",
     "text": [
      "Precision: 0.5000 Recall: 0.4907, Accuracy: 0.4884: ,f1_score: 0.4891\n",
      "Classification Report:\n",
      "               precision    recall  f1-score   support\n",
      "\n",
      "           0       0.40      0.43      0.42        23\n",
      "           1       0.60      0.41      0.49        22\n",
      "           2       0.50      0.50      0.50        20\n",
      "           3       0.50      0.62      0.55        21\n",
      "\n",
      "    accuracy                           0.49        86\n",
      "   macro avg       0.50      0.49      0.49        86\n",
      "weighted avg       0.50      0.49      0.49        86\n",
      "\n",
      "Epoch: 28 | Epoch Time: 0m 2s\n",
      "\tTrain Loss: 1.112 | Train Acc: 61.00%\n",
      "\t Val. Loss: 1.173 |  Val. Acc: 50.38%\n"
     ]
    },
    {
     "data": {
      "application/vnd.jupyter.widget-view+json": {
       "model_id": "",
       "version_major": 2,
       "version_minor": 0
      },
      "text/plain": [
       "Training:   0%|          | 0/10 [00:00<?, ?it/s]"
      ]
     },
     "metadata": {},
     "output_type": "display_data"
    },
    {
     "data": {
      "application/vnd.jupyter.widget-view+json": {
       "model_id": "",
       "version_major": 2,
       "version_minor": 0
      },
      "text/plain": [
       "Evaluating:   0%|          | 0/3 [00:00<?, ?it/s]"
      ]
     },
     "metadata": {},
     "output_type": "display_data"
    },
    {
     "name": "stdout",
     "output_type": "stream",
     "text": [
      "Precision: 0.6506 Recall: 0.6420, Accuracy: 0.6395: ,f1_score: 0.6355\n",
      "Classification Report:\n",
      "               precision    recall  f1-score   support\n",
      "\n",
      "           0       0.68      0.57      0.62        23\n",
      "           1       0.71      0.55      0.62        22\n",
      "           2       0.63      0.60      0.62        20\n",
      "           3       0.58      0.86      0.69        21\n",
      "\n",
      "    accuracy                           0.64        86\n",
      "   macro avg       0.65      0.64      0.64        86\n",
      "weighted avg       0.65      0.64      0.64        86\n",
      "\n",
      "Epoch: 29 | Epoch Time: 0m 2s\n",
      "\tTrain Loss: 1.122 | Train Acc: 61.63%\n",
      "\t Val. Loss: 1.117 |  Val. Acc: 66.29%\n"
     ]
    },
    {
     "data": {
      "application/vnd.jupyter.widget-view+json": {
       "model_id": "",
       "version_major": 2,
       "version_minor": 0
      },
      "text/plain": [
       "Training:   0%|          | 0/10 [00:00<?, ?it/s]"
      ]
     },
     "metadata": {},
     "output_type": "display_data"
    },
    {
     "data": {
      "application/vnd.jupyter.widget-view+json": {
       "model_id": "",
       "version_major": 2,
       "version_minor": 0
      },
      "text/plain": [
       "Evaluating:   0%|          | 0/3 [00:00<?, ?it/s]"
      ]
     },
     "metadata": {},
     "output_type": "display_data"
    },
    {
     "name": "stdout",
     "output_type": "stream",
     "text": [
      "Precision: 0.5798 Recall: 0.5650, Accuracy: 0.5581: ,f1_score: 0.5568\n",
      "Classification Report:\n",
      "               precision    recall  f1-score   support\n",
      "\n",
      "           0       0.50      0.39      0.44        23\n",
      "           1       0.71      0.45      0.56        22\n",
      "           2       0.64      0.70      0.67        20\n",
      "           3       0.47      0.71      0.57        21\n",
      "\n",
      "    accuracy                           0.56        86\n",
      "   macro avg       0.58      0.57      0.56        86\n",
      "weighted avg       0.58      0.56      0.55        86\n",
      "\n",
      "Epoch: 30 | Epoch Time: 0m 2s\n",
      "\tTrain Loss: 1.133 | Train Acc: 58.13%\n",
      "\t Val. Loss: 1.122 |  Val. Acc: 57.58%\n"
     ]
    },
    {
     "data": {
      "application/vnd.jupyter.widget-view+json": {
       "model_id": "",
       "version_major": 2,
       "version_minor": 0
      },
      "text/plain": [
       "Training:   0%|          | 0/10 [00:00<?, ?it/s]"
      ]
     },
     "metadata": {},
     "output_type": "display_data"
    },
    {
     "data": {
      "application/vnd.jupyter.widget-view+json": {
       "model_id": "",
       "version_major": 2,
       "version_minor": 0
      },
      "text/plain": [
       "Evaluating:   0%|          | 0/3 [00:00<?, ?it/s]"
      ]
     },
     "metadata": {},
     "output_type": "display_data"
    },
    {
     "name": "stdout",
     "output_type": "stream",
     "text": [
      "Precision: 0.6143 Recall: 0.6153, Accuracy: 0.6163: ,f1_score: 0.6126\n",
      "Classification Report:\n",
      "               precision    recall  f1-score   support\n",
      "\n",
      "           0       0.62      0.57      0.59        23\n",
      "           1       0.62      0.68      0.65        22\n",
      "           2       0.59      0.50      0.54        20\n",
      "           3       0.62      0.71      0.67        21\n",
      "\n",
      "    accuracy                           0.62        86\n",
      "   macro avg       0.61      0.62      0.61        86\n",
      "weighted avg       0.61      0.62      0.61        86\n",
      "\n",
      "Epoch: 31 | Epoch Time: 0m 2s\n",
      "\tTrain Loss: 1.114 | Train Acc: 62.88%\n",
      "\t Val. Loss: 1.123 |  Val. Acc: 62.31%\n"
     ]
    },
    {
     "data": {
      "application/vnd.jupyter.widget-view+json": {
       "model_id": "",
       "version_major": 2,
       "version_minor": 0
      },
      "text/plain": [
       "Training:   0%|          | 0/10 [00:00<?, ?it/s]"
      ]
     },
     "metadata": {},
     "output_type": "display_data"
    },
    {
     "data": {
      "application/vnd.jupyter.widget-view+json": {
       "model_id": "",
       "version_major": 2,
       "version_minor": 0
      },
      "text/plain": [
       "Evaluating:   0%|          | 0/3 [00:00<?, ?it/s]"
      ]
     },
     "metadata": {},
     "output_type": "display_data"
    },
    {
     "name": "stdout",
     "output_type": "stream",
     "text": [
      "Precision: 0.5257 Recall: 0.5239, Accuracy: 0.5233: ,f1_score: 0.5194\n",
      "Classification Report:\n",
      "               precision    recall  f1-score   support\n",
      "\n",
      "           0       0.58      0.48      0.52        23\n",
      "           1       0.61      0.64      0.62        22\n",
      "           2       0.44      0.60      0.51        20\n",
      "           3       0.47      0.38      0.42        21\n",
      "\n",
      "    accuracy                           0.52        86\n",
      "   macro avg       0.53      0.52      0.52        86\n",
      "weighted avg       0.53      0.52      0.52        86\n",
      "\n",
      "Epoch: 32 | Epoch Time: 0m 2s\n",
      "\tTrain Loss: 1.125 | Train Acc: 57.75%\n",
      "\t Val. Loss: 1.165 |  Val. Acc: 51.14%\n"
     ]
    },
    {
     "data": {
      "application/vnd.jupyter.widget-view+json": {
       "model_id": "",
       "version_major": 2,
       "version_minor": 0
      },
      "text/plain": [
       "Training:   0%|          | 0/10 [00:00<?, ?it/s]"
      ]
     },
     "metadata": {},
     "output_type": "display_data"
    },
    {
     "data": {
      "application/vnd.jupyter.widget-view+json": {
       "model_id": "",
       "version_major": 2,
       "version_minor": 0
      },
      "text/plain": [
       "Evaluating:   0%|          | 0/3 [00:00<?, ?it/s]"
      ]
     },
     "metadata": {},
     "output_type": "display_data"
    },
    {
     "name": "stdout",
     "output_type": "stream",
     "text": [
      "Precision: 0.5637 Recall: 0.5521, Accuracy: 0.5465: ,f1_score: 0.5441\n",
      "Classification Report:\n",
      "               precision    recall  f1-score   support\n",
      "\n",
      "           0       0.62      0.43      0.51        23\n",
      "           1       0.61      0.50      0.55        22\n",
      "           2       0.47      0.75      0.58        20\n",
      "           3       0.55      0.52      0.54        21\n",
      "\n",
      "    accuracy                           0.55        86\n",
      "   macro avg       0.56      0.55      0.54        86\n",
      "weighted avg       0.57      0.55      0.54        86\n",
      "\n",
      "Epoch: 33 | Epoch Time: 0m 2s\n",
      "\tTrain Loss: 1.102 | Train Acc: 58.81%\n",
      "\t Val. Loss: 1.147 |  Val. Acc: 54.64%\n"
     ]
    },
    {
     "data": {
      "application/vnd.jupyter.widget-view+json": {
       "model_id": "",
       "version_major": 2,
       "version_minor": 0
      },
      "text/plain": [
       "Training:   0%|          | 0/10 [00:00<?, ?it/s]"
      ]
     },
     "metadata": {},
     "output_type": "display_data"
    },
    {
     "data": {
      "application/vnd.jupyter.widget-view+json": {
       "model_id": "",
       "version_major": 2,
       "version_minor": 0
      },
      "text/plain": [
       "Evaluating:   0%|          | 0/3 [00:00<?, ?it/s]"
      ]
     },
     "metadata": {},
     "output_type": "display_data"
    },
    {
     "name": "stdout",
     "output_type": "stream",
     "text": [
      "Precision: 0.6540 Recall: 0.6453, Accuracy: 0.6395: ,f1_score: 0.6427\n",
      "Classification Report:\n",
      "               precision    recall  f1-score   support\n",
      "\n",
      "           0       0.50      0.48      0.49        23\n",
      "           1       0.82      0.64      0.72        22\n",
      "           2       0.59      0.80      0.68        20\n",
      "           3       0.70      0.67      0.68        21\n",
      "\n",
      "    accuracy                           0.64        86\n",
      "   macro avg       0.65      0.65      0.64        86\n",
      "weighted avg       0.65      0.64      0.64        86\n",
      "\n",
      "Epoch: 34 | Epoch Time: 0m 2s\n",
      "\tTrain Loss: 1.082 | Train Acc: 63.69%\n",
      "\t Val. Loss: 1.059 |  Val. Acc: 64.39%\n"
     ]
    },
    {
     "data": {
      "application/vnd.jupyter.widget-view+json": {
       "model_id": "",
       "version_major": 2,
       "version_minor": 0
      },
      "text/plain": [
       "Training:   0%|          | 0/10 [00:00<?, ?it/s]"
      ]
     },
     "metadata": {},
     "output_type": "display_data"
    },
    {
     "data": {
      "application/vnd.jupyter.widget-view+json": {
       "model_id": "",
       "version_major": 2,
       "version_minor": 0
      },
      "text/plain": [
       "Evaluating:   0%|          | 0/3 [00:00<?, ?it/s]"
      ]
     },
     "metadata": {},
     "output_type": "display_data"
    },
    {
     "name": "stdout",
     "output_type": "stream",
     "text": [
      "Precision: 0.6416 Recall: 0.6058, Accuracy: 0.6047: ,f1_score: 0.6094\n",
      "Classification Report:\n",
      "               precision    recall  f1-score   support\n",
      "\n",
      "           0       0.56      0.61      0.58        23\n",
      "           1       0.92      0.55      0.69        22\n",
      "           2       0.54      0.65      0.59        20\n",
      "           3       0.54      0.62      0.58        21\n",
      "\n",
      "    accuracy                           0.60        86\n",
      "   macro avg       0.64      0.61      0.61        86\n",
      "weighted avg       0.64      0.60      0.61        86\n",
      "\n",
      "Epoch: 35 | Epoch Time: 0m 2s\n",
      "\tTrain Loss: 1.051 | Train Acc: 67.94%\n",
      "\t Val. Loss: 1.070 |  Val. Acc: 60.80%\n"
     ]
    },
    {
     "data": {
      "application/vnd.jupyter.widget-view+json": {
       "model_id": "",
       "version_major": 2,
       "version_minor": 0
      },
      "text/plain": [
       "Training:   0%|          | 0/10 [00:00<?, ?it/s]"
      ]
     },
     "metadata": {},
     "output_type": "display_data"
    },
    {
     "data": {
      "application/vnd.jupyter.widget-view+json": {
       "model_id": "",
       "version_major": 2,
       "version_minor": 0
      },
      "text/plain": [
       "Evaluating:   0%|          | 0/3 [00:00<?, ?it/s]"
      ]
     },
     "metadata": {},
     "output_type": "display_data"
    },
    {
     "name": "stdout",
     "output_type": "stream",
     "text": [
      "Precision: 0.6599 Recall: 0.6493, Accuracy: 0.6512: ,f1_score: 0.6491\n",
      "Classification Report:\n",
      "               precision    recall  f1-score   support\n",
      "\n",
      "           0       0.62      0.78      0.69        23\n",
      "           1       0.71      0.55      0.62        22\n",
      "           2       0.72      0.65      0.68        20\n",
      "           3       0.59      0.62      0.60        21\n",
      "\n",
      "    accuracy                           0.65        86\n",
      "   macro avg       0.66      0.65      0.65        86\n",
      "weighted avg       0.66      0.65      0.65        86\n",
      "\n",
      "Epoch: 36 | Epoch Time: 0m 2s\n",
      "\tTrain Loss: 1.046 | Train Acc: 65.31%\n",
      "\t Val. Loss: 1.102 |  Val. Acc: 64.96%\n"
     ]
    },
    {
     "data": {
      "application/vnd.jupyter.widget-view+json": {
       "model_id": "",
       "version_major": 2,
       "version_minor": 0
      },
      "text/plain": [
       "Training:   0%|          | 0/10 [00:00<?, ?it/s]"
      ]
     },
     "metadata": {},
     "output_type": "display_data"
    },
    {
     "data": {
      "application/vnd.jupyter.widget-view+json": {
       "model_id": "",
       "version_major": 2,
       "version_minor": 0
      },
      "text/plain": [
       "Evaluating:   0%|          | 0/3 [00:00<?, ?it/s]"
      ]
     },
     "metadata": {},
     "output_type": "display_data"
    },
    {
     "name": "stdout",
     "output_type": "stream",
     "text": [
      "Precision: 0.7148 Recall: 0.6962, Accuracy: 0.6977: ,f1_score: 0.6997\n",
      "Classification Report:\n",
      "               precision    recall  f1-score   support\n",
      "\n",
      "           0       0.59      0.70      0.64        23\n",
      "           1       0.80      0.73      0.76        22\n",
      "           2       0.80      0.60      0.69        20\n",
      "           3       0.67      0.76      0.71        21\n",
      "\n",
      "    accuracy                           0.70        86\n",
      "   macro avg       0.71      0.70      0.70        86\n",
      "weighted avg       0.71      0.70      0.70        86\n",
      "\n",
      "Epoch: 37 | Epoch Time: 0m 2s\n",
      "\tTrain Loss: 1.048 | Train Acc: 64.63%\n",
      "\t Val. Loss: 1.038 |  Val. Acc: 70.55%\n"
     ]
    },
    {
     "data": {
      "application/vnd.jupyter.widget-view+json": {
       "model_id": "",
       "version_major": 2,
       "version_minor": 0
      },
      "text/plain": [
       "Training:   0%|          | 0/10 [00:00<?, ?it/s]"
      ]
     },
     "metadata": {},
     "output_type": "display_data"
    },
    {
     "data": {
      "application/vnd.jupyter.widget-view+json": {
       "model_id": "",
       "version_major": 2,
       "version_minor": 0
      },
      "text/plain": [
       "Evaluating:   0%|          | 0/3 [00:00<?, ?it/s]"
      ]
     },
     "metadata": {},
     "output_type": "display_data"
    },
    {
     "name": "stdout",
     "output_type": "stream",
     "text": [
      "Precision: 0.7044 Recall: 0.6979, Accuracy: 0.6977: ,f1_score: 0.6988\n",
      "Classification Report:\n",
      "               precision    recall  f1-score   support\n",
      "\n",
      "           0       0.84      0.70      0.76        23\n",
      "           1       0.62      0.68      0.65        22\n",
      "           2       0.64      0.70      0.67        20\n",
      "           3       0.71      0.71      0.71        21\n",
      "\n",
      "    accuracy                           0.70        86\n",
      "   macro avg       0.70      0.70      0.70        86\n",
      "weighted avg       0.71      0.70      0.70        86\n",
      "\n",
      "Epoch: 38 | Epoch Time: 0m 2s\n",
      "\tTrain Loss: 1.099 | Train Acc: 57.50%\n",
      "\t Val. Loss: 1.047 |  Val. Acc: 70.08%\n"
     ]
    },
    {
     "data": {
      "application/vnd.jupyter.widget-view+json": {
       "model_id": "",
       "version_major": 2,
       "version_minor": 0
      },
      "text/plain": [
       "Training:   0%|          | 0/10 [00:00<?, ?it/s]"
      ]
     },
     "metadata": {},
     "output_type": "display_data"
    },
    {
     "data": {
      "application/vnd.jupyter.widget-view+json": {
       "model_id": "",
       "version_major": 2,
       "version_minor": 0
      },
      "text/plain": [
       "Evaluating:   0%|          | 0/3 [00:00<?, ?it/s]"
      ]
     },
     "metadata": {},
     "output_type": "display_data"
    },
    {
     "name": "stdout",
     "output_type": "stream",
     "text": [
      "Precision: 0.6279 Recall: 0.5997, Accuracy: 0.5930: ,f1_score: 0.5876\n",
      "Classification Report:\n",
      "               precision    recall  f1-score   support\n",
      "\n",
      "           0       0.82      0.39      0.53        23\n",
      "           1       0.60      0.55      0.57        22\n",
      "           2       0.56      0.70      0.62        20\n",
      "           3       0.53      0.76      0.63        21\n",
      "\n",
      "    accuracy                           0.59        86\n",
      "   macro avg       0.63      0.60      0.59        86\n",
      "weighted avg       0.63      0.59      0.59        86\n",
      "\n",
      "Epoch: 39 | Epoch Time: 0m 2s\n",
      "\tTrain Loss: 1.063 | Train Acc: 68.63%\n",
      "\t Val. Loss: 1.082 |  Val. Acc: 61.17%\n"
     ]
    },
    {
     "data": {
      "application/vnd.jupyter.widget-view+json": {
       "model_id": "",
       "version_major": 2,
       "version_minor": 0
      },
      "text/plain": [
       "Training:   0%|          | 0/10 [00:00<?, ?it/s]"
      ]
     },
     "metadata": {},
     "output_type": "display_data"
    },
    {
     "data": {
      "application/vnd.jupyter.widget-view+json": {
       "model_id": "",
       "version_major": 2,
       "version_minor": 0
      },
      "text/plain": [
       "Evaluating:   0%|          | 0/3 [00:00<?, ?it/s]"
      ]
     },
     "metadata": {},
     "output_type": "display_data"
    },
    {
     "name": "stdout",
     "output_type": "stream",
     "text": [
      "Precision: 0.6509 Recall: 0.6225, Accuracy: 0.6163: ,f1_score: 0.6158\n",
      "Classification Report:\n",
      "               precision    recall  f1-score   support\n",
      "\n",
      "           0       0.71      0.43      0.54        23\n",
      "           1       0.81      0.59      0.68        22\n",
      "           2       0.50      0.75      0.60        20\n",
      "           3       0.58      0.71      0.64        21\n",
      "\n",
      "    accuracy                           0.62        86\n",
      "   macro avg       0.65      0.62      0.62        86\n",
      "weighted avg       0.66      0.62      0.61        86\n",
      "\n",
      "Epoch: 40 | Epoch Time: 0m 2s\n",
      "\tTrain Loss: 1.056 | Train Acc: 65.25%\n",
      "\t Val. Loss: 1.084 |  Val. Acc: 62.78%\n"
     ]
    },
    {
     "data": {
      "application/vnd.jupyter.widget-view+json": {
       "model_id": "",
       "version_major": 2,
       "version_minor": 0
      },
      "text/plain": [
       "Training:   0%|          | 0/10 [00:00<?, ?it/s]"
      ]
     },
     "metadata": {},
     "output_type": "display_data"
    },
    {
     "data": {
      "application/vnd.jupyter.widget-view+json": {
       "model_id": "",
       "version_major": 2,
       "version_minor": 0
      },
      "text/plain": [
       "Evaluating:   0%|          | 0/3 [00:00<?, ?it/s]"
      ]
     },
     "metadata": {},
     "output_type": "display_data"
    },
    {
     "name": "stdout",
     "output_type": "stream",
     "text": [
      "Precision: 0.6688 Recall: 0.6654, Accuracy: 0.6628: ,f1_score: 0.6641\n",
      "Classification Report:\n",
      "               precision    recall  f1-score   support\n",
      "\n",
      "           0       0.59      0.57      0.58        23\n",
      "           1       0.80      0.73      0.76        22\n",
      "           2       0.60      0.75      0.67        20\n",
      "           3       0.68      0.62      0.65        21\n",
      "\n",
      "    accuracy                           0.66        86\n",
      "   macro avg       0.67      0.67      0.66        86\n",
      "weighted avg       0.67      0.66      0.66        86\n",
      "\n",
      "Epoch: 41 | Epoch Time: 0m 2s\n",
      "\tTrain Loss: 1.036 | Train Acc: 64.81%\n",
      "\t Val. Loss: 1.031 |  Val. Acc: 66.00%\n"
     ]
    },
    {
     "data": {
      "application/vnd.jupyter.widget-view+json": {
       "model_id": "",
       "version_major": 2,
       "version_minor": 0
      },
      "text/plain": [
       "Training:   0%|          | 0/10 [00:00<?, ?it/s]"
      ]
     },
     "metadata": {},
     "output_type": "display_data"
    },
    {
     "data": {
      "application/vnd.jupyter.widget-view+json": {
       "model_id": "",
       "version_major": 2,
       "version_minor": 0
      },
      "text/plain": [
       "Evaluating:   0%|          | 0/3 [00:00<?, ?it/s]"
      ]
     },
     "metadata": {},
     "output_type": "display_data"
    },
    {
     "name": "stdout",
     "output_type": "stream",
     "text": [
      "Precision: 0.6225 Recall: 0.6140, Accuracy: 0.6163: ,f1_score: 0.6148\n",
      "Classification Report:\n",
      "               precision    recall  f1-score   support\n",
      "\n",
      "           0       0.61      0.74      0.67        23\n",
      "           1       0.55      0.55      0.55        22\n",
      "           2       0.63      0.60      0.62        20\n",
      "           3       0.71      0.57      0.63        21\n",
      "\n",
      "    accuracy                           0.62        86\n",
      "   macro avg       0.62      0.61      0.61        86\n",
      "weighted avg       0.62      0.62      0.62        86\n",
      "\n",
      "Epoch: 42 | Epoch Time: 0m 2s\n",
      "\tTrain Loss: 1.002 | Train Acc: 67.06%\n",
      "\t Val. Loss: 1.087 |  Val. Acc: 61.36%\n"
     ]
    },
    {
     "data": {
      "application/vnd.jupyter.widget-view+json": {
       "model_id": "",
       "version_major": 2,
       "version_minor": 0
      },
      "text/plain": [
       "Training:   0%|          | 0/10 [00:00<?, ?it/s]"
      ]
     },
     "metadata": {},
     "output_type": "display_data"
    },
    {
     "data": {
      "application/vnd.jupyter.widget-view+json": {
       "model_id": "",
       "version_major": 2,
       "version_minor": 0
      },
      "text/plain": [
       "Evaluating:   0%|          | 0/3 [00:00<?, ?it/s]"
      ]
     },
     "metadata": {},
     "output_type": "display_data"
    },
    {
     "name": "stdout",
     "output_type": "stream",
     "text": [
      "Precision: 0.6341 Recall: 0.6122, Accuracy: 0.6163: ,f1_score: 0.6168\n",
      "Classification Report:\n",
      "               precision    recall  f1-score   support\n",
      "\n",
      "           0       0.48      0.65      0.56        23\n",
      "           1       0.81      0.77      0.79        22\n",
      "           2       0.56      0.50      0.53        20\n",
      "           3       0.69      0.52      0.59        21\n",
      "\n",
      "    accuracy                           0.62        86\n",
      "   macro avg       0.63      0.61      0.62        86\n",
      "weighted avg       0.63      0.62      0.62        86\n",
      "\n",
      "Epoch: 43 | Epoch Time: 0m 2s\n",
      "\tTrain Loss: 1.022 | Train Acc: 65.56%\n",
      "\t Val. Loss: 1.039 |  Val. Acc: 60.89%\n"
     ]
    },
    {
     "data": {
      "application/vnd.jupyter.widget-view+json": {
       "model_id": "",
       "version_major": 2,
       "version_minor": 0
      },
      "text/plain": [
       "Training:   0%|          | 0/10 [00:00<?, ?it/s]"
      ]
     },
     "metadata": {},
     "output_type": "display_data"
    },
    {
     "data": {
      "application/vnd.jupyter.widget-view+json": {
       "model_id": "",
       "version_major": 2,
       "version_minor": 0
      },
      "text/plain": [
       "Evaluating:   0%|          | 0/3 [00:00<?, ?it/s]"
      ]
     },
     "metadata": {},
     "output_type": "display_data"
    },
    {
     "name": "stdout",
     "output_type": "stream",
     "text": [
      "Precision: 0.6864 Recall: 0.6893, Accuracy: 0.6860: ,f1_score: 0.6873\n",
      "Classification Report:\n",
      "               precision    recall  f1-score   support\n",
      "\n",
      "           0       0.61      0.61      0.61        23\n",
      "           1       0.70      0.73      0.71        22\n",
      "           2       0.81      0.85      0.83        20\n",
      "           3       0.63      0.57      0.60        21\n",
      "\n",
      "    accuracy                           0.69        86\n",
      "   macro avg       0.69      0.69      0.69        86\n",
      "weighted avg       0.68      0.69      0.68        86\n",
      "\n",
      "Epoch: 44 | Epoch Time: 0m 2s\n",
      "\tTrain Loss: 1.007 | Train Acc: 63.38%\n",
      "\t Val. Loss: 1.007 |  Val. Acc: 67.61%\n"
     ]
    },
    {
     "data": {
      "application/vnd.jupyter.widget-view+json": {
       "model_id": "",
       "version_major": 2,
       "version_minor": 0
      },
      "text/plain": [
       "Training:   0%|          | 0/10 [00:00<?, ?it/s]"
      ]
     },
     "metadata": {},
     "output_type": "display_data"
    },
    {
     "data": {
      "application/vnd.jupyter.widget-view+json": {
       "model_id": "",
       "version_major": 2,
       "version_minor": 0
      },
      "text/plain": [
       "Evaluating:   0%|          | 0/3 [00:00<?, ?it/s]"
      ]
     },
     "metadata": {},
     "output_type": "display_data"
    },
    {
     "name": "stdout",
     "output_type": "stream",
     "text": [
      "Precision: 0.6861 Recall: 0.6714, Accuracy: 0.6744: ,f1_score: 0.6734\n",
      "Classification Report:\n",
      "               precision    recall  f1-score   support\n",
      "\n",
      "           0       0.60      0.78      0.68        23\n",
      "           1       0.78      0.64      0.70        22\n",
      "           2       0.67      0.60      0.63        20\n",
      "           3       0.70      0.67      0.68        21\n",
      "\n",
      "    accuracy                           0.67        86\n",
      "   macro avg       0.69      0.67      0.67        86\n",
      "weighted avg       0.69      0.67      0.67        86\n",
      "\n",
      "Epoch: 45 | Epoch Time: 0m 2s\n",
      "\tTrain Loss: 0.953 | Train Acc: 72.13%\n",
      "\t Val. Loss: 1.026 |  Val. Acc: 67.05%\n"
     ]
    },
    {
     "data": {
      "application/vnd.jupyter.widget-view+json": {
       "model_id": "",
       "version_major": 2,
       "version_minor": 0
      },
      "text/plain": [
       "Training:   0%|          | 0/10 [00:00<?, ?it/s]"
      ]
     },
     "metadata": {},
     "output_type": "display_data"
    },
    {
     "data": {
      "application/vnd.jupyter.widget-view+json": {
       "model_id": "",
       "version_major": 2,
       "version_minor": 0
      },
      "text/plain": [
       "Evaluating:   0%|          | 0/3 [00:00<?, ?it/s]"
      ]
     },
     "metadata": {},
     "output_type": "display_data"
    },
    {
     "name": "stdout",
     "output_type": "stream",
     "text": [
      "Precision: 0.7006 Recall: 0.6846, Accuracy: 0.6860: ,f1_score: 0.6832\n",
      "Classification Report:\n",
      "               precision    recall  f1-score   support\n",
      "\n",
      "           0       0.62      0.78      0.69        23\n",
      "           1       0.71      0.68      0.70        22\n",
      "           2       0.68      0.75      0.71        20\n",
      "           3       0.79      0.52      0.63        21\n",
      "\n",
      "    accuracy                           0.69        86\n",
      "   macro avg       0.70      0.68      0.68        86\n",
      "weighted avg       0.70      0.69      0.68        86\n",
      "\n",
      "Epoch: 46 | Epoch Time: 0m 2s\n",
      "\tTrain Loss: 0.992 | Train Acc: 66.75%\n",
      "\t Val. Loss: 1.025 |  Val. Acc: 67.14%\n"
     ]
    },
    {
     "data": {
      "application/vnd.jupyter.widget-view+json": {
       "model_id": "",
       "version_major": 2,
       "version_minor": 0
      },
      "text/plain": [
       "Training:   0%|          | 0/10 [00:00<?, ?it/s]"
      ]
     },
     "metadata": {},
     "output_type": "display_data"
    },
    {
     "data": {
      "application/vnd.jupyter.widget-view+json": {
       "model_id": "",
       "version_major": 2,
       "version_minor": 0
      },
      "text/plain": [
       "Evaluating:   0%|          | 0/3 [00:00<?, ?it/s]"
      ]
     },
     "metadata": {},
     "output_type": "display_data"
    },
    {
     "name": "stdout",
     "output_type": "stream",
     "text": [
      "Precision: 0.7617 Recall: 0.7441, Accuracy: 0.7442: ,f1_score: 0.7471\n",
      "Classification Report:\n",
      "               precision    recall  f1-score   support\n",
      "\n",
      "           0       0.61      0.74      0.67        23\n",
      "           1       0.90      0.82      0.86        22\n",
      "           2       0.73      0.80      0.76        20\n",
      "           3       0.81      0.62      0.70        21\n",
      "\n",
      "    accuracy                           0.74        86\n",
      "   macro avg       0.76      0.74      0.75        86\n",
      "weighted avg       0.76      0.74      0.75        86\n",
      "\n",
      "Epoch: 47 | Epoch Time: 0m 2s\n",
      "\tTrain Loss: 1.050 | Train Acc: 61.44%\n",
      "\t Val. Loss: 1.001 |  Val. Acc: 73.30%\n"
     ]
    },
    {
     "data": {
      "application/vnd.jupyter.widget-view+json": {
       "model_id": "",
       "version_major": 2,
       "version_minor": 0
      },
      "text/plain": [
       "Training:   0%|          | 0/10 [00:00<?, ?it/s]"
      ]
     },
     "metadata": {},
     "output_type": "display_data"
    },
    {
     "data": {
      "application/vnd.jupyter.widget-view+json": {
       "model_id": "",
       "version_major": 2,
       "version_minor": 0
      },
      "text/plain": [
       "Evaluating:   0%|          | 0/3 [00:00<?, ?it/s]"
      ]
     },
     "metadata": {},
     "output_type": "display_data"
    },
    {
     "name": "stdout",
     "output_type": "stream",
     "text": [
      "Precision: 0.5897 Recall: 0.5700, Accuracy: 0.5698: ,f1_score: 0.5735\n",
      "Classification Report:\n",
      "               precision    recall  f1-score   support\n",
      "\n",
      "           0       0.56      0.61      0.58        23\n",
      "           1       0.69      0.50      0.58        22\n",
      "           2       0.67      0.60      0.63        20\n",
      "           3       0.44      0.57      0.50        21\n",
      "\n",
      "    accuracy                           0.57        86\n",
      "   macro avg       0.59      0.57      0.57        86\n",
      "weighted avg       0.59      0.57      0.57        86\n",
      "\n",
      "Epoch: 48 | Epoch Time: 0m 2s\n",
      "\tTrain Loss: 0.966 | Train Acc: 69.94%\n",
      "\t Val. Loss: 1.021 |  Val. Acc: 57.20%\n"
     ]
    },
    {
     "data": {
      "application/vnd.jupyter.widget-view+json": {
       "model_id": "",
       "version_major": 2,
       "version_minor": 0
      },
      "text/plain": [
       "Training:   0%|          | 0/10 [00:00<?, ?it/s]"
      ]
     },
     "metadata": {},
     "output_type": "display_data"
    },
    {
     "data": {
      "application/vnd.jupyter.widget-view+json": {
       "model_id": "",
       "version_major": 2,
       "version_minor": 0
      },
      "text/plain": [
       "Evaluating:   0%|          | 0/3 [00:00<?, ?it/s]"
      ]
     },
     "metadata": {},
     "output_type": "display_data"
    },
    {
     "name": "stdout",
     "output_type": "stream",
     "text": [
      "Precision: 0.6634 Recall: 0.6400, Accuracy: 0.6395: ,f1_score: 0.6432\n",
      "Classification Report:\n",
      "               precision    recall  f1-score   support\n",
      "\n",
      "           0       0.55      0.70      0.62        23\n",
      "           1       0.80      0.55      0.65        22\n",
      "           2       0.74      0.70      0.72        20\n",
      "           3       0.57      0.62      0.59        21\n",
      "\n",
      "    accuracy                           0.64        86\n",
      "   macro avg       0.66      0.64      0.64        86\n",
      "weighted avg       0.66      0.64      0.64        86\n",
      "\n",
      "Epoch: 49 | Epoch Time: 0m 2s\n",
      "\tTrain Loss: 0.983 | Train Acc: 65.31%\n",
      "\t Val. Loss: 0.999 |  Val. Acc: 63.45%\n"
     ]
    },
    {
     "data": {
      "application/vnd.jupyter.widget-view+json": {
       "model_id": "",
       "version_major": 2,
       "version_minor": 0
      },
      "text/plain": [
       "Training:   0%|          | 0/10 [00:00<?, ?it/s]"
      ]
     },
     "metadata": {},
     "output_type": "display_data"
    },
    {
     "data": {
      "application/vnd.jupyter.widget-view+json": {
       "model_id": "",
       "version_major": 2,
       "version_minor": 0
      },
      "text/plain": [
       "Evaluating:   0%|          | 0/3 [00:00<?, ?it/s]"
      ]
     },
     "metadata": {},
     "output_type": "display_data"
    },
    {
     "name": "stdout",
     "output_type": "stream",
     "text": [
      "Precision: 0.7431 Recall: 0.7321, Accuracy: 0.7326: ,f1_score: 0.7358\n",
      "Classification Report:\n",
      "               precision    recall  f1-score   support\n",
      "\n",
      "           0       0.63      0.74      0.68        23\n",
      "           1       0.81      0.77      0.79        22\n",
      "           2       0.83      0.75      0.79        20\n",
      "           3       0.70      0.67      0.68        21\n",
      "\n",
      "    accuracy                           0.73        86\n",
      "   macro avg       0.74      0.73      0.74        86\n",
      "weighted avg       0.74      0.73      0.73        86\n",
      "\n",
      "Epoch: 50 | Epoch Time: 0m 2s\n",
      "\tTrain Loss: 0.972 | Train Acc: 72.06%\n",
      "\t Val. Loss: 0.945 |  Val. Acc: 72.73%\n"
     ]
    },
    {
     "data": {
      "application/vnd.jupyter.widget-view+json": {
       "model_id": "",
       "version_major": 2,
       "version_minor": 0
      },
      "text/plain": [
       "Training:   0%|          | 0/10 [00:00<?, ?it/s]"
      ]
     },
     "metadata": {},
     "output_type": "display_data"
    },
    {
     "data": {
      "application/vnd.jupyter.widget-view+json": {
       "model_id": "",
       "version_major": 2,
       "version_minor": 0
      },
      "text/plain": [
       "Evaluating:   0%|          | 0/3 [00:00<?, ?it/s]"
      ]
     },
     "metadata": {},
     "output_type": "display_data"
    },
    {
     "name": "stdout",
     "output_type": "stream",
     "text": [
      "Precision: 0.6831 Recall: 0.6754, Accuracy: 0.6744: ,f1_score: 0.6725\n",
      "Classification Report:\n",
      "               precision    recall  f1-score   support\n",
      "\n",
      "           0       0.71      0.74      0.72        23\n",
      "           1       0.81      0.59      0.68        22\n",
      "           2       0.64      0.80      0.71        20\n",
      "           3       0.57      0.57      0.57        21\n",
      "\n",
      "    accuracy                           0.67        86\n",
      "   macro avg       0.68      0.68      0.67        86\n",
      "weighted avg       0.69      0.67      0.67        86\n",
      "\n",
      "Epoch: 51 | Epoch Time: 0m 2s\n",
      "\tTrain Loss: 0.969 | Train Acc: 69.81%\n",
      "\t Val. Loss: 0.988 |  Val. Acc: 66.57%\n"
     ]
    },
    {
     "data": {
      "application/vnd.jupyter.widget-view+json": {
       "model_id": "",
       "version_major": 2,
       "version_minor": 0
      },
      "text/plain": [
       "Training:   0%|          | 0/10 [00:00<?, ?it/s]"
      ]
     },
     "metadata": {},
     "output_type": "display_data"
    },
    {
     "data": {
      "application/vnd.jupyter.widget-view+json": {
       "model_id": "",
       "version_major": 2,
       "version_minor": 0
      },
      "text/plain": [
       "Evaluating:   0%|          | 0/3 [00:00<?, ?it/s]"
      ]
     },
     "metadata": {},
     "output_type": "display_data"
    },
    {
     "name": "stdout",
     "output_type": "stream",
     "text": [
      "Precision: 0.6940 Recall: 0.6872, Accuracy: 0.6860: ,f1_score: 0.6868\n",
      "Classification Report:\n",
      "               precision    recall  f1-score   support\n",
      "\n",
      "           0       0.62      0.70      0.65        23\n",
      "           1       0.83      0.68      0.75        22\n",
      "           2       0.70      0.80      0.74        20\n",
      "           3       0.63      0.57      0.60        21\n",
      "\n",
      "    accuracy                           0.69        86\n",
      "   macro avg       0.69      0.69      0.69        86\n",
      "weighted avg       0.69      0.69      0.69        86\n",
      "\n",
      "Epoch: 52 | Epoch Time: 0m 2s\n",
      "\tTrain Loss: 0.942 | Train Acc: 72.94%\n",
      "\t Val. Loss: 0.944 |  Val. Acc: 67.61%\n"
     ]
    },
    {
     "data": {
      "application/vnd.jupyter.widget-view+json": {
       "model_id": "",
       "version_major": 2,
       "version_minor": 0
      },
      "text/plain": [
       "Training:   0%|          | 0/10 [00:00<?, ?it/s]"
      ]
     },
     "metadata": {},
     "output_type": "display_data"
    },
    {
     "data": {
      "application/vnd.jupyter.widget-view+json": {
       "model_id": "",
       "version_major": 2,
       "version_minor": 0
      },
      "text/plain": [
       "Evaluating:   0%|          | 0/3 [00:00<?, ?it/s]"
      ]
     },
     "metadata": {},
     "output_type": "display_data"
    },
    {
     "name": "stdout",
     "output_type": "stream",
     "text": [
      "Precision: 0.7185 Recall: 0.7109, Accuracy: 0.7093: ,f1_score: 0.7123\n",
      "Classification Report:\n",
      "               precision    recall  f1-score   support\n",
      "\n",
      "           0       0.68      0.65      0.67        23\n",
      "           1       0.84      0.73      0.78        22\n",
      "           2       0.75      0.75      0.75        20\n",
      "           3       0.60      0.71      0.65        21\n",
      "\n",
      "    accuracy                           0.71        86\n",
      "   macro avg       0.72      0.71      0.71        86\n",
      "weighted avg       0.72      0.71      0.71        86\n",
      "\n",
      "Epoch: 53 | Epoch Time: 0m 2s\n",
      "\tTrain Loss: 0.952 | Train Acc: 71.63%\n",
      "\t Val. Loss: 0.940 |  Val. Acc: 71.12%\n"
     ]
    },
    {
     "data": {
      "application/vnd.jupyter.widget-view+json": {
       "model_id": "",
       "version_major": 2,
       "version_minor": 0
      },
      "text/plain": [
       "Training:   0%|          | 0/10 [00:00<?, ?it/s]"
      ]
     },
     "metadata": {},
     "output_type": "display_data"
    },
    {
     "data": {
      "application/vnd.jupyter.widget-view+json": {
       "model_id": "",
       "version_major": 2,
       "version_minor": 0
      },
      "text/plain": [
       "Evaluating:   0%|          | 0/3 [00:00<?, ?it/s]"
      ]
     },
     "metadata": {},
     "output_type": "display_data"
    },
    {
     "name": "stdout",
     "output_type": "stream",
     "text": [
      "Precision: 0.7326 Recall: 0.7272, Accuracy: 0.7209: ,f1_score: 0.7209\n",
      "Classification Report:\n",
      "               precision    recall  f1-score   support\n",
      "\n",
      "           0       0.72      0.57      0.63        23\n",
      "           1       0.78      0.64      0.70        22\n",
      "           2       0.81      0.85      0.83        20\n",
      "           3       0.62      0.86      0.72        21\n",
      "\n",
      "    accuracy                           0.72        86\n",
      "   macro avg       0.73      0.73      0.72        86\n",
      "weighted avg       0.73      0.72      0.72        86\n",
      "\n",
      "Epoch: 54 | Epoch Time: 0m 2s\n",
      "\tTrain Loss: 0.974 | Train Acc: 67.81%\n",
      "\t Val. Loss: 0.958 |  Val. Acc: 73.58%\n"
     ]
    },
    {
     "data": {
      "application/vnd.jupyter.widget-view+json": {
       "model_id": "",
       "version_major": 2,
       "version_minor": 0
      },
      "text/plain": [
       "Training:   0%|          | 0/10 [00:00<?, ?it/s]"
      ]
     },
     "metadata": {},
     "output_type": "display_data"
    },
    {
     "data": {
      "application/vnd.jupyter.widget-view+json": {
       "model_id": "",
       "version_major": 2,
       "version_minor": 0
      },
      "text/plain": [
       "Evaluating:   0%|          | 0/3 [00:00<?, ?it/s]"
      ]
     },
     "metadata": {},
     "output_type": "display_data"
    },
    {
     "name": "stdout",
     "output_type": "stream",
     "text": [
      "Precision: 0.7287 Recall: 0.7229, Accuracy: 0.7209: ,f1_score: 0.7209\n",
      "Classification Report:\n",
      "               precision    recall  f1-score   support\n",
      "\n",
      "           0       0.73      0.70      0.71        23\n",
      "           1       0.82      0.64      0.72        22\n",
      "           2       0.62      0.75      0.68        20\n",
      "           3       0.74      0.81      0.77        21\n",
      "\n",
      "    accuracy                           0.72        86\n",
      "   macro avg       0.73      0.72      0.72        86\n",
      "weighted avg       0.73      0.72      0.72        86\n",
      "\n",
      "Epoch: 55 | Epoch Time: 0m 2s\n",
      "\tTrain Loss: 0.932 | Train Acc: 73.69%\n",
      "\t Val. Loss: 0.930 |  Val. Acc: 73.11%\n"
     ]
    },
    {
     "data": {
      "application/vnd.jupyter.widget-view+json": {
       "model_id": "",
       "version_major": 2,
       "version_minor": 0
      },
      "text/plain": [
       "Training:   0%|          | 0/10 [00:00<?, ?it/s]"
      ]
     },
     "metadata": {},
     "output_type": "display_data"
    },
    {
     "data": {
      "application/vnd.jupyter.widget-view+json": {
       "model_id": "",
       "version_major": 2,
       "version_minor": 0
      },
      "text/plain": [
       "Evaluating:   0%|          | 0/3 [00:00<?, ?it/s]"
      ]
     },
     "metadata": {},
     "output_type": "display_data"
    },
    {
     "name": "stdout",
     "output_type": "stream",
     "text": [
      "Precision: 0.6872 Recall: 0.6802, Accuracy: 0.6744: ,f1_score: 0.6728\n",
      "Classification Report:\n",
      "               precision    recall  f1-score   support\n",
      "\n",
      "           0       0.61      0.61      0.61        23\n",
      "           1       0.79      0.50      0.61        22\n",
      "           2       0.74      0.85      0.79        20\n",
      "           3       0.62      0.76      0.68        21\n",
      "\n",
      "    accuracy                           0.67        86\n",
      "   macro avg       0.69      0.68      0.67        86\n",
      "weighted avg       0.69      0.67      0.67        86\n",
      "\n",
      "Epoch: 56 | Epoch Time: 0m 2s\n",
      "\tTrain Loss: 0.920 | Train Acc: 74.56%\n",
      "\t Val. Loss: 0.969 |  Val. Acc: 68.47%\n"
     ]
    },
    {
     "data": {
      "application/vnd.jupyter.widget-view+json": {
       "model_id": "",
       "version_major": 2,
       "version_minor": 0
      },
      "text/plain": [
       "Training:   0%|          | 0/10 [00:00<?, ?it/s]"
      ]
     },
     "metadata": {},
     "output_type": "display_data"
    },
    {
     "data": {
      "application/vnd.jupyter.widget-view+json": {
       "model_id": "",
       "version_major": 2,
       "version_minor": 0
      },
      "text/plain": [
       "Evaluating:   0%|          | 0/3 [00:00<?, ?it/s]"
      ]
     },
     "metadata": {},
     "output_type": "display_data"
    },
    {
     "name": "stdout",
     "output_type": "stream",
     "text": [
      "Precision: 0.7118 Recall: 0.6922, Accuracy: 0.6860: ,f1_score: 0.6724\n",
      "Classification Report:\n",
      "               precision    recall  f1-score   support\n",
      "\n",
      "           0       0.73      0.70      0.71        23\n",
      "           1       0.80      0.36      0.50        22\n",
      "           2       0.58      0.90      0.71        20\n",
      "           3       0.74      0.81      0.77        21\n",
      "\n",
      "    accuracy                           0.69        86\n",
      "   macro avg       0.71      0.69      0.67        86\n",
      "weighted avg       0.71      0.69      0.67        86\n",
      "\n",
      "Epoch: 57 | Epoch Time: 0m 2s\n",
      "\tTrain Loss: 0.906 | Train Acc: 74.38%\n",
      "\t Val. Loss: 0.951 |  Val. Acc: 69.98%\n"
     ]
    },
    {
     "data": {
      "application/vnd.jupyter.widget-view+json": {
       "model_id": "",
       "version_major": 2,
       "version_minor": 0
      },
      "text/plain": [
       "Training:   0%|          | 0/10 [00:00<?, ?it/s]"
      ]
     },
     "metadata": {},
     "output_type": "display_data"
    },
    {
     "data": {
      "application/vnd.jupyter.widget-view+json": {
       "model_id": "",
       "version_major": 2,
       "version_minor": 0
      },
      "text/plain": [
       "Evaluating:   0%|          | 0/3 [00:00<?, ?it/s]"
      ]
     },
     "metadata": {},
     "output_type": "display_data"
    },
    {
     "name": "stdout",
     "output_type": "stream",
     "text": [
      "Precision: 0.7458 Recall: 0.7267, Accuracy: 0.7209: ,f1_score: 0.7226\n",
      "Classification Report:\n",
      "               precision    recall  f1-score   support\n",
      "\n",
      "           0       0.74      0.61      0.67        23\n",
      "           1       0.82      0.64      0.72        22\n",
      "           2       0.58      0.90      0.71        20\n",
      "           3       0.84      0.76      0.80        21\n",
      "\n",
      "    accuracy                           0.72        86\n",
      "   macro avg       0.75      0.73      0.72        86\n",
      "weighted avg       0.75      0.72      0.72        86\n",
      "\n",
      "Epoch: 58 | Epoch Time: 0m 2s\n",
      "\tTrain Loss: 0.941 | Train Acc: 70.44%\n",
      "\t Val. Loss: 0.953 |  Val. Acc: 72.63%\n"
     ]
    },
    {
     "data": {
      "application/vnd.jupyter.widget-view+json": {
       "model_id": "",
       "version_major": 2,
       "version_minor": 0
      },
      "text/plain": [
       "Training:   0%|          | 0/10 [00:00<?, ?it/s]"
      ]
     },
     "metadata": {},
     "output_type": "display_data"
    },
    {
     "data": {
      "application/vnd.jupyter.widget-view+json": {
       "model_id": "",
       "version_major": 2,
       "version_minor": 0
      },
      "text/plain": [
       "Evaluating:   0%|          | 0/3 [00:00<?, ?it/s]"
      ]
     },
     "metadata": {},
     "output_type": "display_data"
    },
    {
     "name": "stdout",
     "output_type": "stream",
     "text": [
      "Precision: 0.6604 Recall: 0.6550, Accuracy: 0.6512: ,f1_score: 0.6511\n",
      "Classification Report:\n",
      "               precision    recall  f1-score   support\n",
      "\n",
      "           0       0.67      0.52      0.59        23\n",
      "           1       0.74      0.64      0.68        22\n",
      "           2       0.67      0.70      0.68        20\n",
      "           3       0.57      0.76      0.65        21\n",
      "\n",
      "    accuracy                           0.65        86\n",
      "   macro avg       0.66      0.66      0.65        86\n",
      "weighted avg       0.66      0.65      0.65        86\n",
      "\n",
      "Epoch: 59 | Epoch Time: 0m 2s\n",
      "\tTrain Loss: 0.883 | Train Acc: 74.06%\n",
      "\t Val. Loss: 0.964 |  Val. Acc: 66.38%\n"
     ]
    },
    {
     "data": {
      "application/vnd.jupyter.widget-view+json": {
       "model_id": "",
       "version_major": 2,
       "version_minor": 0
      },
      "text/plain": [
       "Training:   0%|          | 0/10 [00:00<?, ?it/s]"
      ]
     },
     "metadata": {},
     "output_type": "display_data"
    },
    {
     "data": {
      "application/vnd.jupyter.widget-view+json": {
       "model_id": "",
       "version_major": 2,
       "version_minor": 0
      },
      "text/plain": [
       "Evaluating:   0%|          | 0/3 [00:00<?, ?it/s]"
      ]
     },
     "metadata": {},
     "output_type": "display_data"
    },
    {
     "name": "stdout",
     "output_type": "stream",
     "text": [
      "Precision: 0.7271 Recall: 0.7240, Accuracy: 0.7209: ,f1_score: 0.7228\n",
      "Classification Report:\n",
      "               precision    recall  f1-score   support\n",
      "\n",
      "           0       0.65      0.65      0.65        23\n",
      "           1       0.83      0.68      0.75        22\n",
      "           2       0.73      0.80      0.76        20\n",
      "           3       0.70      0.76      0.73        21\n",
      "\n",
      "    accuracy                           0.72        86\n",
      "   macro avg       0.73      0.72      0.72        86\n",
      "weighted avg       0.73      0.72      0.72        86\n",
      "\n",
      "Epoch: 60 | Epoch Time: 0m 2s\n",
      "\tTrain Loss: 0.915 | Train Acc: 69.81%\n",
      "\t Val. Loss: 0.893 |  Val. Acc: 72.63%\n"
     ]
    },
    {
     "data": {
      "application/vnd.jupyter.widget-view+json": {
       "model_id": "",
       "version_major": 2,
       "version_minor": 0
      },
      "text/plain": [
       "Training:   0%|          | 0/10 [00:00<?, ?it/s]"
      ]
     },
     "metadata": {},
     "output_type": "display_data"
    },
    {
     "data": {
      "application/vnd.jupyter.widget-view+json": {
       "model_id": "",
       "version_major": 2,
       "version_minor": 0
      },
      "text/plain": [
       "Evaluating:   0%|          | 0/3 [00:00<?, ?it/s]"
      ]
     },
     "metadata": {},
     "output_type": "display_data"
    },
    {
     "name": "stdout",
     "output_type": "stream",
     "text": [
      "Precision: 0.7488 Recall: 0.7472, Accuracy: 0.7442: ,f1_score: 0.7440\n",
      "Classification Report:\n",
      "               precision    recall  f1-score   support\n",
      "\n",
      "           0       0.79      0.65      0.71        23\n",
      "           1       0.80      0.73      0.76        22\n",
      "           2       0.67      0.80      0.73        20\n",
      "           3       0.74      0.81      0.77        21\n",
      "\n",
      "    accuracy                           0.74        86\n",
      "   macro avg       0.75      0.75      0.74        86\n",
      "weighted avg       0.75      0.74      0.74        86\n",
      "\n",
      "Epoch: 61 | Epoch Time: 0m 2s\n",
      "\tTrain Loss: 0.921 | Train Acc: 71.00%\n",
      "\t Val. Loss: 0.929 |  Val. Acc: 75.19%\n"
     ]
    },
    {
     "data": {
      "application/vnd.jupyter.widget-view+json": {
       "model_id": "",
       "version_major": 2,
       "version_minor": 0
      },
      "text/plain": [
       "Training:   0%|          | 0/10 [00:00<?, ?it/s]"
      ]
     },
     "metadata": {},
     "output_type": "display_data"
    },
    {
     "data": {
      "application/vnd.jupyter.widget-view+json": {
       "model_id": "",
       "version_major": 2,
       "version_minor": 0
      },
      "text/plain": [
       "Evaluating:   0%|          | 0/3 [00:00<?, ?it/s]"
      ]
     },
     "metadata": {},
     "output_type": "display_data"
    },
    {
     "name": "stdout",
     "output_type": "stream",
     "text": [
      "Precision: 0.7856 Recall: 0.7788, Accuracy: 0.7791: ,f1_score: 0.7795\n",
      "Classification Report:\n",
      "               precision    recall  f1-score   support\n",
      "\n",
      "           0       0.73      0.83      0.78        23\n",
      "           1       0.84      0.73      0.78        22\n",
      "           2       0.73      0.80      0.76        20\n",
      "           3       0.84      0.76      0.80        21\n",
      "\n",
      "    accuracy                           0.78        86\n",
      "   macro avg       0.79      0.78      0.78        86\n",
      "weighted avg       0.79      0.78      0.78        86\n",
      "\n",
      "Epoch: 62 | Epoch Time: 0m 2s\n",
      "\tTrain Loss: 0.905 | Train Acc: 71.63%\n",
      "\t Val. Loss: 0.885 |  Val. Acc: 77.84%\n"
     ]
    },
    {
     "data": {
      "application/vnd.jupyter.widget-view+json": {
       "model_id": "",
       "version_major": 2,
       "version_minor": 0
      },
      "text/plain": [
       "Training:   0%|          | 0/10 [00:00<?, ?it/s]"
      ]
     },
     "metadata": {},
     "output_type": "display_data"
    },
    {
     "data": {
      "application/vnd.jupyter.widget-view+json": {
       "model_id": "",
       "version_major": 2,
       "version_minor": 0
      },
      "text/plain": [
       "Evaluating:   0%|          | 0/3 [00:00<?, ?it/s]"
      ]
     },
     "metadata": {},
     "output_type": "display_data"
    },
    {
     "name": "stdout",
     "output_type": "stream",
     "text": [
      "Precision: 0.7844 Recall: 0.7669, Accuracy: 0.7674: ,f1_score: 0.7705\n",
      "Classification Report:\n",
      "               precision    recall  f1-score   support\n",
      "\n",
      "           0       0.66      0.83      0.73        23\n",
      "           1       0.80      0.73      0.76        22\n",
      "           2       0.80      0.80      0.80        20\n",
      "           3       0.88      0.71      0.79        21\n",
      "\n",
      "    accuracy                           0.77        86\n",
      "   macro avg       0.78      0.77      0.77        86\n",
      "weighted avg       0.78      0.77      0.77        86\n",
      "\n",
      "Epoch: 63 | Epoch Time: 0m 2s\n",
      "\tTrain Loss: 0.904 | Train Acc: 72.13%\n",
      "\t Val. Loss: 0.870 |  Val. Acc: 76.33%\n"
     ]
    },
    {
     "data": {
      "application/vnd.jupyter.widget-view+json": {
       "model_id": "",
       "version_major": 2,
       "version_minor": 0
      },
      "text/plain": [
       "Training:   0%|          | 0/10 [00:00<?, ?it/s]"
      ]
     },
     "metadata": {},
     "output_type": "display_data"
    },
    {
     "data": {
      "application/vnd.jupyter.widget-view+json": {
       "model_id": "",
       "version_major": 2,
       "version_minor": 0
      },
      "text/plain": [
       "Evaluating:   0%|          | 0/3 [00:00<?, ?it/s]"
      ]
     },
     "metadata": {},
     "output_type": "display_data"
    },
    {
     "name": "stdout",
     "output_type": "stream",
     "text": [
      "Precision: 0.7401 Recall: 0.7332, Accuracy: 0.7326: ,f1_score: 0.7350\n",
      "Classification Report:\n",
      "               precision    recall  f1-score   support\n",
      "\n",
      "           0       0.65      0.74      0.69        23\n",
      "           1       0.75      0.68      0.71        22\n",
      "           2       0.71      0.75      0.73        20\n",
      "           3       0.84      0.76      0.80        21\n",
      "\n",
      "    accuracy                           0.73        86\n",
      "   macro avg       0.74      0.73      0.73        86\n",
      "weighted avg       0.74      0.73      0.73        86\n",
      "\n",
      "Epoch: 64 | Epoch Time: 0m 2s\n",
      "\tTrain Loss: 0.929 | Train Acc: 71.06%\n",
      "\t Val. Loss: 0.904 |  Val. Acc: 73.67%\n"
     ]
    },
    {
     "data": {
      "application/vnd.jupyter.widget-view+json": {
       "model_id": "",
       "version_major": 2,
       "version_minor": 0
      },
      "text/plain": [
       "Training:   0%|          | 0/10 [00:00<?, ?it/s]"
      ]
     },
     "metadata": {},
     "output_type": "display_data"
    },
    {
     "data": {
      "application/vnd.jupyter.widget-view+json": {
       "model_id": "",
       "version_major": 2,
       "version_minor": 0
      },
      "text/plain": [
       "Evaluating:   0%|          | 0/3 [00:00<?, ?it/s]"
      ]
     },
     "metadata": {},
     "output_type": "display_data"
    },
    {
     "name": "stdout",
     "output_type": "stream",
     "text": [
      "Precision: 0.7393 Recall: 0.7320, Accuracy: 0.7326: ,f1_score: 0.7340\n",
      "Classification Report:\n",
      "               precision    recall  f1-score   support\n",
      "\n",
      "           0       0.64      0.70      0.67        23\n",
      "           1       0.75      0.82      0.78        22\n",
      "           2       0.78      0.70      0.74        20\n",
      "           3       0.79      0.71      0.75        21\n",
      "\n",
      "    accuracy                           0.73        86\n",
      "   macro avg       0.74      0.73      0.73        86\n",
      "weighted avg       0.74      0.73      0.73        86\n",
      "\n",
      "Epoch: 65 | Epoch Time: 0m 2s\n",
      "\tTrain Loss: 0.910 | Train Acc: 71.69%\n",
      "\t Val. Loss: 0.898 |  Val. Acc: 73.20%\n"
     ]
    },
    {
     "data": {
      "application/vnd.jupyter.widget-view+json": {
       "model_id": "",
       "version_major": 2,
       "version_minor": 0
      },
      "text/plain": [
       "Training:   0%|          | 0/10 [00:00<?, ?it/s]"
      ]
     },
     "metadata": {},
     "output_type": "display_data"
    },
    {
     "data": {
      "application/vnd.jupyter.widget-view+json": {
       "model_id": "",
       "version_major": 2,
       "version_minor": 0
      },
      "text/plain": [
       "Evaluating:   0%|          | 0/3 [00:00<?, ?it/s]"
      ]
     },
     "metadata": {},
     "output_type": "display_data"
    },
    {
     "name": "stdout",
     "output_type": "stream",
     "text": [
      "Precision: 0.6972 Recall: 0.6973, Accuracy: 0.6977: ,f1_score: 0.6967\n",
      "Classification Report:\n",
      "               precision    recall  f1-score   support\n",
      "\n",
      "           0       0.73      0.70      0.71        23\n",
      "           1       0.68      0.68      0.68        22\n",
      "           2       0.68      0.65      0.67        20\n",
      "           3       0.70      0.76      0.73        21\n",
      "\n",
      "    accuracy                           0.70        86\n",
      "   macro avg       0.70      0.70      0.70        86\n",
      "weighted avg       0.70      0.70      0.70        86\n",
      "\n",
      "Epoch: 66 | Epoch Time: 0m 2s\n",
      "\tTrain Loss: 0.882 | Train Acc: 72.31%\n",
      "\t Val. Loss: 0.914 |  Val. Acc: 70.55%\n"
     ]
    },
    {
     "data": {
      "application/vnd.jupyter.widget-view+json": {
       "model_id": "",
       "version_major": 2,
       "version_minor": 0
      },
      "text/plain": [
       "Training:   0%|          | 0/10 [00:00<?, ?it/s]"
      ]
     },
     "metadata": {},
     "output_type": "display_data"
    },
    {
     "data": {
      "application/vnd.jupyter.widget-view+json": {
       "model_id": "",
       "version_major": 2,
       "version_minor": 0
      },
      "text/plain": [
       "Evaluating:   0%|          | 0/3 [00:00<?, ?it/s]"
      ]
     },
     "metadata": {},
     "output_type": "display_data"
    },
    {
     "name": "stdout",
     "output_type": "stream",
     "text": [
      "Precision: 0.7669 Recall: 0.7446, Accuracy: 0.7442: ,f1_score: 0.7505\n",
      "Classification Report:\n",
      "               precision    recall  f1-score   support\n",
      "\n",
      "           0       0.63      0.74      0.68        23\n",
      "           1       0.89      0.73      0.80        22\n",
      "           2       0.88      0.75      0.81        20\n",
      "           3       0.67      0.76      0.71        21\n",
      "\n",
      "    accuracy                           0.74        86\n",
      "   macro avg       0.77      0.74      0.75        86\n",
      "weighted avg       0.76      0.74      0.75        86\n",
      "\n",
      "Epoch: 67 | Epoch Time: 0m 2s\n",
      "\tTrain Loss: 0.885 | Train Acc: 71.88%\n",
      "\t Val. Loss: 0.864 |  Val. Acc: 74.72%\n"
     ]
    },
    {
     "data": {
      "application/vnd.jupyter.widget-view+json": {
       "model_id": "",
       "version_major": 2,
       "version_minor": 0
      },
      "text/plain": [
       "Training:   0%|          | 0/10 [00:00<?, ?it/s]"
      ]
     },
     "metadata": {},
     "output_type": "display_data"
    },
    {
     "data": {
      "application/vnd.jupyter.widget-view+json": {
       "model_id": "",
       "version_major": 2,
       "version_minor": 0
      },
      "text/plain": [
       "Evaluating:   0%|          | 0/3 [00:00<?, ?it/s]"
      ]
     },
     "metadata": {},
     "output_type": "display_data"
    },
    {
     "name": "stdout",
     "output_type": "stream",
     "text": [
      "Precision: 0.7606 Recall: 0.7577, Accuracy: 0.7558: ,f1_score: 0.7574\n",
      "Classification Report:\n",
      "               precision    recall  f1-score   support\n",
      "\n",
      "           0       0.68      0.74      0.71        23\n",
      "           1       0.80      0.73      0.76        22\n",
      "           2       0.77      0.85      0.81        20\n",
      "           3       0.79      0.71      0.75        21\n",
      "\n",
      "    accuracy                           0.76        86\n",
      "   macro avg       0.76      0.76      0.76        86\n",
      "weighted avg       0.76      0.76      0.76        86\n",
      "\n",
      "Epoch: 68 | Epoch Time: 0m 2s\n",
      "\tTrain Loss: 0.897 | Train Acc: 70.31%\n",
      "\t Val. Loss: 0.874 |  Val. Acc: 75.28%\n"
     ]
    },
    {
     "data": {
      "application/vnd.jupyter.widget-view+json": {
       "model_id": "",
       "version_major": 2,
       "version_minor": 0
      },
      "text/plain": [
       "Training:   0%|          | 0/10 [00:00<?, ?it/s]"
      ]
     },
     "metadata": {},
     "output_type": "display_data"
    },
    {
     "data": {
      "application/vnd.jupyter.widget-view+json": {
       "model_id": "",
       "version_major": 2,
       "version_minor": 0
      },
      "text/plain": [
       "Evaluating:   0%|          | 0/3 [00:00<?, ?it/s]"
      ]
     },
     "metadata": {},
     "output_type": "display_data"
    },
    {
     "name": "stdout",
     "output_type": "stream",
     "text": [
      "Precision: 0.7620 Recall: 0.7543, Accuracy: 0.7558: ,f1_score: 0.7562\n",
      "Classification Report:\n",
      "               precision    recall  f1-score   support\n",
      "\n",
      "           0       0.78      0.78      0.78        23\n",
      "           1       0.68      0.77      0.72        22\n",
      "           2       0.82      0.70      0.76        20\n",
      "           3       0.76      0.76      0.76        21\n",
      "\n",
      "    accuracy                           0.76        86\n",
      "   macro avg       0.76      0.75      0.76        86\n",
      "weighted avg       0.76      0.76      0.76        86\n",
      "\n",
      "Epoch: 69 | Epoch Time: 0m 2s\n",
      "\tTrain Loss: 0.858 | Train Acc: 72.94%\n",
      "\t Val. Loss: 0.887 |  Val. Acc: 75.76%\n"
     ]
    },
    {
     "data": {
      "application/vnd.jupyter.widget-view+json": {
       "model_id": "",
       "version_major": 2,
       "version_minor": 0
      },
      "text/plain": [
       "Training:   0%|          | 0/10 [00:00<?, ?it/s]"
      ]
     },
     "metadata": {},
     "output_type": "display_data"
    },
    {
     "data": {
      "application/vnd.jupyter.widget-view+json": {
       "model_id": "",
       "version_major": 2,
       "version_minor": 0
      },
      "text/plain": [
       "Evaluating:   0%|          | 0/3 [00:00<?, ?it/s]"
      ]
     },
     "metadata": {},
     "output_type": "display_data"
    },
    {
     "name": "stdout",
     "output_type": "stream",
     "text": [
      "Precision: 0.7250 Recall: 0.7225, Accuracy: 0.7209: ,f1_score: 0.7181\n",
      "Classification Report:\n",
      "               precision    recall  f1-score   support\n",
      "\n",
      "           0       0.69      0.78      0.73        23\n",
      "           1       0.75      0.55      0.63        22\n",
      "           2       0.70      0.80      0.74        20\n",
      "           3       0.76      0.76      0.76        21\n",
      "\n",
      "    accuracy                           0.72        86\n",
      "   macro avg       0.72      0.72      0.72        86\n",
      "weighted avg       0.72      0.72      0.72        86\n",
      "\n",
      "Epoch: 70 | Epoch Time: 0m 2s\n",
      "\tTrain Loss: 0.897 | Train Acc: 73.44%\n",
      "\t Val. Loss: 0.878 |  Val. Acc: 72.63%\n"
     ]
    },
    {
     "data": {
      "application/vnd.jupyter.widget-view+json": {
       "model_id": "",
       "version_major": 2,
       "version_minor": 0
      },
      "text/plain": [
       "Training:   0%|          | 0/10 [00:00<?, ?it/s]"
      ]
     },
     "metadata": {},
     "output_type": "display_data"
    },
    {
     "data": {
      "application/vnd.jupyter.widget-view+json": {
       "model_id": "",
       "version_major": 2,
       "version_minor": 0
      },
      "text/plain": [
       "Evaluating:   0%|          | 0/3 [00:00<?, ?it/s]"
      ]
     },
     "metadata": {},
     "output_type": "display_data"
    },
    {
     "name": "stdout",
     "output_type": "stream",
     "text": [
      "Precision: 0.7362 Recall: 0.7241, Accuracy: 0.7209: ,f1_score: 0.7191\n",
      "Classification Report:\n",
      "               precision    recall  f1-score   support\n",
      "\n",
      "           0       0.71      0.74      0.72        23\n",
      "           1       0.86      0.55      0.67        22\n",
      "           2       0.74      0.85      0.79        20\n",
      "           3       0.64      0.76      0.70        21\n",
      "\n",
      "    accuracy                           0.72        86\n",
      "   macro avg       0.74      0.72      0.72        86\n",
      "weighted avg       0.74      0.72      0.72        86\n",
      "\n",
      "Epoch: 71 | Epoch Time: 0m 2s\n",
      "\tTrain Loss: 0.872 | Train Acc: 75.62%\n",
      "\t Val. Loss: 0.875 |  Val. Acc: 72.63%\n"
     ]
    },
    {
     "data": {
      "application/vnd.jupyter.widget-view+json": {
       "model_id": "",
       "version_major": 2,
       "version_minor": 0
      },
      "text/plain": [
       "Training:   0%|          | 0/10 [00:00<?, ?it/s]"
      ]
     },
     "metadata": {},
     "output_type": "display_data"
    },
    {
     "data": {
      "application/vnd.jupyter.widget-view+json": {
       "model_id": "",
       "version_major": 2,
       "version_minor": 0
      },
      "text/plain": [
       "Evaluating:   0%|          | 0/3 [00:00<?, ?it/s]"
      ]
     },
     "metadata": {},
     "output_type": "display_data"
    },
    {
     "name": "stdout",
     "output_type": "stream",
     "text": [
      "Precision: 0.7020 Recall: 0.6767, Accuracy: 0.6744: ,f1_score: 0.6710\n",
      "Classification Report:\n",
      "               precision    recall  f1-score   support\n",
      "\n",
      "           0       0.68      0.65      0.67        23\n",
      "           1       0.79      0.50      0.61        22\n",
      "           2       0.76      0.65      0.70        20\n",
      "           3       0.58      0.90      0.70        21\n",
      "\n",
      "    accuracy                           0.67        86\n",
      "   macro avg       0.70      0.68      0.67        86\n",
      "weighted avg       0.70      0.67      0.67        86\n",
      "\n",
      "Epoch: 72 | Epoch Time: 0m 2s\n",
      "\tTrain Loss: 0.870 | Train Acc: 72.81%\n",
      "\t Val. Loss: 0.859 |  Val. Acc: 69.89%\n"
     ]
    },
    {
     "data": {
      "application/vnd.jupyter.widget-view+json": {
       "model_id": "",
       "version_major": 2,
       "version_minor": 0
      },
      "text/plain": [
       "Training:   0%|          | 0/10 [00:00<?, ?it/s]"
      ]
     },
     "metadata": {},
     "output_type": "display_data"
    },
    {
     "data": {
      "application/vnd.jupyter.widget-view+json": {
       "model_id": "",
       "version_major": 2,
       "version_minor": 0
      },
      "text/plain": [
       "Evaluating:   0%|          | 0/3 [00:00<?, ?it/s]"
      ]
     },
     "metadata": {},
     "output_type": "display_data"
    },
    {
     "name": "stdout",
     "output_type": "stream",
     "text": [
      "Precision: 0.7511 Recall: 0.7213, Accuracy: 0.7209: ,f1_score: 0.7248\n",
      "Classification Report:\n",
      "               precision    recall  f1-score   support\n",
      "\n",
      "           0       0.74      0.74      0.74        23\n",
      "           1       0.88      0.64      0.74        22\n",
      "           2       0.82      0.70      0.76        20\n",
      "           3       0.57      0.81      0.67        21\n",
      "\n",
      "    accuracy                           0.72        86\n",
      "   macro avg       0.75      0.72      0.72        86\n",
      "weighted avg       0.75      0.72      0.72        86\n",
      "\n",
      "Epoch: 73 | Epoch Time: 0m 2s\n",
      "\tTrain Loss: 0.849 | Train Acc: 74.25%\n",
      "\t Val. Loss: 0.878 |  Val. Acc: 73.11%\n"
     ]
    },
    {
     "data": {
      "application/vnd.jupyter.widget-view+json": {
       "model_id": "",
       "version_major": 2,
       "version_minor": 0
      },
      "text/plain": [
       "Training:   0%|          | 0/10 [00:00<?, ?it/s]"
      ]
     },
     "metadata": {},
     "output_type": "display_data"
    },
    {
     "data": {
      "application/vnd.jupyter.widget-view+json": {
       "model_id": "",
       "version_major": 2,
       "version_minor": 0
      },
      "text/plain": [
       "Evaluating:   0%|          | 0/3 [00:00<?, ?it/s]"
      ]
     },
     "metadata": {},
     "output_type": "display_data"
    },
    {
     "name": "stdout",
     "output_type": "stream",
     "text": [
      "Precision: 0.7752 Recall: 0.7450, Accuracy: 0.7442: ,f1_score: 0.7482\n",
      "Classification Report:\n",
      "               precision    recall  f1-score   support\n",
      "\n",
      "           0       0.84      0.70      0.76        23\n",
      "           1       0.94      0.73      0.82        22\n",
      "           2       0.74      0.70      0.72        20\n",
      "           3       0.58      0.86      0.69        21\n",
      "\n",
      "    accuracy                           0.74        86\n",
      "   macro avg       0.78      0.75      0.75        86\n",
      "weighted avg       0.78      0.74      0.75        86\n",
      "\n",
      "Epoch: 74 | Epoch Time: 0m 2s\n",
      "\tTrain Loss: 0.857 | Train Acc: 73.25%\n",
      "\t Val. Loss: 0.899 |  Val. Acc: 75.66%\n"
     ]
    },
    {
     "data": {
      "application/vnd.jupyter.widget-view+json": {
       "model_id": "",
       "version_major": 2,
       "version_minor": 0
      },
      "text/plain": [
       "Training:   0%|          | 0/10 [00:00<?, ?it/s]"
      ]
     },
     "metadata": {},
     "output_type": "display_data"
    },
    {
     "data": {
      "application/vnd.jupyter.widget-view+json": {
       "model_id": "",
       "version_major": 2,
       "version_minor": 0
      },
      "text/plain": [
       "Evaluating:   0%|          | 0/3 [00:00<?, ?it/s]"
      ]
     },
     "metadata": {},
     "output_type": "display_data"
    },
    {
     "name": "stdout",
     "output_type": "stream",
     "text": [
      "Precision: 0.7760 Recall: 0.7630, Accuracy: 0.7558: ,f1_score: 0.7512\n",
      "Classification Report:\n",
      "               precision    recall  f1-score   support\n",
      "\n",
      "           0       0.88      0.61      0.72        23\n",
      "           1       0.81      0.59      0.68        22\n",
      "           2       0.75      0.90      0.82        20\n",
      "           3       0.67      0.95      0.78        21\n",
      "\n",
      "    accuracy                           0.76        86\n",
      "   macro avg       0.78      0.76      0.75        86\n",
      "weighted avg       0.78      0.76      0.75        86\n",
      "\n",
      "Epoch: 75 | Epoch Time: 0m 2s\n",
      "\tTrain Loss: 0.870 | Train Acc: 75.12%\n",
      "\t Val. Loss: 0.872 |  Val. Acc: 77.65%\n"
     ]
    },
    {
     "data": {
      "application/vnd.jupyter.widget-view+json": {
       "model_id": "",
       "version_major": 2,
       "version_minor": 0
      },
      "text/plain": [
       "Training:   0%|          | 0/10 [00:00<?, ?it/s]"
      ]
     },
     "metadata": {},
     "output_type": "display_data"
    },
    {
     "data": {
      "application/vnd.jupyter.widget-view+json": {
       "model_id": "",
       "version_major": 2,
       "version_minor": 0
      },
      "text/plain": [
       "Evaluating:   0%|          | 0/3 [00:00<?, ?it/s]"
      ]
     },
     "metadata": {},
     "output_type": "display_data"
    },
    {
     "name": "stdout",
     "output_type": "stream",
     "text": [
      "Precision: 0.7468 Recall: 0.7366, Accuracy: 0.7326: ,f1_score: 0.7325\n",
      "Classification Report:\n",
      "               precision    recall  f1-score   support\n",
      "\n",
      "           0       0.70      0.70      0.70        23\n",
      "           1       0.88      0.64      0.74        22\n",
      "           2       0.67      0.90      0.77        20\n",
      "           3       0.75      0.71      0.73        21\n",
      "\n",
      "    accuracy                           0.73        86\n",
      "   macro avg       0.75      0.74      0.73        86\n",
      "weighted avg       0.75      0.73      0.73        86\n",
      "\n",
      "Epoch: 76 | Epoch Time: 0m 2s\n",
      "\tTrain Loss: 0.829 | Train Acc: 74.75%\n",
      "\t Val. Loss: 0.850 |  Val. Acc: 73.20%\n"
     ]
    },
    {
     "data": {
      "application/vnd.jupyter.widget-view+json": {
       "model_id": "",
       "version_major": 2,
       "version_minor": 0
      },
      "text/plain": [
       "Training:   0%|          | 0/10 [00:00<?, ?it/s]"
      ]
     },
     "metadata": {},
     "output_type": "display_data"
    },
    {
     "data": {
      "application/vnd.jupyter.widget-view+json": {
       "model_id": "",
       "version_major": 2,
       "version_minor": 0
      },
      "text/plain": [
       "Evaluating:   0%|          | 0/3 [00:00<?, ?it/s]"
      ]
     },
     "metadata": {},
     "output_type": "display_data"
    },
    {
     "name": "stdout",
     "output_type": "stream",
     "text": [
      "Precision: 0.7357 Recall: 0.7355, Accuracy: 0.7326: ,f1_score: 0.7309\n",
      "Classification Report:\n",
      "               precision    recall  f1-score   support\n",
      "\n",
      "           0       0.71      0.74      0.72        23\n",
      "           1       0.78      0.64      0.70        22\n",
      "           2       0.72      0.90      0.80        20\n",
      "           3       0.74      0.67      0.70        21\n",
      "\n",
      "    accuracy                           0.73        86\n",
      "   macro avg       0.74      0.74      0.73        86\n",
      "weighted avg       0.74      0.73      0.73        86\n",
      "\n",
      "Epoch: 77 | Epoch Time: 0m 2s\n",
      "\tTrain Loss: 0.848 | Train Acc: 74.38%\n",
      "\t Val. Loss: 0.869 |  Val. Acc: 72.73%\n"
     ]
    },
    {
     "data": {
      "application/vnd.jupyter.widget-view+json": {
       "model_id": "",
       "version_major": 2,
       "version_minor": 0
      },
      "text/plain": [
       "Training:   0%|          | 0/10 [00:00<?, ?it/s]"
      ]
     },
     "metadata": {},
     "output_type": "display_data"
    },
    {
     "data": {
      "application/vnd.jupyter.widget-view+json": {
       "model_id": "",
       "version_major": 2,
       "version_minor": 0
      },
      "text/plain": [
       "Evaluating:   0%|          | 0/3 [00:00<?, ?it/s]"
      ]
     },
     "metadata": {},
     "output_type": "display_data"
    },
    {
     "name": "stdout",
     "output_type": "stream",
     "text": [
      "Precision: 0.7273 Recall: 0.7230, Accuracy: 0.7209: ,f1_score: 0.7209\n",
      "Classification Report:\n",
      "               precision    recall  f1-score   support\n",
      "\n",
      "           0       0.68      0.74      0.71        23\n",
      "           1       0.82      0.64      0.72        22\n",
      "           2       0.74      0.85      0.79        20\n",
      "           3       0.67      0.67      0.67        21\n",
      "\n",
      "    accuracy                           0.72        86\n",
      "   macro avg       0.73      0.72      0.72        86\n",
      "weighted avg       0.73      0.72      0.72        86\n",
      "\n",
      "Epoch: 78 | Epoch Time: 0m 2s\n",
      "\tTrain Loss: 0.863 | Train Acc: 74.00%\n",
      "\t Val. Loss: 0.859 |  Val. Acc: 71.69%\n"
     ]
    },
    {
     "data": {
      "application/vnd.jupyter.widget-view+json": {
       "model_id": "",
       "version_major": 2,
       "version_minor": 0
      },
      "text/plain": [
       "Training:   0%|          | 0/10 [00:00<?, ?it/s]"
      ]
     },
     "metadata": {},
     "output_type": "display_data"
    },
    {
     "data": {
      "application/vnd.jupyter.widget-view+json": {
       "model_id": "",
       "version_major": 2,
       "version_minor": 0
      },
      "text/plain": [
       "Evaluating:   0%|          | 0/3 [00:00<?, ?it/s]"
      ]
     },
     "metadata": {},
     "output_type": "display_data"
    },
    {
     "name": "stdout",
     "output_type": "stream",
     "text": [
      "Precision: 0.7769 Recall: 0.7620, Accuracy: 0.7558: ,f1_score: 0.7551\n",
      "Classification Report:\n",
      "               precision    recall  f1-score   support\n",
      "\n",
      "           0       0.79      0.65      0.71        23\n",
      "           1       0.93      0.64      0.76        22\n",
      "           2       0.73      0.95      0.83        20\n",
      "           3       0.65      0.81      0.72        21\n",
      "\n",
      "    accuracy                           0.76        86\n",
      "   macro avg       0.78      0.76      0.76        86\n",
      "weighted avg       0.78      0.76      0.75        86\n",
      "\n",
      "Epoch: 79 | Epoch Time: 0m 2s\n",
      "\tTrain Loss: 0.821 | Train Acc: 78.44%\n",
      "\t Val. Loss: 0.837 |  Val. Acc: 76.23%\n"
     ]
    },
    {
     "data": {
      "application/vnd.jupyter.widget-view+json": {
       "model_id": "",
       "version_major": 2,
       "version_minor": 0
      },
      "text/plain": [
       "Training:   0%|          | 0/10 [00:00<?, ?it/s]"
      ]
     },
     "metadata": {},
     "output_type": "display_data"
    },
    {
     "data": {
      "application/vnd.jupyter.widget-view+json": {
       "model_id": "",
       "version_major": 2,
       "version_minor": 0
      },
      "text/plain": [
       "Evaluating:   0%|          | 0/3 [00:00<?, ?it/s]"
      ]
     },
     "metadata": {},
     "output_type": "display_data"
    },
    {
     "name": "stdout",
     "output_type": "stream",
     "text": [
      "Precision: 0.7321 Recall: 0.7262, Accuracy: 0.7209: ,f1_score: 0.7242\n",
      "Classification Report:\n",
      "               precision    recall  f1-score   support\n",
      "\n",
      "           0       0.70      0.61      0.65        23\n",
      "           1       0.83      0.68      0.75        22\n",
      "           2       0.82      0.90      0.86        20\n",
      "           3       0.58      0.71      0.64        21\n",
      "\n",
      "    accuracy                           0.72        86\n",
      "   macro avg       0.73      0.73      0.72        86\n",
      "weighted avg       0.73      0.72      0.72        86\n",
      "\n",
      "Epoch: 80 | Epoch Time: 0m 2s\n",
      "\tTrain Loss: 0.797 | Train Acc: 80.19%\n",
      "\t Val. Loss: 0.861 |  Val. Acc: 72.16%\n"
     ]
    },
    {
     "data": {
      "application/vnd.jupyter.widget-view+json": {
       "model_id": "",
       "version_major": 2,
       "version_minor": 0
      },
      "text/plain": [
       "Training:   0%|          | 0/10 [00:00<?, ?it/s]"
      ]
     },
     "metadata": {},
     "output_type": "display_data"
    },
    {
     "data": {
      "application/vnd.jupyter.widget-view+json": {
       "model_id": "",
       "version_major": 2,
       "version_minor": 0
      },
      "text/plain": [
       "Evaluating:   0%|          | 0/3 [00:00<?, ?it/s]"
      ]
     },
     "metadata": {},
     "output_type": "display_data"
    },
    {
     "name": "stdout",
     "output_type": "stream",
     "text": [
      "Precision: 0.7014 Recall: 0.6758, Accuracy: 0.6744: ,f1_score: 0.6761\n",
      "Classification Report:\n",
      "               precision    recall  f1-score   support\n",
      "\n",
      "           0       0.64      0.70      0.67        23\n",
      "           1       0.86      0.55      0.67        22\n",
      "           2       0.74      0.70      0.72        20\n",
      "           3       0.57      0.76      0.65        21\n",
      "\n",
      "    accuracy                           0.67        86\n",
      "   macro avg       0.70      0.68      0.68        86\n",
      "weighted avg       0.70      0.67      0.68        86\n",
      "\n",
      "Epoch: 81 | Epoch Time: 0m 2s\n",
      "\tTrain Loss: 0.827 | Train Acc: 77.00%\n",
      "\t Val. Loss: 0.880 |  Val. Acc: 68.47%\n"
     ]
    },
    {
     "data": {
      "application/vnd.jupyter.widget-view+json": {
       "model_id": "",
       "version_major": 2,
       "version_minor": 0
      },
      "text/plain": [
       "Training:   0%|          | 0/10 [00:00<?, ?it/s]"
      ]
     },
     "metadata": {},
     "output_type": "display_data"
    },
    {
     "data": {
      "application/vnd.jupyter.widget-view+json": {
       "model_id": "",
       "version_major": 2,
       "version_minor": 0
      },
      "text/plain": [
       "Evaluating:   0%|          | 0/3 [00:00<?, ?it/s]"
      ]
     },
     "metadata": {},
     "output_type": "display_data"
    },
    {
     "name": "stdout",
     "output_type": "stream",
     "text": [
      "Precision: 0.7353 Recall: 0.6997, Accuracy: 0.6977: ,f1_score: 0.7013\n",
      "Classification Report:\n",
      "               precision    recall  f1-score   support\n",
      "\n",
      "           0       0.74      0.74      0.74        23\n",
      "           1       0.92      0.55      0.69        22\n",
      "           2       0.76      0.80      0.78        20\n",
      "           3       0.52      0.71      0.60        21\n",
      "\n",
      "    accuracy                           0.70        86\n",
      "   macro avg       0.74      0.70      0.70        86\n",
      "weighted avg       0.74      0.70      0.70        86\n",
      "\n",
      "Epoch: 82 | Epoch Time: 0m 2s\n",
      "\tTrain Loss: 0.808 | Train Acc: 73.81%\n",
      "\t Val. Loss: 0.877 |  Val. Acc: 70.08%\n"
     ]
    },
    {
     "data": {
      "application/vnd.jupyter.widget-view+json": {
       "model_id": "",
       "version_major": 2,
       "version_minor": 0
      },
      "text/plain": [
       "Training:   0%|          | 0/10 [00:00<?, ?it/s]"
      ]
     },
     "metadata": {},
     "output_type": "display_data"
    },
    {
     "data": {
      "application/vnd.jupyter.widget-view+json": {
       "model_id": "",
       "version_major": 2,
       "version_minor": 0
      },
      "text/plain": [
       "Evaluating:   0%|          | 0/3 [00:00<?, ?it/s]"
      ]
     },
     "metadata": {},
     "output_type": "display_data"
    },
    {
     "name": "stdout",
     "output_type": "stream",
     "text": [
      "Precision: 0.7336 Recall: 0.7252, Accuracy: 0.7209: ,f1_score: 0.7200\n",
      "Classification Report:\n",
      "               precision    recall  f1-score   support\n",
      "\n",
      "           0       0.70      0.70      0.70        23\n",
      "           1       0.87      0.59      0.70        22\n",
      "           2       0.72      0.90      0.80        20\n",
      "           3       0.65      0.71      0.68        21\n",
      "\n",
      "    accuracy                           0.72        86\n",
      "   macro avg       0.73      0.73      0.72        86\n",
      "weighted avg       0.73      0.72      0.72        86\n",
      "\n",
      "Epoch: 83 | Epoch Time: 0m 2s\n",
      "\tTrain Loss: 0.823 | Train Acc: 75.25%\n",
      "\t Val. Loss: 0.854 |  Val. Acc: 72.16%\n"
     ]
    },
    {
     "data": {
      "application/vnd.jupyter.widget-view+json": {
       "model_id": "",
       "version_major": 2,
       "version_minor": 0
      },
      "text/plain": [
       "Training:   0%|          | 0/10 [00:00<?, ?it/s]"
      ]
     },
     "metadata": {},
     "output_type": "display_data"
    },
    {
     "data": {
      "application/vnd.jupyter.widget-view+json": {
       "model_id": "",
       "version_major": 2,
       "version_minor": 0
      },
      "text/plain": [
       "Evaluating:   0%|          | 0/3 [00:00<?, ?it/s]"
      ]
     },
     "metadata": {},
     "output_type": "display_data"
    },
    {
     "name": "stdout",
     "output_type": "stream",
     "text": [
      "Precision: 0.7460 Recall: 0.7429, Accuracy: 0.7442: ,f1_score: 0.7435\n",
      "Classification Report:\n",
      "               precision    recall  f1-score   support\n",
      "\n",
      "           0       0.72      0.78      0.75        23\n",
      "           1       0.80      0.73      0.76        22\n",
      "           2       0.74      0.70      0.72        20\n",
      "           3       0.73      0.76      0.74        21\n",
      "\n",
      "    accuracy                           0.74        86\n",
      "   macro avg       0.75      0.74      0.74        86\n",
      "weighted avg       0.75      0.74      0.74        86\n",
      "\n",
      "Epoch: 84 | Epoch Time: 0m 2s\n",
      "\tTrain Loss: 0.829 | Train Acc: 77.56%\n",
      "\t Val. Loss: 0.825 |  Val. Acc: 74.72%\n"
     ]
    },
    {
     "data": {
      "application/vnd.jupyter.widget-view+json": {
       "model_id": "",
       "version_major": 2,
       "version_minor": 0
      },
      "text/plain": [
       "Training:   0%|          | 0/10 [00:00<?, ?it/s]"
      ]
     },
     "metadata": {},
     "output_type": "display_data"
    },
    {
     "data": {
      "application/vnd.jupyter.widget-view+json": {
       "model_id": "",
       "version_major": 2,
       "version_minor": 0
      },
      "text/plain": [
       "Evaluating:   0%|          | 0/3 [00:00<?, ?it/s]"
      ]
     },
     "metadata": {},
     "output_type": "display_data"
    },
    {
     "name": "stdout",
     "output_type": "stream",
     "text": [
      "Precision: 0.7713 Recall: 0.7690, Accuracy: 0.7674: ,f1_score: 0.7697\n",
      "Classification Report:\n",
      "               precision    recall  f1-score   support\n",
      "\n",
      "           0       0.71      0.74      0.72        23\n",
      "           1       0.76      0.73      0.74        22\n",
      "           2       0.84      0.80      0.82        20\n",
      "           3       0.77      0.81      0.79        21\n",
      "\n",
      "    accuracy                           0.77        86\n",
      "   macro avg       0.77      0.77      0.77        86\n",
      "weighted avg       0.77      0.77      0.77        86\n",
      "\n",
      "Epoch: 85 | Epoch Time: 0m 2s\n",
      "\tTrain Loss: 0.792 | Train Acc: 80.12%\n",
      "\t Val. Loss: 0.816 |  Val. Acc: 77.27%\n"
     ]
    },
    {
     "data": {
      "application/vnd.jupyter.widget-view+json": {
       "model_id": "",
       "version_major": 2,
       "version_minor": 0
      },
      "text/plain": [
       "Training:   0%|          | 0/10 [00:00<?, ?it/s]"
      ]
     },
     "metadata": {},
     "output_type": "display_data"
    },
    {
     "data": {
      "application/vnd.jupyter.widget-view+json": {
       "model_id": "",
       "version_major": 2,
       "version_minor": 0
      },
      "text/plain": [
       "Evaluating:   0%|          | 0/3 [00:00<?, ?it/s]"
      ]
     },
     "metadata": {},
     "output_type": "display_data"
    },
    {
     "name": "stdout",
     "output_type": "stream",
     "text": [
      "Precision: 0.7510 Recall: 0.7289, Accuracy: 0.7326: ,f1_score: 0.7325\n",
      "Classification Report:\n",
      "               precision    recall  f1-score   support\n",
      "\n",
      "           0       0.67      0.87      0.75        23\n",
      "           1       0.75      0.68      0.71        22\n",
      "           2       0.65      0.65      0.65        20\n",
      "           3       0.94      0.71      0.81        21\n",
      "\n",
      "    accuracy                           0.73        86\n",
      "   macro avg       0.75      0.73      0.73        86\n",
      "weighted avg       0.75      0.73      0.73        86\n",
      "\n",
      "Epoch: 86 | Epoch Time: 0m 2s\n",
      "\tTrain Loss: 0.844 | Train Acc: 72.31%\n",
      "\t Val. Loss: 0.797 |  Val. Acc: 73.20%\n"
     ]
    },
    {
     "data": {
      "application/vnd.jupyter.widget-view+json": {
       "model_id": "",
       "version_major": 2,
       "version_minor": 0
      },
      "text/plain": [
       "Training:   0%|          | 0/10 [00:00<?, ?it/s]"
      ]
     },
     "metadata": {},
     "output_type": "display_data"
    },
    {
     "data": {
      "application/vnd.jupyter.widget-view+json": {
       "model_id": "",
       "version_major": 2,
       "version_minor": 0
      },
      "text/plain": [
       "Evaluating:   0%|          | 0/3 [00:00<?, ?it/s]"
      ]
     },
     "metadata": {},
     "output_type": "display_data"
    },
    {
     "name": "stdout",
     "output_type": "stream",
     "text": [
      "Precision: 0.6916 Recall: 0.6865, Accuracy: 0.6860: ,f1_score: 0.6884\n",
      "Classification Report:\n",
      "               precision    recall  f1-score   support\n",
      "\n",
      "           0       0.62      0.65      0.64        23\n",
      "           1       0.73      0.73      0.73        22\n",
      "           2       0.78      0.70      0.74        20\n",
      "           3       0.64      0.67      0.65        21\n",
      "\n",
      "    accuracy                           0.69        86\n",
      "   macro avg       0.69      0.69      0.69        86\n",
      "weighted avg       0.69      0.69      0.69        86\n",
      "\n",
      "Epoch: 87 | Epoch Time: 0m 2s\n",
      "\tTrain Loss: 0.845 | Train Acc: 72.38%\n",
      "\t Val. Loss: 0.870 |  Val. Acc: 68.56%\n"
     ]
    },
    {
     "data": {
      "application/vnd.jupyter.widget-view+json": {
       "model_id": "",
       "version_major": 2,
       "version_minor": 0
      },
      "text/plain": [
       "Training:   0%|          | 0/10 [00:00<?, ?it/s]"
      ]
     },
     "metadata": {},
     "output_type": "display_data"
    },
    {
     "data": {
      "application/vnd.jupyter.widget-view+json": {
       "model_id": "",
       "version_major": 2,
       "version_minor": 0
      },
      "text/plain": [
       "Evaluating:   0%|          | 0/3 [00:00<?, ?it/s]"
      ]
     },
     "metadata": {},
     "output_type": "display_data"
    },
    {
     "name": "stdout",
     "output_type": "stream",
     "text": [
      "Precision: 0.7241 Recall: 0.7127, Accuracy: 0.7093: ,f1_score: 0.7079\n",
      "Classification Report:\n",
      "               precision    recall  f1-score   support\n",
      "\n",
      "           0       0.76      0.70      0.73        23\n",
      "           1       0.80      0.55      0.65        22\n",
      "           2       0.73      0.80      0.76        20\n",
      "           3       0.61      0.81      0.69        21\n",
      "\n",
      "    accuracy                           0.71        86\n",
      "   macro avg       0.72      0.71      0.71        86\n",
      "weighted avg       0.73      0.71      0.71        86\n",
      "\n",
      "Epoch: 88 | Epoch Time: 0m 2s\n",
      "\tTrain Loss: 0.784 | Train Acc: 75.75%\n",
      "\t Val. Loss: 0.843 |  Val. Acc: 72.06%\n"
     ]
    },
    {
     "data": {
      "application/vnd.jupyter.widget-view+json": {
       "model_id": "",
       "version_major": 2,
       "version_minor": 0
      },
      "text/plain": [
       "Training:   0%|          | 0/10 [00:00<?, ?it/s]"
      ]
     },
     "metadata": {},
     "output_type": "display_data"
    },
    {
     "data": {
      "application/vnd.jupyter.widget-view+json": {
       "model_id": "",
       "version_major": 2,
       "version_minor": 0
      },
      "text/plain": [
       "Evaluating:   0%|          | 0/3 [00:00<?, ?it/s]"
      ]
     },
     "metadata": {},
     "output_type": "display_data"
    },
    {
     "name": "stdout",
     "output_type": "stream",
     "text": [
      "Precision: 0.7936 Recall: 0.7940, Accuracy: 0.7907: ,f1_score: 0.7905\n",
      "Classification Report:\n",
      "               precision    recall  f1-score   support\n",
      "\n",
      "           0       0.81      0.74      0.77        23\n",
      "           1       0.84      0.73      0.78        22\n",
      "           2       0.75      0.90      0.82        20\n",
      "           3       0.77      0.81      0.79        21\n",
      "\n",
      "    accuracy                           0.79        86\n",
      "   macro avg       0.79      0.79      0.79        86\n",
      "weighted avg       0.80      0.79      0.79        86\n",
      "\n",
      "Epoch: 89 | Epoch Time: 0m 2s\n",
      "\tTrain Loss: 0.789 | Train Acc: 78.06%\n",
      "\t Val. Loss: 0.830 |  Val. Acc: 79.36%\n"
     ]
    },
    {
     "data": {
      "application/vnd.jupyter.widget-view+json": {
       "model_id": "",
       "version_major": 2,
       "version_minor": 0
      },
      "text/plain": [
       "Training:   0%|          | 0/10 [00:00<?, ?it/s]"
      ]
     },
     "metadata": {},
     "output_type": "display_data"
    },
    {
     "data": {
      "application/vnd.jupyter.widget-view+json": {
       "model_id": "",
       "version_major": 2,
       "version_minor": 0
      },
      "text/plain": [
       "Evaluating:   0%|          | 0/3 [00:00<?, ?it/s]"
      ]
     },
     "metadata": {},
     "output_type": "display_data"
    },
    {
     "name": "stdout",
     "output_type": "stream",
     "text": [
      "Precision: 0.7703 Recall: 0.7712, Accuracy: 0.7674: ,f1_score: 0.7675\n",
      "Classification Report:\n",
      "               precision    recall  f1-score   support\n",
      "\n",
      "           0       0.76      0.70      0.73        23\n",
      "           1       0.84      0.73      0.78        22\n",
      "           2       0.75      0.90      0.82        20\n",
      "           3       0.73      0.76      0.74        21\n",
      "\n",
      "    accuracy                           0.77        86\n",
      "   macro avg       0.77      0.77      0.77        86\n",
      "weighted avg       0.77      0.77      0.77        86\n",
      "\n",
      "Epoch: 90 | Epoch Time: 0m 2s\n",
      "\tTrain Loss: 0.843 | Train Acc: 76.13%\n",
      "\t Val. Loss: 0.845 |  Val. Acc: 76.80%\n"
     ]
    },
    {
     "data": {
      "application/vnd.jupyter.widget-view+json": {
       "model_id": "",
       "version_major": 2,
       "version_minor": 0
      },
      "text/plain": [
       "Training:   0%|          | 0/10 [00:00<?, ?it/s]"
      ]
     },
     "metadata": {},
     "output_type": "display_data"
    },
    {
     "data": {
      "application/vnd.jupyter.widget-view+json": {
       "model_id": "",
       "version_major": 2,
       "version_minor": 0
      },
      "text/plain": [
       "Evaluating:   0%|          | 0/3 [00:00<?, ?it/s]"
      ]
     },
     "metadata": {},
     "output_type": "display_data"
    },
    {
     "name": "stdout",
     "output_type": "stream",
     "text": [
      "Precision: 0.7935 Recall: 0.7951, Accuracy: 0.7907: ,f1_score: 0.7889\n",
      "Classification Report:\n",
      "               precision    recall  f1-score   support\n",
      "\n",
      "           0       0.89      0.74      0.81        23\n",
      "           1       0.74      0.64      0.68        22\n",
      "           2       0.78      0.90      0.84        20\n",
      "           3       0.76      0.90      0.83        21\n",
      "\n",
      "    accuracy                           0.79        86\n",
      "   macro avg       0.79      0.80      0.79        86\n",
      "weighted avg       0.80      0.79      0.79        86\n",
      "\n",
      "Epoch: 91 | Epoch Time: 0m 2s\n",
      "\tTrain Loss: 0.785 | Train Acc: 74.50%\n",
      "\t Val. Loss: 0.783 |  Val. Acc: 80.30%\n"
     ]
    },
    {
     "data": {
      "application/vnd.jupyter.widget-view+json": {
       "model_id": "",
       "version_major": 2,
       "version_minor": 0
      },
      "text/plain": [
       "Training:   0%|          | 0/10 [00:00<?, ?it/s]"
      ]
     },
     "metadata": {},
     "output_type": "display_data"
    },
    {
     "data": {
      "application/vnd.jupyter.widget-view+json": {
       "model_id": "",
       "version_major": 2,
       "version_minor": 0
      },
      "text/plain": [
       "Evaluating:   0%|          | 0/3 [00:00<?, ?it/s]"
      ]
     },
     "metadata": {},
     "output_type": "display_data"
    },
    {
     "name": "stdout",
     "output_type": "stream",
     "text": [
      "Precision: 0.7954 Recall: 0.7935, Accuracy: 0.7907: ,f1_score: 0.7916\n",
      "Classification Report:\n",
      "               precision    recall  f1-score   support\n",
      "\n",
      "           0       0.78      0.78      0.78        23\n",
      "           1       0.83      0.68      0.75        22\n",
      "           2       0.86      0.90      0.88        20\n",
      "           3       0.71      0.81      0.76        21\n",
      "\n",
      "    accuracy                           0.79        86\n",
      "   macro avg       0.80      0.79      0.79        86\n",
      "weighted avg       0.79      0.79      0.79        86\n",
      "\n",
      "Epoch: 92 | Epoch Time: 0m 2s\n",
      "\tTrain Loss: 0.814 | Train Acc: 74.19%\n",
      "\t Val. Loss: 0.777 |  Val. Acc: 79.36%\n"
     ]
    },
    {
     "data": {
      "application/vnd.jupyter.widget-view+json": {
       "model_id": "",
       "version_major": 2,
       "version_minor": 0
      },
      "text/plain": [
       "Training:   0%|          | 0/10 [00:00<?, ?it/s]"
      ]
     },
     "metadata": {},
     "output_type": "display_data"
    },
    {
     "data": {
      "application/vnd.jupyter.widget-view+json": {
       "model_id": "",
       "version_major": 2,
       "version_minor": 0
      },
      "text/plain": [
       "Evaluating:   0%|          | 0/3 [00:00<?, ?it/s]"
      ]
     },
     "metadata": {},
     "output_type": "display_data"
    },
    {
     "name": "stdout",
     "output_type": "stream",
     "text": [
      "Precision: 0.7691 Recall: 0.7555, Accuracy: 0.7558: ,f1_score: 0.7554\n",
      "Classification Report:\n",
      "               precision    recall  f1-score   support\n",
      "\n",
      "           0       0.70      0.83      0.76        23\n",
      "           1       0.88      0.64      0.74        22\n",
      "           2       0.79      0.75      0.77        20\n",
      "           3       0.71      0.81      0.76        21\n",
      "\n",
      "    accuracy                           0.76        86\n",
      "   macro avg       0.77      0.76      0.76        86\n",
      "weighted avg       0.77      0.76      0.76        86\n",
      "\n",
      "Epoch: 93 | Epoch Time: 0m 2s\n",
      "\tTrain Loss: 0.745 | Train Acc: 79.19%\n",
      "\t Val. Loss: 0.801 |  Val. Acc: 76.23%\n"
     ]
    },
    {
     "data": {
      "application/vnd.jupyter.widget-view+json": {
       "model_id": "",
       "version_major": 2,
       "version_minor": 0
      },
      "text/plain": [
       "Training:   0%|          | 0/10 [00:00<?, ?it/s]"
      ]
     },
     "metadata": {},
     "output_type": "display_data"
    },
    {
     "data": {
      "application/vnd.jupyter.widget-view+json": {
       "model_id": "",
       "version_major": 2,
       "version_minor": 0
      },
      "text/plain": [
       "Evaluating:   0%|          | 0/3 [00:00<?, ?it/s]"
      ]
     },
     "metadata": {},
     "output_type": "display_data"
    },
    {
     "name": "stdout",
     "output_type": "stream",
     "text": [
      "Precision: 0.7004 Recall: 0.7022, Accuracy: 0.6977: ,f1_score: 0.6972\n",
      "Classification Report:\n",
      "               precision    recall  f1-score   support\n",
      "\n",
      "           0       0.68      0.57      0.62        23\n",
      "           1       0.75      0.68      0.71        22\n",
      "           2       0.64      0.80      0.71        20\n",
      "           3       0.73      0.76      0.74        21\n",
      "\n",
      "    accuracy                           0.70        86\n",
      "   macro avg       0.70      0.70      0.70        86\n",
      "weighted avg       0.70      0.70      0.70        86\n",
      "\n",
      "Epoch: 94 | Epoch Time: 0m 2s\n",
      "\tTrain Loss: 0.759 | Train Acc: 79.94%\n",
      "\t Val. Loss: 0.841 |  Val. Acc: 70.55%\n"
     ]
    },
    {
     "data": {
      "application/vnd.jupyter.widget-view+json": {
       "model_id": "",
       "version_major": 2,
       "version_minor": 0
      },
      "text/plain": [
       "Training:   0%|          | 0/10 [00:00<?, ?it/s]"
      ]
     },
     "metadata": {},
     "output_type": "display_data"
    },
    {
     "data": {
      "application/vnd.jupyter.widget-view+json": {
       "model_id": "",
       "version_major": 2,
       "version_minor": 0
      },
      "text/plain": [
       "Evaluating:   0%|          | 0/3 [00:00<?, ?it/s]"
      ]
     },
     "metadata": {},
     "output_type": "display_data"
    },
    {
     "name": "stdout",
     "output_type": "stream",
     "text": [
      "Precision: 0.7891 Recall: 0.7835, Accuracy: 0.7791: ,f1_score: 0.7776\n",
      "Classification Report:\n",
      "               precision    recall  f1-score   support\n",
      "\n",
      "           0       0.81      0.57      0.67        23\n",
      "           1       0.74      0.91      0.82        22\n",
      "           2       0.89      0.85      0.87        20\n",
      "           3       0.71      0.81      0.76        21\n",
      "\n",
      "    accuracy                           0.78        86\n",
      "   macro avg       0.79      0.78      0.78        86\n",
      "weighted avg       0.79      0.78      0.77        86\n",
      "\n",
      "Epoch: 95 | Epoch Time: 0m 2s\n",
      "\tTrain Loss: 0.791 | Train Acc: 77.00%\n",
      "\t Val. Loss: 0.797 |  Val. Acc: 78.31%\n"
     ]
    },
    {
     "data": {
      "application/vnd.jupyter.widget-view+json": {
       "model_id": "",
       "version_major": 2,
       "version_minor": 0
      },
      "text/plain": [
       "Training:   0%|          | 0/10 [00:00<?, ?it/s]"
      ]
     },
     "metadata": {},
     "output_type": "display_data"
    },
    {
     "data": {
      "application/vnd.jupyter.widget-view+json": {
       "model_id": "",
       "version_major": 2,
       "version_minor": 0
      },
      "text/plain": [
       "Evaluating:   0%|          | 0/3 [00:00<?, ?it/s]"
      ]
     },
     "metadata": {},
     "output_type": "display_data"
    },
    {
     "name": "stdout",
     "output_type": "stream",
     "text": [
      "Precision: 0.7856 Recall: 0.7820, Accuracy: 0.7791: ,f1_score: 0.7818\n",
      "Classification Report:\n",
      "               precision    recall  f1-score   support\n",
      "\n",
      "           0       0.80      0.70      0.74        23\n",
      "           1       0.74      0.77      0.76        22\n",
      "           2       0.89      0.85      0.87        20\n",
      "           3       0.71      0.81      0.76        21\n",
      "\n",
      "    accuracy                           0.78        86\n",
      "   macro avg       0.79      0.78      0.78        86\n",
      "weighted avg       0.78      0.78      0.78        86\n",
      "\n",
      "Epoch: 96 | Epoch Time: 0m 2s\n",
      "\tTrain Loss: 0.814 | Train Acc: 74.56%\n",
      "\t Val. Loss: 0.780 |  Val. Acc: 78.31%\n"
     ]
    },
    {
     "data": {
      "application/vnd.jupyter.widget-view+json": {
       "model_id": "",
       "version_major": 2,
       "version_minor": 0
      },
      "text/plain": [
       "Training:   0%|          | 0/10 [00:00<?, ?it/s]"
      ]
     },
     "metadata": {},
     "output_type": "display_data"
    },
    {
     "data": {
      "application/vnd.jupyter.widget-view+json": {
       "model_id": "",
       "version_major": 2,
       "version_minor": 0
      },
      "text/plain": [
       "Evaluating:   0%|          | 0/3 [00:00<?, ?it/s]"
      ]
     },
     "metadata": {},
     "output_type": "display_data"
    },
    {
     "name": "stdout",
     "output_type": "stream",
     "text": [
      "Precision: 0.7717 Recall: 0.7678, Accuracy: 0.7674: ,f1_score: 0.7687\n",
      "Classification Report:\n",
      "               precision    recall  f1-score   support\n",
      "\n",
      "           0       0.71      0.74      0.72        23\n",
      "           1       0.85      0.77      0.81        22\n",
      "           2       0.79      0.75      0.77        20\n",
      "           3       0.74      0.81      0.77        21\n",
      "\n",
      "    accuracy                           0.77        86\n",
      "   macro avg       0.77      0.77      0.77        86\n",
      "weighted avg       0.77      0.77      0.77        86\n",
      "\n",
      "Epoch: 97 | Epoch Time: 0m 2s\n",
      "\tTrain Loss: 0.777 | Train Acc: 78.44%\n",
      "\t Val. Loss: 0.787 |  Val. Acc: 77.27%\n"
     ]
    },
    {
     "data": {
      "application/vnd.jupyter.widget-view+json": {
       "model_id": "",
       "version_major": 2,
       "version_minor": 0
      },
      "text/plain": [
       "Training:   0%|          | 0/10 [00:00<?, ?it/s]"
      ]
     },
     "metadata": {},
     "output_type": "display_data"
    },
    {
     "data": {
      "application/vnd.jupyter.widget-view+json": {
       "model_id": "",
       "version_major": 2,
       "version_minor": 0
      },
      "text/plain": [
       "Evaluating:   0%|          | 0/3 [00:00<?, ?it/s]"
      ]
     },
     "metadata": {},
     "output_type": "display_data"
    },
    {
     "name": "stdout",
     "output_type": "stream",
     "text": [
      "Precision: 0.7108 Recall: 0.7026, Accuracy: 0.6977: ,f1_score: 0.6953\n",
      "Classification Report:\n",
      "               precision    recall  f1-score   support\n",
      "\n",
      "           0       0.73      0.48      0.58        23\n",
      "           1       0.81      0.77      0.79        22\n",
      "           2       0.71      0.75      0.73        20\n",
      "           3       0.59      0.81      0.68        21\n",
      "\n",
      "    accuracy                           0.70        86\n",
      "   macro avg       0.71      0.70      0.70        86\n",
      "weighted avg       0.71      0.70      0.69        86\n",
      "\n",
      "Epoch: 98 | Epoch Time: 0m 2s\n",
      "\tTrain Loss: 0.730 | Train Acc: 80.75%\n",
      "\t Val. Loss: 0.773 |  Val. Acc: 71.02%\n"
     ]
    },
    {
     "data": {
      "application/vnd.jupyter.widget-view+json": {
       "model_id": "",
       "version_major": 2,
       "version_minor": 0
      },
      "text/plain": [
       "Training:   0%|          | 0/10 [00:00<?, ?it/s]"
      ]
     },
     "metadata": {},
     "output_type": "display_data"
    },
    {
     "data": {
      "application/vnd.jupyter.widget-view+json": {
       "model_id": "",
       "version_major": 2,
       "version_minor": 0
      },
      "text/plain": [
       "Evaluating:   0%|          | 0/3 [00:00<?, ?it/s]"
      ]
     },
     "metadata": {},
     "output_type": "display_data"
    },
    {
     "name": "stdout",
     "output_type": "stream",
     "text": [
      "Precision: 0.7825 Recall: 0.7815, Accuracy: 0.7791: ,f1_score: 0.7792\n",
      "Classification Report:\n",
      "               precision    recall  f1-score   support\n",
      "\n",
      "           0       0.81      0.74      0.77        23\n",
      "           1       0.84      0.73      0.78        22\n",
      "           2       0.74      0.85      0.79        20\n",
      "           3       0.74      0.81      0.77        21\n",
      "\n",
      "    accuracy                           0.78        86\n",
      "   macro avg       0.78      0.78      0.78        86\n",
      "weighted avg       0.78      0.78      0.78        86\n",
      "\n",
      "Epoch: 99 | Epoch Time: 0m 2s\n",
      "\tTrain Loss: 0.810 | Train Acc: 72.06%\n",
      "\t Val. Loss: 0.754 |  Val. Acc: 78.31%\n"
     ]
    },
    {
     "data": {
      "application/vnd.jupyter.widget-view+json": {
       "model_id": "",
       "version_major": 2,
       "version_minor": 0
      },
      "text/plain": [
       "Training:   0%|          | 0/10 [00:00<?, ?it/s]"
      ]
     },
     "metadata": {},
     "output_type": "display_data"
    },
    {
     "data": {
      "application/vnd.jupyter.widget-view+json": {
       "model_id": "",
       "version_major": 2,
       "version_minor": 0
      },
      "text/plain": [
       "Evaluating:   0%|          | 0/3 [00:00<?, ?it/s]"
      ]
     },
     "metadata": {},
     "output_type": "display_data"
    },
    {
     "name": "stdout",
     "output_type": "stream",
     "text": [
      "Precision: 0.8120 Recall: 0.8049, Accuracy: 0.8023: ,f1_score: 0.8026\n",
      "Classification Report:\n",
      "               precision    recall  f1-score   support\n",
      "\n",
      "           0       0.86      0.78      0.82        23\n",
      "           1       0.89      0.73      0.80        22\n",
      "           2       0.69      0.90      0.78        20\n",
      "           3       0.81      0.81      0.81        21\n",
      "\n",
      "    accuracy                           0.80        86\n",
      "   macro avg       0.81      0.80      0.80        86\n",
      "weighted avg       0.82      0.80      0.80        86\n",
      "\n",
      "Epoch: 100 | Epoch Time: 0m 2s\n",
      "\tTrain Loss: 0.770 | Train Acc: 76.13%\n",
      "\t Val. Loss: 0.783 |  Val. Acc: 80.40%\n"
     ]
    },
    {
     "data": {
      "image/png": "[encoded data removed]",
      "text/plain": [
       "<Figure size 640x480 with 1 Axes>"
      ]
     },
     "metadata": {},
     "output_type": "display_data"
    },
    {
     "data": {
      "image/png": "[encoded data removed]",
      "text/plain": [
       "<Figure size 640x480 with 1 Axes>"
      ]
     },
     "metadata": {},
     "output_type": "display_data"
    }
   ],
   "source": [
    "EPOCHS = 100\n",
    "\n",
    "best_valid_loss = float('inf')\n",
    "best_val_acc = 0.\n",
    "\n",
    "def count_parameters(model):\n",
    "    return sum(p.numel() for p in model.parameters() if p.requires_grad)\n",
    "\n",
    "print(f'The model has {count_parameters(model):,} trainable parameters')\n",
    "\n",
    "train_acc_gr = []\n",
    "train_loss_gr = []\n",
    "val_acc_gr = []\n",
    "val_loss_gr = []\n",
    "\n",
    "for epoch in trange(EPOCHS, desc=\"Epochs\"):\n",
    "\n",
    "    start_time = time.monotonic()\n",
    "\n",
    "    train_loss, train_acc, train_acc_gr, train_loss_gr = train(model, train_loader, optimizer, criterion, device)\n",
    "    valid_loss, valid_acc, val_acc_gr, val_loss_gr = evaluate(model, val_loader, criterion, device)\n",
    "    \n",
    "    if epoch % 30 == 0:\n",
    "        checkpoint_model(epoch, model, optimizer, best_val_acc, '/kaggle/working/CNN_epoch%d.pth' % epoch)\n",
    "\n",
    "\n",
    "    end_time = time.monotonic()\n",
    "\n",
    "    epoch_mins, epoch_secs = epoch_time(start_time, end_time)\n",
    "\n",
    "    print(f'Epoch: {epoch+1:02} | Epoch Time: {epoch_mins}m {epoch_secs}s')\n",
    "    print(f'\\tTrain Loss: {train_loss:.3f} | Train Acc: {train_acc*100:.2f}%')\n",
    "    print(f'\\t Val. Loss: {valid_loss:.3f} |  Val. Acc: {valid_acc*100:.2f}%')\n",
    "\n",
    "\n",
    "plt.plot(train_acc_gr,'-o')\n",
    "plt.plot(val_acc_gr,'-o')\n",
    "plt.xlabel('epoch')\n",
    "plt.ylabel('accuracy')\n",
    "plt.legend(['Train','Valid'])\n",
    "plt.title('Train vs Valid Accuracy')\n",
    "plt.show()\n",
    "\n",
    "plt.plot(train_loss_gr,'-o')\n",
    "plt.plot(val_loss_gr,'-o')\n",
    "plt.xlabel('epoch')\n",
    "plt.ylabel('losses')\n",
    "plt.legend(['Train','Valid'])\n",
    "plt.title('Train vs Valid Losses')\n",
    "plt.show()"
   ]
  },
  {
   "cell_type": "code",
   "execution_count": 20,
   "metadata": {
    "execution": {
     "iopub.execute_input": "2024-04-13T09:32:47.805373Z",
     "iopub.status.busy": "2024-04-13T09:32:47.805026Z",
     "iopub.status.idle": "2024-04-13T09:32:48.395394Z",
     "shell.execute_reply": "2024-04-13T09:32:48.394481Z",
     "shell.execute_reply.started": "2024-04-13T09:32:47.805340Z"
    }
   },
   "outputs": [
    {
     "data": {
      "application/vnd.jupyter.widget-view+json": {
       "model_id": "",
       "version_major": 2,
       "version_minor": 0
      },
      "text/plain": [
       "Evaluating:   0%|          | 0/3 [00:00<?, ?it/s]"
      ]
     },
     "metadata": {},
     "output_type": "display_data"
    },
    {
     "name": "stdout",
     "output_type": "stream",
     "text": [
      "Precision: 0.7939 Recall: 0.7945, Accuracy: 0.7907: ,f1_score: 0.7898\n",
      "Classification Report:\n",
      "               precision    recall  f1-score   support\n",
      "\n",
      "           0       0.81      0.74      0.77        23\n",
      "           1       0.83      0.68      0.75        22\n",
      "           2       0.75      0.90      0.82        20\n",
      "           3       0.78      0.86      0.82        21\n",
      "\n",
      "    accuracy                           0.79        86\n",
      "   macro avg       0.79      0.79      0.79        86\n",
      "weighted avg       0.80      0.79      0.79        86\n",
      "\n"
     ]
    }
   ],
   "source": [
    "epoch_loss = 0\n",
    "epoch_acc = 0\n",
    "image_preds_all = []\n",
    "image_targets_all = []\n",
    "\n",
    "model.eval()\n",
    "\n",
    "with torch.no_grad():\n",
    "\n",
    "    for (x, y) in tqdm(val_loader, desc=\"Evaluating\", leave=False):\n",
    "\n",
    "        x = x.to(device).float()\n",
    "        y = y.to(device).long()\n",
    "\n",
    "        y_pred = model(x)\n",
    "\n",
    "        image_preds_all += [torch.argmax(y_pred, 1).detach().cpu().numpy()]\n",
    "        image_targets_all += [y.detach().cpu().numpy()]\n",
    "\n",
    "        loss = criterion(y_pred, y)\n",
    "\n",
    "        acc = calculate_accuracy(y_pred, y)\n",
    "\n",
    "        epoch_loss += loss.item()\n",
    "        epoch_acc += acc.item()\n",
    "\n",
    "image_preds_all = np.concatenate(image_preds_all)\n",
    "image_targets_all = np.concatenate(image_targets_all)\n",
    "score = (image_preds_all==image_targets_all).mean()\n",
    "\n",
    "performance_matrix(image_targets_all, image_preds_all)"
   ]
  },
  {
   "cell_type": "code",
   "execution_count": 36,
   "metadata": {
    "execution": {
     "iopub.execute_input": "2024-04-13T09:38:51.335186Z",
     "iopub.status.busy": "2024-04-13T09:38:51.334842Z",
     "iopub.status.idle": "2024-04-13T09:38:51.576520Z",
     "shell.execute_reply": "2024-04-13T09:38:51.575598Z",
     "shell.execute_reply.started": "2024-04-13T09:38:51.335162Z"
    }
   },
   "outputs": [
    {
     "data": {
      "image/png": "[encoded data removed]",
      "text/plain": [
       "<Figure size 640x480 with 1 Axes>"
      ]
     },
     "metadata": {},
     "output_type": "display_data"
    }
   ],
   "source": [
    "import matplotlib.pyplot as plt\n",
    "from PIL import Image  # PIL is used to handle image loading\n",
    "\n",
    "# Define the path to the image file in your output folder\n",
    "image_path = '/kaggle/working/data1/test/Kobe Bryant/kobe_(67).jpg'\n",
    "\n",
    "# Load the image using PIL\n",
    "image = Image.open(image_path)\n",
    "\n",
    "# Display the image using matplotlib\n",
    "plt.imshow(image)\n",
    "plt.axis('off')  # Turn off axis labels\n",
    "plt.show()"
   ]
  },
  {
   "cell_type": "code",
   "execution_count": 37,
   "metadata": {
    "execution": {
     "iopub.execute_input": "2024-04-13T09:38:52.369252Z",
     "iopub.status.busy": "2024-04-13T09:38:52.368534Z",
     "iopub.status.idle": "2024-04-13T09:38:52.387838Z",
     "shell.execute_reply": "2024-04-13T09:38:52.386839Z",
     "shell.execute_reply.started": "2024-04-13T09:38:52.369220Z"
    }
   },
   "outputs": [
    {
     "name": "stdout",
     "output_type": "stream",
     "text": [
      "Predicted Class: Kobe Bryant\n"
     ]
    }
   ],
   "source": [
    "import torch\n",
    "from torchvision import transforms\n",
    "from PIL import Image\n",
    "import numpy as np\n",
    "\n",
    "# Define the transformations for the input image\n",
    "test_transform = transforms.Compose([\n",
    "    transforms.Resize((256, 256)),  # Resize the image to 256x256\n",
    "    transforms.ToTensor(),  # Convert the image to a PyTorch tensor\n",
    "])\n",
    "\n",
    "# Load the image from its path\n",
    "image_path = \"/kaggle/working/data1/test/Kobe Bryant/kobe_(67).jpg\"  # Replace this with the actual image path\n",
    "image = Image.open(image_path).convert(\"RGB\")\n",
    "\n",
    "# Apply the transformations to the image\n",
    "input_image = test_transform(image).unsqueeze(0)  # Add batch dimension\n",
    "\n",
    "# Move the input image to GPU if available\n",
    "device = torch.device(\"cuda\" if torch.cuda.is_available() else \"cpu\")\n",
    "input_image = input_image.to(device)\n",
    "\n",
    "# Perform the inference to get the predictions\n",
    "with torch.no_grad():\n",
    "    model.eval()\n",
    "    output = model(input_image)\n",
    "    predicted_class = torch.argmax(output, 1).item()\n",
    "\n",
    "# Convert the predicted class index to a human-readable label\n",
    "# Assuming you have a list of class names like ['class1', 'class2', 'class3', 'class4']\n",
    "class_names = ['Kane Williamson', 'Kobe Bryant', 'Maria Sharapova', 'Ronaldo']  # Replace with your actual class names\n",
    "predicted_label = class_names[predicted_class]\n",
    "\n",
    "print(\"Predicted Class:\", predicted_label)"
   ]
  },
  {
   "cell_type": "code",
   "execution_count": null,
   "metadata": {},
   "outputs": [],
   "source": []
  }
 ],
 "metadata": {
  "kaggle": {
   "accelerator": "nvidiaTeslaT4",
   "dataSources": [
    {
     "datasetId": 1748001,
     "sourceId": 2855258,
     "sourceType": "datasetVersion"
    }
   ],
   "dockerImageVersionId": 30684,
   "isGpuEnabled": true,
   "isInternetEnabled": true,
   "language": "python",
   "sourceType": "notebook"
  },
  "kernelspec": {
   "display_name": "Python 3 (ipykernel)",
   "language": "python",
   "name": "python3"
  },
  "language_info": {
   "codemirror_mode": {
    "name": "ipython",
    "version": 3
   },
   "file_extension": ".py",
   "mimetype": "text/x-python",
   "name": "python",
   "nbconvert_exporter": "python",
   "pygments_lexer": "ipython3",
   "version": "3.11.7"
  }
 },
 "nbformat": 4,
 "nbformat_minor": 4
}
